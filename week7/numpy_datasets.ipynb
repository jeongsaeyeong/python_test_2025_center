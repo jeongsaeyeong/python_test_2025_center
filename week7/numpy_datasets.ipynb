{
 "cells": [
  {
   "cell_type": "markdown",
   "metadata": {},
   "source": [
    "### Numpy 라이브러리를 활용한 공개 데이터 분석"
   ]
  },
  {
   "cell_type": "code",
   "execution_count": 1,
   "metadata": {},
   "outputs": [
    {
     "name": "stdout",
     "output_type": "stream",
     "text": [
      "데이터 모양: (1599, 12)\n",
      "품질 점수 평균: 5.64\n",
      "품질 점수 표준편차: 0.81\n",
      "최저 품질 점수: 3.0\n",
      "최고 품질 점수: 8.0\n",
      "알코올 함량과 품질 간의 상관계수: 0.48\n"
     ]
    }
   ],
   "source": [
    "\"\"\" \n",
    "Numpy 활용 공개 데이터 분석 - UCI Wine Quality\n",
    "\"\"\"\n",
    "import numpy as np\n",
    "\n",
    "# 데이터 로드 (UCI 저장소에서 직접 다운로드)\n",
    "url = \"https://archive.ics.uci.edu/ml/machine-learning-databases/wine-quality/winequality-red.csv\"\n",
    "data = np.genfromtxt(url, delimiter=';', skip_header=1)\n",
    "\n",
    "print(f\"데이터 모양: {data.shape}\")  # (1599, 12) -> 1599개 샘플, 11개 특징, 1개 목표\n",
    "\n",
    "# 품질 점수 (마지막 열) 추출 및 통계 계산\n",
    "quality = data[:, -1]  # 마지막 열이 품질 점수\n",
    "print(f\"품질 점수 평균: {np.mean(quality):.2f}\")\n",
    "print(f\"품질 점수 표준편차: {np.std(quality):.2f}\")\n",
    "print(f\"최저 품질 점수: {np.min(quality)}\")\n",
    "print(f\"최고 품질 점수: {np.max(quality)}\")\n",
    "\n",
    "# 알코올 함량(열 index 10)과 품질 간의 상관관계 조사\n",
    "alcohol = data[:, 10]\n",
    "correlation = np.corrcoef(alcohol, quality)[0, 1] # C_alchohol_quality 수치만 획득\n",
    "print(f\"알코올 함량과 품질 간의 상관계수: {correlation:.2f}\")\n"
   ]
  },
  {
   "cell_type": "code",
   "execution_count": 8,
   "metadata": {},
   "outputs": [
    {
     "name": "stdout",
     "output_type": "stream",
     "text": [
      "원본 데이터 형상:  (1460, 81)\n",
      "추출한 데이터 형상: (1460, 5)\n",
      "특성별 평균값 (OverallQual, GrLivArea, GarageCars, TotalBsmtSF, SalePrice): [6.09931507e+00 1.51546370e+03 1.76712329e+00 1.05742945e+03\n",
      " 1.80921196e+05]\n",
      "품질 1의 평균 집값: 50150.00\n",
      "품질 2의 평균 집값: 51770.33\n",
      "품질 3의 평균 집값: 87473.75\n",
      "품질 4의 평균 집값: 108420.66\n",
      "품질 5의 평균 집값: 133523.35\n",
      "품질 6의 평균 집값: 161603.03\n",
      "품질 7의 평균 집값: 207716.42\n",
      "품질 8의 평균 집값: 274735.54\n",
      "품질 9의 평균 집값: 367513.02\n",
      "품질 10의 평균 집값: 438588.39\n",
      "거실+지하실 면적과 집값 간 상관계수: 0.78\n"
     ]
    }
   ],
   "source": [
    "\"\"\" \n",
    "Numpy 활용 공개 데이터 분석 - Kaggle House Prices\n",
    "\"\"\"\n",
    "\n",
    "import numpy as np\n",
    "import pandas as pd\n",
    "\n",
    "# 1. 데이터 불러오기\n",
    "data = pd.read_csv(\"house_prices.csv\")\n",
    "print(\"원본 데이터 형상: \", data.shape)  # (1460, 81)\n",
    "\n",
    "# 2. 필요한 열 추출 및 NumPy 배열로 변환 (집의 품질, 거실 면적, 차고 개수, 지하실 면적, 집값)\n",
    "np_data = data[['OverallQual', 'GrLivArea', 'GarageCars', 'TotalBsmtSF', 'SalePrice']].to_numpy()\n",
    "print(\"추출한 데이터 형상:\", np_data.shape)  # (1460, 5)\n",
    "\n",
    "# 3. 결측치(missing data) 처리: 결측값이 있는 행 제거\n",
    "np_data = np_data[~np.isnan(np_data).any(axis=1)]   # nan: not a number, axis=1: 행 기준(열방향)\n",
    "\n",
    "# 4. 통계 분석: 각 특성의 평균값 계산\n",
    "means = np.mean(np_data, axis=0)    # axis=0: 열 기준(행방향)\n",
    "print(f\"특성별 평균값 (OverallQual, GrLivArea, GarageCars, TotalBsmtSF, SalePrice): {means}\")\n",
    "\n",
    "# 5. 집의 품질(1 ~ 9)별 평균 집값 계산\n",
    "unique_qualities = np.unique(np_data[:, 0])\n",
    "for quality in unique_qualities:\n",
    "    quality_data = np_data[np_data[:, 0] == quality]\n",
    "    avg_price = np.mean(quality_data[:, -1])\n",
    "    print(f\"품질 {int(quality)}의 평균 집값: {avg_price:.2f}\")\n",
    "\n",
    "# 6. 집의 면적(거실+지하실)과 집값 간 상관관계 계산\n",
    "total_area = np_data[:, 1] + np_data[:, 3]  # 거실 면적 + 지하실 면적\n",
    "sale_price = np_data[:, -1]  # 집값\n",
    "\n",
    "correlation = np.corrcoef(total_area, sale_price)[0, 1]\n",
    "print(f\"거실+지하실 면적과 집값 간 상관계수: {correlation:.2f}\")"
   ]
  }
 ],
 "metadata": {
  "kernelspec": {
   "display_name": "base",
   "language": "python",
   "name": "python3"
  },
  "language_info": {
   "codemirror_mode": {
    "name": "ipython",
    "version": 3
   },
   "file_extension": ".py",
   "mimetype": "text/x-python",
   "name": "python",
   "nbconvert_exporter": "python",
   "pygments_lexer": "ipython3",
   "version": "3.12.2"
  }
 },
 "nbformat": 4,
 "nbformat_minor": 2
}

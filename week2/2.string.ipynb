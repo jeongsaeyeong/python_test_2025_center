{
 "cells": [
  {
   "cell_type": "markdown",
   "metadata": {},
   "source": [
    "### String"
   ]
  },
  {
   "cell_type": "code",
   "execution_count": 3,
   "metadata": {},
   "outputs": [
    {
     "name": "stdout",
     "output_type": "stream",
     "text": [
      "HelloWorld!\n",
      "str_1_len: 5\n",
      "str_2_len: 6\n"
     ]
    }
   ],
   "source": [
    "\"\"\"\n",
    "문자열 (String)\n",
    "\"\"\"\n",
    "str_1 = 'Hello'\n",
    "str_2 = 'World!'\n",
    "\n",
    "print(str_1 + str_2) # Concatenation\n",
    "print(\"str_1_len:\", len(str_1))\n",
    "print(\"str_2_len:\", len(str_2))"
   ]
  },
  {
   "cell_type": "code",
   "execution_count": 1,
   "metadata": {},
   "outputs": [
    {
     "name": "stdout",
     "output_type": "stream",
     "text": [
      "msg_1: 우리는 \"Python\" 활용을 배웁니다!\n",
      "msg_2: 우리는 'Python' 활용을 배웁니다!\n",
      "msg_1: Python's popularity is getting high.\n",
      "msg_2: \"Python is easy.\" he says.\n"
     ]
    }
   ],
   "source": [
    "\"\"\"\n",
    "문자열 - 큰 따옴표, 작은 따옴표를 문자 그대로 문자열에 반영\n",
    "\"\"\"\n",
    "msg_1 = '우리는 \"Python\" 활용을 배웁니다!'\n",
    "msg_2 = \"우리는 'Python' 활용을 배웁니다!\"\n",
    "print(\"msg_1:\", msg_1)\n",
    "print(\"msg_2:\", msg_2)\n",
    "\n",
    "msg_3 = \"Python\\'s popularity is getting high.\" # 백슬래시 활용\n",
    "msg_4 = \"\\\"Python is easy.\\\" he says.\"\n",
    "print(\"msg_1:\", msg_3)\n",
    "print(\"msg_2:\", msg_4)"
   ]
  },
  {
   "cell_type": "code",
   "execution_count": 5,
   "metadata": {},
   "outputs": [
    {
     "name": "stdout",
     "output_type": "stream",
     "text": [
      "Life is too short.\n",
      "You need Python!\n",
      "\n",
      "Life is too short.\n",
      "You need Python!\n",
      "\n"
     ]
    }
   ],
   "source": [
    "\"\"\"\n",
    "문자열 - 여러 줄로 구성돤 문장을 문자열로 저장\n",
    "\"\"\"\n",
    "multi_str1 = \"Life is too short.\\nYou need Python!\"\n",
    "multi_str2 = \"\"\"\n",
    "Life is too short.\n",
    "You need Python!\n",
    "\"\"\" \n",
    "print(multi_str1)\n",
    "print(multi_str2)"
   ]
  },
  {
   "cell_type": "code",
   "execution_count": 14,
   "metadata": {},
   "outputs": [
    {
     "name": "stdout",
     "output_type": "stream",
     "text": [
      "Python\n",
      "is\n",
      "quite\n",
      "good.\n",
      "Python\tis\tquite\tgood.\n",
      "This string is Null: \u0000\n"
     ]
    }
   ],
   "source": [
    "# 문자열 - 이스케이프 코드 (Escape Code)\n",
    "# \\n, \\t, \\\\, \\', \\\", \\r, \\f, \\a, \\b, \\000 \n",
    "print(\"Python\\nis\\nquite\\ngood.\")\n",
    "print(\"Python\\tis\\tquite\\tgood.\")\n",
    "print(\"This string is Null: \\000\")"
   ]
  },
  {
   "cell_type": "code",
   "execution_count": 2,
   "metadata": {},
   "outputs": [
    {
     "name": "stdout",
     "output_type": "stream",
     "text": [
      "Pythonis good!\n",
      "Python~~Python~~\n",
      "========================================\n",
      "Python Basics Part 1\n",
      "========================================\n"
     ]
    }
   ],
   "source": [
    "# 문자열 - 연결, 반복\n",
    "head = \"Python\"\n",
    "tail = \"is good!\"\n",
    "print(head + tail)\n",
    "\n",
    "a = \"Python~~\" # 반복\n",
    "print(a*2)\n",
    "\n",
    "print(\"=\"*40) # 반복 응용\n",
    "print(\"Python Basics Part 1\")\n",
    "print(\"=\"*40)"
   ]
  },
  {
   "cell_type": "code",
   "execution_count": null,
   "metadata": {},
   "outputs": [
    {
     "name": "stdout",
     "output_type": "stream",
     "text": [
      "e\n",
      "L\n",
      "!\n",
      "t\n",
      "Life\n",
      "You need Python!\n",
      "Life is too short\n",
      "Life is too short. You need Python!\n",
      "You need \n"
     ]
    }
   ],
   "source": [
    "# 문자열 - 인덱싱, 슬라이싱\n",
    "a = \"Life is too short. You need Python!\"\n",
    "\n",
    "print(a[3])     # indexing\n",
    "print(a[-0])    # same as print(a[0])\n",
    "print(a[-1])    # last character\n",
    "print(a[-5])    # 뒤에서 다섯번째 문자\n",
    "\n",
    "print(a[0:4])   # slicing: 시작번호, 끝번호 => 끝번호 이전까지만 접근\n",
    "print(a[19:])   # index 19부터 문자열 끝까지 접근, 공백도 문자로 인식\n",
    "print(a[:17])   # index 0 ~ 16까지 접근\n",
    "print(a[:])     # 전체 문자열 접근\n",
    "print(a[19:-7]) # index 19부터 뒤에서 8번째 인덱스까지 접근"
   ]
  },
  {
   "cell_type": "code",
   "execution_count": null,
   "metadata": {},
   "outputs": [
    {
     "name": "stdout",
     "output_type": "stream",
     "text": [
      "i\n"
     ]
    },
    {
     "ename": "TypeError",
     "evalue": "'str' object does not support item assignment",
     "output_type": "error",
     "traceback": [
      "\u001b[1;31m---------------------------------------------------------------------------\u001b[0m",
      "\u001b[1;31mTypeError\u001b[0m                                 Traceback (most recent call last)",
      "Cell \u001b[1;32mIn[29], line 4\u001b[0m\n\u001b[0;32m      2\u001b[0m a \u001b[38;5;241m=\u001b[39m \u001b[38;5;124m'\u001b[39m\u001b[38;5;124mPithon\u001b[39m\u001b[38;5;124m'\u001b[39m\n\u001b[0;32m      3\u001b[0m \u001b[38;5;28mprint\u001b[39m(a[\u001b[38;5;241m1\u001b[39m])\n\u001b[1;32m----> 4\u001b[0m a[\u001b[38;5;241m1\u001b[39m] \u001b[38;5;241m=\u001b[39m \u001b[38;5;124m'\u001b[39m\u001b[38;5;124my\u001b[39m\u001b[38;5;124m'\u001b[39m\n",
      "\u001b[1;31mTypeError\u001b[0m: 'str' object does not support item assignment"
     ]
    }
   ],
   "source": [
    "# 문자열 - 임의 문자 수정\n",
    "a = 'Pithon'\n",
    "print(a[1])\n",
    "a[1] = 'y' # 결과는? => 불변형(immutable) 자료형"
   ]
  },
  {
   "cell_type": "code",
   "execution_count": null,
   "metadata": {},
   "outputs": [
    {
     "data": {
      "text/plain": [
       "'Python'"
      ]
     },
     "execution_count": 31,
     "metadata": {},
     "output_type": "execute_result"
    }
   ],
   "source": [
    "# 문자열 - 임의 문자 수정 \n",
    "# 실습: 그럼 어떻게 수정할 수 있을까?\n",
    "# 힌트: 슬라이스 활용\n",
    "a = 'Pithon'\n",
    "a = a[:1] + 'y' + a[2:]\n",
    "a"
   ]
  },
  {
   "cell_type": "code",
   "execution_count": 39,
   "metadata": {},
   "outputs": [
    {
     "name": "stdout",
     "output_type": "stream",
     "text": [
      "I have 3 laptop computers.\n",
      "I have three laptop computers.\n",
      "I have 10 apples.\n",
      "I ate 10 oranges in one day and got sick for three days.\n",
      "Error is approximately 98%.\n"
     ]
    }
   ],
   "source": [
    "# 문자열 - farmatting 1\n",
    "# 문자열 포맷 코드: %s, %c, %d, %f, %o, %x, %%\n",
    "a = \"I have %d laptop computers.\" % 3\n",
    "print(a)\n",
    "\n",
    "a = \"I have %s laptop computers.\"  % \"three\"\n",
    "print(a)\n",
    "\n",
    "num = 10\n",
    "a = \"I have %d apples.\" % num\n",
    "print(a)\n",
    "\n",
    "num = 10 \n",
    "day = \"three\"\n",
    "a = \"I ate %d oranges in one day and got sick for %s days.\" %(num, day)\n",
    "print(a)\n",
    "\n",
    "num = 98 # 98%\n",
    "a = \"Error is approximately %d%%.\" % num\n",
    "print(a)"
   ]
  },
  {
   "cell_type": "code",
   "execution_count": null,
   "metadata": {},
   "outputs": [
    {
     "name": "stdout",
     "output_type": "stream",
     "text": [
      "        hi\n",
      "hi        \n",
      "3.4213\n",
      "    3.4213\n"
     ]
    }
   ],
   "source": [
    "# 문자열 - formatting 2\n",
    "print(\"%10s\" % \"hi\")  # 전체 길이가 10인 문자열에서 hi을 오른쪽으로 정렬\n",
    "print(\"%-10s\" % \"hi\") # 전체 길이가 10인 문자열에서 hi을 왼쪽으로 정렬\n",
    "\n",
    "print(\"%0.4f\" % 3.42134234)  # 실수의 소수점 4자리까지말 표현\n",
    "print(\"%10.4f\" % 3.42134234) # 전체 길이가 10인 문자열에서 오른쪽으로 정렬하고, 소수점 4자리까지만 표현"
   ]
  },
  {
   "cell_type": "code",
   "execution_count": 64,
   "metadata": {},
   "outputs": [
    {
     "name": "stdout",
     "output_type": "stream",
     "text": [
      "I ate 10 oranges in one day and got sick for three days.\n"
     ]
    }
   ],
   "source": [
    "# 문자열 - formatting 3 (고급)\n",
    "# {0}: 1st variable\n",
    "# {1}: 2nd variable\n",
    "print(\"I ate {0} oranges in one day and got sick for {1} days.\".format(10, 'three'))"
   ]
  },
  {
   "cell_type": "code",
   "execution_count": null,
   "metadata": {},
   "outputs": [
    {
     "name": "stdout",
     "output_type": "stream",
     "text": [
      "2\n",
      "-1\n",
      "6\n",
      "1\n",
      "HI THERE\n",
      "hi there\n",
      "hi\n",
      "hi\n",
      "h\n"
     ]
    }
   ],
   "source": [
    "# 문자열 - 관련 함수 1: count, find, index\n",
    "a = \"appreciate\"\n",
    "print(a.count('p'))   # 문자열에서 p의 개수\n",
    "print(a.find('b'))    # 문자열에서 b가 처음나온 위치, 존재하지 않으면 -1 리턴\n",
    "print(a.find('i'))    # 문자열에서 i가 처음나온 위치, 존재하지 않으면 -1 리턴\n",
    "\n",
    "b = 'Life is good.'\n",
    "print(b.index('i'))   # 문자열에서 i가 처음나온 인덱스 반환 => find와 기능 동일\n",
    "\n",
    "c = \",\"\n",
    "c.join(\"abcdefghijk\") # 문자열의 각 문자 사이에 ','을 삽입"
   ]
  },
  {
   "cell_type": "code",
   "execution_count": 58,
   "metadata": {},
   "outputs": [
    {
     "name": "stdout",
     "output_type": "stream",
     "text": [
      "HI THERE\n",
      "hi there\n",
      "hi\n",
      "hi\n",
      "hi\n"
     ]
    }
   ],
   "source": [
    "# 문자열 - 관련 함수 2: upper, lower, lstrip, rstrip, strip\n",
    "d = \"hi there\"\n",
    "print(d.upper()) # 주어진 문자열을 모두 대문자로 변경\n",
    "d = \"HI THERE\"\n",
    "print(d.lower()) # 주어진 문자열을 모두 소문자로 변경\n",
    "\n",
    "e = \"  hi\"\n",
    "print(e.lstrip()) # 왼쪽 공백 제거\n",
    "e = \"hi  \"\n",
    "print(e.rstrip()) # 오른쪽 공백 제거\n",
    "e = \"  hi  \"\n",
    "print(e.strip())  # 양쪽 공백 제거"
   ]
  },
  {
   "cell_type": "code",
   "execution_count": null,
   "metadata": {},
   "outputs": [
    {
     "name": "stdout",
     "output_type": "stream",
     "text": [
      "Your measuring tape is too short!\n",
      "['Life', 'is', 'too', 'short!']\n",
      "['a', 'b', 'c', 'd']\n"
     ]
    }
   ],
   "source": [
    "# 문자열 - 관련 함수 3: replace, split\n",
    "a = \"Life is too short!\"\n",
    "print(a.replace(\"Life\", \"Your measuring tape\")) # Life => Your measuring tape\n",
    "\n",
    "b = \"Life is too short!\"\n",
    "print(b.split())    # 공백을 기준으로 문자열 분리하고 리스트에 저장하여 리턴\n",
    "\n",
    "c = \"a:b:c:d\"\n",
    "print(c.split(':')) # :을 기준으로 문자열 분리하고 리스트에 저장하여 리턴"
   ]
  },
  {
   "cell_type": "code",
   "execution_count": 6,
   "metadata": {},
   "outputs": [
    {
     "name": "stdout",
     "output_type": "stream",
     "text": [
      "test\n"
     ]
    }
   ],
   "source": [
    "\"\"\"\n",
    "문자열 사용자 입력 받아 출력\n",
    "\"\"\"\n",
    "msg_str = input(\"아무 문자열이나 입력하시오: \")\n",
    "print(msg_str)"
   ]
  },
  {
   "cell_type": "code",
   "execution_count": null,
   "metadata": {},
   "outputs": [
    {
     "name": "stdout",
     "output_type": "stream",
     "text": [
      "##################################\n",
      "#\t\t\t\t #\n",
      "#\t 중고생 과외 광고\t #\n",
      "#\t\t\t\t #\n",
      "##################################\n",
      "저는 성신여자대학교 1 학과에 재학중입니다.\n",
      "1 과 1 과목을 일주일에 1 회 집중 과외가 가능합니다.\n",
      "상기 조건으로 1 만원 학생을 모집하고 있으니, 1 으로 연락주세요.\n"
     ]
    },
    {
     "data": {
      "text/plain": [
       "'\\n원하는 결과\\n#######################################\\n#                                     #\\n# 중고생 과외 광고                     #\\n#                                     #\\n#######################################\\n저는 성신여자대학교 OOOO학과에 재학중입니다.\\nOOO과 OOO 과목을 일주일에 O회 집중 과외가 가능합니다.\\n상기 조건으로 OO만원 학생을 모집하고 있으니, OOOO으로 연락주세요.\\n'"
      ]
     },
     "execution_count": 7,
     "metadata": {},
     "output_type": "execute_result"
    }
   ],
   "source": [
    "\"\"\"\n",
    "문자열 다수 입력으로 과외 광고 만들기\n",
    "\"\"\"\n",
    "major = input(\"전공 학과는?: \")\n",
    "course_1 = input(\"과외 과목 1은?: \")\n",
    "course_2 = input(\"과외 과목 2은?: \")\n",
    "time = input(\"일주일에 몇회 수업?: \")\n",
    "cost = input(\"과외 비용은?: \")\n",
    "contact = input(\"연락처는?: \")\n",
    "\n",
    "print(\"##################################\")\n",
    "print(\"#\\t\\t\\t\\t #\")\n",
    "print(\"#\\t 중고생 과외 광고\\t #\")\n",
    "print(\"#\\t\\t\\t\\t #\")\n",
    "print(\"##################################\")\n",
    "\n",
    "print(\"저는 성신여자대학교\", major, \"학과에 재학중입니다.\")\n",
    "print(course_1, \"과\", course_2, \"과목을 일주일에\", time, \"회 집중 과외가 가능합니다.\")\n",
    "print(\"상기 조건으로\", cost, \"만원 학생을 모집하고 있으니,\", contact, \"으로 연락주세요.\")\n",
    "\n",
    "\"\"\"\n",
    "원하는 결과\n",
    "#######################################\n",
    "#                                     #\n",
    "# 중고생 과외 광고                        #\n",
    "#                                     #\n",
    "#######################################\n",
    "저는 성신여자대학교 OOOO학과에 재학중입니다.\n",
    "OOO과 OOO 과목을 일주일에 O회 집중 과외가 가능합니다.\n",
    "상기 조건으로 OO만원 학생을 모집하고 있으니, OOOO으로 연락주세요.\n",
    "\"\"\""
   ]
  },
  {
   "cell_type": "code",
   "execution_count": 3,
   "metadata": {},
   "outputs": [
    {
     "name": "stdout",
     "output_type": "stream",
     "text": [
      "300 과 700 의 합은 300700 입니다\n",
      "300 과 700 의 합은 1000 입니다\n"
     ]
    }
   ],
   "source": [
    "\"\"\"\n",
    "정수 값 300과 700을 각각 입력 받고 출력\n",
    "\"\"\"\n",
    "num_1 = input(\"아무 정수 값이나 입력하세요: \")\n",
    "num_2 = input(\"아무 정수 값이나 입력하세요: \")\n",
    "sum = num_1 + num_2\n",
    "print(num_1, \"과\", num_2, \"의 합은\", sum, \"입니다\")\n",
    "\n",
    "\"\"\"\n",
    "정수 값 300과 700을 각각 입력 받고 출력\n",
    "\"\"\"\n",
    "num_1 = int(input(\"아무 정수 값이나 입력하세요: \"))\n",
    "num_2 = int(input(\"아무 정수 값이나 입력하세요: \"))\n",
    "sum = num_1 + num_2 \n",
    "print(num_1, \"과\", num_2, \"의 합은\", sum, \"입니다\")"
   ]
  },
  {
   "cell_type": "code",
   "execution_count": 11,
   "metadata": {},
   "outputs": [
    {
     "name": "stdout",
     "output_type": "stream",
     "text": [
      "mhr: 190\n"
     ]
    }
   ],
   "source": [
    "# BMI 코드를 셀이 아니라 bmi_cal.py에 작성하고,\n",
    "# Jupyter Notebook 코드 셀에서 실행시켜 보자!\n",
    "\n",
    "!python bmi_cal.py"
   ]
  }
 ],
 "metadata": {
  "kernelspec": {
   "display_name": "base",
   "language": "python",
   "name": "python3"
  },
  "language_info": {
   "codemirror_mode": {
    "name": "ipython",
    "version": 3
   },
   "file_extension": ".py",
   "mimetype": "text/x-python",
   "name": "python",
   "nbconvert_exporter": "python",
   "pygments_lexer": "ipython3",
   "version": "3.12.2"
  }
 },
 "nbformat": 4,
 "nbformat_minor": 2
}

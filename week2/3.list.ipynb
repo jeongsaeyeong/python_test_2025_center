{
 "cells": [
  {
   "cell_type": "markdown",
   "metadata": {},
   "source": [
    "### 자료형 - 리스트"
   ]
  },
  {
   "cell_type": "code",
   "execution_count": 2,
   "metadata": {},
   "outputs": [
    {
     "name": "stdout",
     "output_type": "stream",
     "text": [
      "[]\n",
      "[1, 2, 3]\n",
      "['Life', 'is', 'too', 'short', 'but', 'tough']\n",
      "[1, 2, 'Where', 'is', 'my', 'phone?']\n",
      "[1, 2, ['Who', 'is', 'calling?']]\n"
     ]
    }
   ],
   "source": [
    "# 리스트 정의\n",
    "a = []  # same as a = list()\n",
    "b = [1, 2, 3]\n",
    "c = ['Life', 'is', 'too', 'short', 'but', 'tough']\n",
    "d = [1, 2, 'Where', 'is', 'my', 'phone?']\n",
    "e = [1, 2, ['Who', 'is', 'calling?']]\n",
    "\n",
    "print(a)\n",
    "print(b)\n",
    "print(c)\n",
    "print(d)\n",
    "print(e)"
   ]
  },
  {
   "cell_type": "code",
   "execution_count": 37,
   "metadata": {},
   "outputs": [
    {
     "data": {
      "text/plain": [
       "list"
      ]
     },
     "execution_count": 37,
     "metadata": {},
     "output_type": "execute_result"
    }
   ],
   "source": [
    "# 리스트 자료형 체크\n",
    "# output: <class 'list'>\n",
    "type(e)"
   ]
  },
  {
   "cell_type": "code",
   "execution_count": 26,
   "metadata": {},
   "outputs": [
    {
     "name": "stdout",
     "output_type": "stream",
     "text": [
      "[0, 1, 2, 3, 4]\n",
      "[0, 1, 2, 3, 4]\n",
      "[2, 3, 4]\n",
      "[0, 1, 2, 3, 4]\n",
      "[0, 2, 4]\n"
     ]
    }
   ],
   "source": [
    "# 리스트 정의\n",
    "a = list(range(5)) # 0 ~ 4까지의 정수를 생성\n",
    "print(a)\n",
    "\n",
    "a = list(range(0,5))\n",
    "print(a)\n",
    "\n",
    "a = list(range(2,5))\n",
    "print(a)\n",
    "\n",
    "a = list(range(0,5,1)) # step 1\n",
    "print(a)\n",
    "\n",
    "a = list(range(0,5,2)) # step 2\n",
    "print(a)"
   ]
  },
  {
   "cell_type": "code",
   "execution_count": null,
   "metadata": {},
   "outputs": [
    {
     "name": "stdout",
     "output_type": "stream",
     "text": [
      "2050459527488\n",
      "2050459527488\n",
      "2050459361728\n"
     ]
    }
   ],
   "source": [
    "# 리스트 복사\n",
    "my_list = [1, 2, 3, 4]\n",
    "your_list = my_list               # 같은 리스트를 참조함, 따라서 리스트 객체가 저장되는 메모리 주소가 동일\n",
    "another_list = list(my_list)      # 같은 리스트를 참조하지 않음, 따라서 리스트 객체가 저장되는 메모리 주소가 다름\n",
    "\n",
    "print(id(my_list)) \n",
    "print(id(your_list))\n",
    "print(id(another_list))"
   ]
  },
  {
   "cell_type": "markdown",
   "metadata": {},
   "source": [
    "### 인덱싱과 슬라이싱"
   ]
  },
  {
   "cell_type": "code",
   "execution_count": 13,
   "metadata": {},
   "outputs": [
    {
     "data": {
      "text/plain": [
       "3"
      ]
     },
     "execution_count": 13,
     "metadata": {},
     "output_type": "execute_result"
    }
   ],
   "source": [
    "# 단일 리스트 인덱싱\n",
    "a = [1, 2, 3]\n",
    "a[0]\n",
    "a[-1]"
   ]
  },
  {
   "cell_type": "code",
   "execution_count": 12,
   "metadata": {},
   "outputs": [
    {
     "data": {
      "text/plain": [
       "'a'"
      ]
     },
     "execution_count": 12,
     "metadata": {},
     "output_type": "execute_result"
    }
   ],
   "source": [
    "# 이중 리스트 인덱싱\n",
    "b = [1,2,3,['a','b','c']]\n",
    "b[-1][0]"
   ]
  },
  {
   "cell_type": "code",
   "execution_count": 15,
   "metadata": {},
   "outputs": [
    {
     "data": {
      "text/plain": [
       "'File'"
      ]
     },
     "execution_count": 15,
     "metadata": {},
     "output_type": "execute_result"
    }
   ],
   "source": [
    "# 삼중 리스트 인덱싱\n",
    "c = [1, 2, ['a', 'b', ['File', 'is']]]\n",
    "c[2][2][0]"
   ]
  },
  {
   "cell_type": "code",
   "execution_count": 2,
   "metadata": {},
   "outputs": [
    {
     "data": {
      "text/plain": [
       "'12'"
      ]
     },
     "execution_count": 2,
     "metadata": {},
     "output_type": "execute_result"
    }
   ],
   "source": [
    "# 리스트 슬라이싱\n",
    "a = [1,2,3,4,5]\n",
    "a[0:2]\n",
    "\n",
    "# 문자열 슬라이싱\n",
    "str = '12345'\n",
    "str[0:2]"
   ]
  },
  {
   "cell_type": "code",
   "execution_count": 21,
   "metadata": {},
   "outputs": [
    {
     "data": {
      "text/plain": [
       "['a', 'b']"
      ]
     },
     "execution_count": 21,
     "metadata": {},
     "output_type": "execute_result"
    }
   ],
   "source": [
    "# 중첩 리스트 슬라이싱\n",
    "a = [1, 2, 3, ['a','b','c'], 4, 5]\n",
    "a[3][:2]\n"
   ]
  },
  {
   "cell_type": "code",
   "execution_count": 31,
   "metadata": {},
   "outputs": [
    {
     "name": "stdout",
     "output_type": "stream",
     "text": [
      "[1, 2, 3, 'a', 'b', 'c']\n",
      "[1, 2, 3, 'a', 'b', 'c']\n"
     ]
    }
   ],
   "source": [
    "# 리스트 연산자 - 병합\n",
    "a = [1, 2, 3]\n",
    "b = ['a', 'b', 'c']\n",
    "print(a + b)\n",
    "\n",
    "c = [1, 2, 3] + ['a', 'b', 'c']\n",
    "print(c)"
   ]
  },
  {
   "cell_type": "code",
   "execution_count": 30,
   "metadata": {},
   "outputs": [
    {
     "data": {
      "text/plain": [
       "[1, 2, 3, 1, 2, 3, 1, 2, 3]"
      ]
     },
     "execution_count": 30,
     "metadata": {},
     "output_type": "execute_result"
    }
   ],
   "source": [
    "# 리스트 연산자 - 반복\n",
    "a = [1, 2, 3]\n",
    "a * 3"
   ]
  },
  {
   "cell_type": "code",
   "execution_count": 3,
   "metadata": {},
   "outputs": [],
   "source": [
    "# 리스트 요소 - 수정\n",
    "a = [1, 2, 3]\n",
    "a[1:2] = ['a', 'b', 'c']\n",
    "\n",
    "b = [1, 2, 3]\n",
    "b[1] = ['a', 'b', 'c']"
   ]
  },
  {
   "cell_type": "code",
   "execution_count": 4,
   "metadata": {},
   "outputs": [
    {
     "name": "stdout",
     "output_type": "stream",
     "text": [
      "[1, 'a', 'b', 'c', 3]\n",
      "[1, ['a', 'b', 'c'], 3]\n"
     ]
    }
   ],
   "source": [
    "print(a)\n",
    "print(b)"
   ]
  },
  {
   "cell_type": "code",
   "execution_count": 6,
   "metadata": {},
   "outputs": [
    {
     "data": {
      "text/plain": [
       "[1, 100]"
      ]
     },
     "execution_count": 6,
     "metadata": {},
     "output_type": "execute_result"
    }
   ],
   "source": [
    "# 리스트 요소 다루기 - 삭제\n",
    "a = [1, 'abc', 100]\n",
    "del a[1]\n",
    "a"
   ]
  },
  {
   "cell_type": "code",
   "execution_count": 5,
   "metadata": {},
   "outputs": [
    {
     "data": {
      "text/plain": [
       "[1]"
      ]
     },
     "execution_count": 5,
     "metadata": {},
     "output_type": "execute_result"
    }
   ],
   "source": [
    "# 리스트 요소 다루기 - 삭제\n",
    "a = [1, 'abc', 100]\n",
    "a[1:3] = []\n",
    "a"
   ]
  },
  {
   "cell_type": "code",
   "execution_count": 13,
   "metadata": {},
   "outputs": [
    {
     "name": "stdout",
     "output_type": "stream",
     "text": [
      "[1, 2, 1, 2, 3]\n",
      "[1, 2, 1, 2]\n"
     ]
    }
   ],
   "source": [
    "# 리스트 요소 다루기 - 삭제\n",
    "a= [1,2,3]\n",
    "b = a*2\n",
    "\n",
    "b.remove(3) # 첫번째 3만 삭제, 자동 정렬\n",
    "print(b)\n",
    "\n",
    "b.remove(3) # 두번째 3 삭제, 자동 정렬 \n",
    "print(b)"
   ]
  },
  {
   "cell_type": "code",
   "execution_count": 17,
   "metadata": {},
   "outputs": [
    {
     "name": "stdout",
     "output_type": "stream",
     "text": [
      "[1, 2]\n",
      "[1, 3]\n"
     ]
    }
   ],
   "source": [
    "# 리스트 요소 다루기 - 삭제\n",
    "a = [1, 2, 3]\n",
    "a.pop()\n",
    "print(a)\n",
    "\n",
    "a = [1, 2, 3]\n",
    "a.pop(1)\n",
    "print(a)"
   ]
  },
  {
   "cell_type": "code",
   "execution_count": 5,
   "metadata": {},
   "outputs": [
    {
     "data": {
      "text/plain": [
       "[1, 2, 3, 4]"
      ]
     },
     "execution_count": 5,
     "metadata": {},
     "output_type": "execute_result"
    }
   ],
   "source": [
    "# 리스트 요소 다루기 - 추가(append)\n",
    "a = [1, 2, 3]\n",
    "a.append(4)\n",
    "a"
   ]
  },
  {
   "cell_type": "code",
   "execution_count": 7,
   "metadata": {},
   "outputs": [
    {
     "data": {
      "text/plain": [
       "[1, 100, 2, 3]"
      ]
     },
     "execution_count": 7,
     "metadata": {},
     "output_type": "execute_result"
    }
   ],
   "source": [
    "# 리스트 요소 다루기 - 삽입(insert)\n",
    "a = [1, 2, 3]\n",
    "a.insert(1,100)\n",
    "a"
   ]
  },
  {
   "cell_type": "code",
   "execution_count": 7,
   "metadata": {},
   "outputs": [
    {
     "name": "stdout",
     "output_type": "stream",
     "text": [
      "[1, 2, 3, 4]\n",
      "[4, 3, 2, 1]\n",
      "[1, 4, 3, 2]\n",
      "[1, 2, 3, 4]\n",
      "[4, 3, 2, 1]\n"
     ]
    },
    {
     "data": {
      "text/plain": [
       "\"\\n# sorted(): 내부에 리스트가 있으면 지원 X\\n\\na = [1, 4, ['b','a', 'c', 10], 3, 2]\\n#a = [1, 4, [100, 1000, 20, 9], 3, 2]\\nb = sorted(a)\\nc = sorted(a, reverse=True)\\n\\nprint(a)\\nprint(b)\\nprint(c)\\n\""
      ]
     },
     "execution_count": 7,
     "metadata": {},
     "output_type": "execute_result"
    }
   ],
   "source": [
    "# 리스트 관련 그 외 함수들 - 정렬\n",
    "a = [1, 4, 3, 2]\n",
    "a.sort() # List Method, 오름차순 정렬, reverse=False가 기본 설정\n",
    "print(a) \n",
    "\n",
    "a = [1, 4, 3, 2]\n",
    "a.sort(reverse=True) # 내림차순 정렬\n",
    "print(a)\n",
    "\n",
    "a = [1, 4, 3, 2]\n",
    "b = sorted(a) # 내장함수: List, Tuple, String 등에 모두 사용 가능\n",
    "c = sorted(a, reverse=True)\n",
    "print(a)\n",
    "print(b)\n",
    "print(c)\n",
    "\n",
    "\"\"\"\n",
    "# sorted(): 내부에 리스트가 있으면 지원 X\n",
    "\n",
    "a = [1, 4, ['b','a', 'c', 10], 3, 2]\n",
    "#a = [1, 4, [100, 1000, 20, 9], 3, 2]\n",
    "b = sorted(a)\n",
    "c = sorted(a, reverse=True)\n",
    "\n",
    "print(a)\n",
    "print(b)\n",
    "print(c)\n",
    "\"\"\""
   ]
  },
  {
   "cell_type": "code",
   "execution_count": null,
   "metadata": {},
   "outputs": [
    {
     "name": "stdout",
     "output_type": "stream",
     "text": [
      "[2, 3, 4, 1]\n"
     ]
    },
    {
     "data": {
      "text/plain": [
       "3"
      ]
     },
     "execution_count": 6,
     "metadata": {},
     "output_type": "execute_result"
    }
   ],
   "source": [
    "# 리스트 관련 그 외 함수들 - 뒤집기, 위치 반환\n",
    "a = [1, 4, 3, 2]\n",
    "a.reverse()\n",
    "print(a)\n",
    "\n",
    "a = [1, 4, 3, 2]\n",
    "a.index(2)"
   ]
  },
  {
   "cell_type": "code",
   "execution_count": 48,
   "metadata": {},
   "outputs": [
    {
     "name": "stdout",
     "output_type": "stream",
     "text": [
      "[1, 4, 3, 2]\n",
      "[1, 2, 3, 4, 5, 6]\n",
      "6\n",
      "6\n",
      "1\n",
      "21\n",
      "True\n",
      "False\n",
      "False\n"
     ]
    }
   ],
   "source": [
    "# 리스트 관련 그 외 함수들 - 카운팅, 확장, 길이, 계산, 최소 하나의 True 요소 유무 \n",
    "a = [1, 4, 3, 2]\n",
    "a.count(1) # 값이 1인 요소의 개수\n",
    "print(a)\n",
    "\n",
    "a = [1, 2, 3, 4]\n",
    "a.extend([5, 6]) # 오직 리스트만 확장 가능\n",
    "print(a)\n",
    "\n",
    "print(len(a))\n",
    "print(max(a))\n",
    "print(min(a))\n",
    "print(sum(a))\n",
    "\n",
    "print(any(a)) # 0이 아닌 원소가 하나라도 있으면 True 반환\n",
    "b = [0]\n",
    "print(any(b))\n",
    "c = [0, '']\n",
    "print(any(c)) # 하나의 요소라도 True인 값이 있으면 True 반환"
   ]
  },
  {
   "cell_type": "code",
   "execution_count": 7,
   "metadata": {},
   "outputs": [
    {
     "name": "stdout",
     "output_type": "stream",
     "text": [
      "[1, 4, 3, 2]\n",
      "[1, 2, 3, 4, 5, 6]\n",
      "6\n",
      "6\n",
      "1\n",
      "21\n",
      "True\n",
      "False\n",
      "False\n"
     ]
    }
   ],
   "source": [
    "# 리스트 관련 그 외 함수들 - 카운팅, 확장, 길이, 계산, 최소 하나의 True 요소 유무 \n",
    "a = [1, 4, 3, 2]\n",
    "a.count(1) # 값이 1인 요소의 개수\n",
    "print(a)\n",
    "\n",
    "a = [1, 2, 3, 4]\n",
    "a.extend([5, 6]) # 오직 리스트만 확장 가능\n",
    "print(a)\n",
    "\n",
    "print(len(a))\n",
    "print(max(a))\n",
    "print(min(a))\n",
    "print(sum(a))\n",
    "\n",
    "print(any(a)) # 0이 아닌 원소가 하나라도 있으면 True 반환\n",
    "b = [0]\n",
    "print(any(b))\n",
    "c = [0, '']\n",
    "print(any(c))"
   ]
  },
  {
   "cell_type": "code",
   "execution_count": 22,
   "metadata": {},
   "outputs": [
    {
     "name": "stdout",
     "output_type": "stream",
     "text": [
      "태국\n",
      "미국\n",
      "미국\n"
     ]
    }
   ],
   "source": [
    "# 리스트 실습 1 - 입력 받아서 여행 국가 리스트로 정리\n",
    "\n",
    "countries = []\n",
    "name = input(\"첫번째 여행지를 입력하세요: \")\n",
    "countries.append(name)\n",
    "name = input(\"두번째 여행지를 입력하세요: \")\n",
    "countries.append(name)\n",
    "name = input(\"세번째 여행지를 입력하세요: \")\n",
    "countries.append(name)\n",
    "\n",
    "print(countries[0])\n",
    "print(countries[1])\n",
    "print(countries[2])"
   ]
  },
  {
   "cell_type": "code",
   "execution_count": 39,
   "metadata": {},
   "outputs": [
    {
     "data": {
      "text/plain": [
       "[['Lee', 30], ['Moon', 40], ['Kim', 52], ['Park', 27]]"
      ]
     },
     "execution_count": 39,
     "metadata": {},
     "output_type": "execute_result"
    }
   ],
   "source": [
    "# 리스트 실습 2 - 여러 사람의 이름과 나이를 하나의 리스트에 저장\n",
    "people = [['Lee', 30], ['Moon', 40], ['Kim', 52], ['Park', 27]]\n",
    "people"
   ]
  },
  {
   "cell_type": "code",
   "execution_count": 27,
   "metadata": {},
   "outputs": [
    {
     "name": "stdout",
     "output_type": "stream",
     "text": [
      "작은 변화가 큰 기회를 가져올 수 있는 날입니다.\n"
     ]
    }
   ],
   "source": [
    "# 리스트 실습 3 - 오늘의 운세 문구를 랜덤으로 골라서 제공\n",
    "import random\n",
    "\n",
    "fortune = []\n",
    "\n",
    "fortune.append(\"작은 변화가 큰 기회를 가져올 수 있는 날입니다.\")\n",
    "fortune.append(\"자신감을 가지고 나아가세요.\")\n",
    "fortune.append(\"잠시 멈추고 주변을 돌아보세요.\")\n",
    "fortune.append(\"오늘은 평소와는 다른 방법으로 문제를 해결해보세요.\")\n",
    "fortune.append(\"작은 친절이 큰 행운을 불러옵니다.\")\n",
    "\n",
    "print(random.choice(fortune))\n"
   ]
  },
  {
   "cell_type": "code",
   "execution_count": 8,
   "metadata": {},
   "outputs": [
    {
     "name": "stdout",
     "output_type": "stream",
     "text": [
      "True\n",
      "False\n"
     ]
    },
    {
     "data": {
      "text/plain": [
       "1"
      ]
     },
     "execution_count": 8,
     "metadata": {},
     "output_type": "execute_result"
    }
   ],
   "source": [
    "# 리스트 연산 - 조건문\n",
    "my_list = ['james', 'moon', 'castle', 'Virtual', 2, 100, 1] \n",
    "print('moon' in my_list)\n",
    "print('moon' not in my_list)\n",
    "\n",
    "my_list.index('moon')"
   ]
  },
  {
   "cell_type": "code",
   "execution_count": 63,
   "metadata": {},
   "outputs": [
    {
     "name": "stdout",
     "output_type": "stream",
     "text": [
      "james\n",
      "moon\n",
      "castle\n",
      "Virtual\n",
      "2\n",
      "100\n",
      "1\n"
     ]
    }
   ],
   "source": [
    "# 리스트 연산 - 반복문\n",
    "for x in my_list:\n",
    "    print(x)"
   ]
  },
  {
   "cell_type": "code",
   "execution_count": 59,
   "metadata": {},
   "outputs": [
    {
     "name": "stdout",
     "output_type": "stream",
     "text": [
      "[1, 4, 9, 16, 25]\n"
     ]
    },
    {
     "data": {
      "text/plain": [
       "[0, 2, 4, 6, 8]"
      ]
     },
     "execution_count": 59,
     "metadata": {},
     "output_type": "execute_result"
    }
   ],
   "source": [
    "# 리스트 함축 - List Comprehension: 반복문, 반복문 & 조건문\n",
    "\n",
    "print([x**2 for x in [1, 2, 3, 4, 5]])\n",
    "\n",
    "[x for x in range(10) if x % 2 == 0]"
   ]
  },
  {
   "cell_type": "code",
   "execution_count": null,
   "metadata": {},
   "outputs": [
    {
     "data": {
      "text/plain": [
       "['324324', '11898', '1834']"
      ]
     },
     "execution_count": 64,
     "metadata": {},
     "output_type": "execute_result"
    }
   ],
   "source": [
    "# 리스트 실습 4 - 한 번에 정수를 여러개 입력 받고, 각 정수를 하나의 리스트에 저장\n",
    "# 만약 정수가 아닌 값이 들어오면 리스트에 저장하지 않는다.\n",
    "[x for x in input(\"정수를 여러개 입력해 보세요: \").split() if x.isdigit()]"
   ]
  }
 ],
 "metadata": {
  "kernelspec": {
   "display_name": "Python 3",
   "language": "python",
   "name": "python3"
  },
  "language_info": {
   "codemirror_mode": {
    "name": "ipython",
    "version": 3
   },
   "file_extension": ".py",
   "mimetype": "text/x-python",
   "name": "python",
   "nbconvert_exporter": "python",
   "pygments_lexer": "ipython3",
   "version": "3.12.6"
  }
 },
 "nbformat": 4,
 "nbformat_minor": 2
}

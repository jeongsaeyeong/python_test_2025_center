{
 "cells": [
  {
   "cell_type": "markdown",
   "metadata": {},
   "source": [
    "### 8. 조건문"
   ]
  },
  {
   "cell_type": "code",
   "execution_count": 1,
   "metadata": {},
   "outputs": [
    {
     "name": "stdout",
     "output_type": "stream",
     "text": [
      "x는 50보다 크군요!\n"
     ]
    }
   ],
   "source": [
    "# 기본 조건문\n",
    "x = 100\n",
    "if x > 50:\n",
    "    print(\"x는 50보다 크군요!\")"
   ]
  },
  {
   "cell_type": "code",
   "execution_count": 7,
   "metadata": {},
   "outputs": [
    {
     "name": "stdout",
     "output_type": "stream",
     "text": [
      "조금만 더 해 봅시다!\n"
     ]
    }
   ],
   "source": [
    "# 배타적 조건문\n",
    "score = int(input(\"점수를 입력하세요: \"))\n",
    "if score >= 85:\n",
    "    print(\"우수한 실력이네요!\")\n",
    "elif score < 85 and score >= 75:\n",
    "    print(\"잠재력이 높은 점수입니다~!\")  \n",
    "else:\n",
    "    print(\"도전을 멈추지 마세요~!\")"
   ]
  },
  {
   "cell_type": "code",
   "execution_count": 9,
   "metadata": {},
   "outputs": [
    {
     "name": "stdout",
     "output_type": "stream",
     "text": [
      "잠재력이 높은 점수입니다!\n",
      "그리고 고지가 바로 코앞이네요~!\n"
     ]
    }
   ],
   "source": [
    "# 조건문의 조건문\n",
    "score = int(input(\"점수를 입력하세요: \"))\n",
    "if score >= 85:\n",
    "    print(\"우수한 실력이네요!\")\n",
    "elif score < 85 and score >= 75:\n",
    "    print(\"잠재력이 높은 점수입니다!\")  \n",
    "    if score >= 78:\n",
    "        print(\"그리고 고지가 바로 코앞이네요~!\")\n",
    "    else:\n",
    "        print(\"그런데 한번 더 도전해봅시다~!\")\n",
    "else:\n",
    "    print(\"도전을 멈추지 마세요~!\")"
   ]
  },
  {
   "cell_type": "code",
   "execution_count": 13,
   "metadata": {},
   "outputs": [
    {
     "name": "stdout",
     "output_type": "stream",
     "text": [
      "뒷면입니다.\n"
     ]
    }
   ],
   "source": [
    "# 동전 던지기\n",
    "import random\n",
    "coin = random.randrange(2)\n",
    "if coin == 0:\n",
    "    print(\"앞면입니다.\")\n",
    "else:\n",
    "    print(\"뒷면입니다.\")"
   ]
  },
  {
   "cell_type": "code",
   "execution_count": 17,
   "metadata": {},
   "outputs": [
    {
     "name": "stdout",
     "output_type": "stream",
     "text": [
      "여러분이 승자입니다: User 6 > Computer 3\n"
     ]
    }
   ],
   "source": [
    "# 주사위 던지기\n",
    "import random\n",
    "player_1 = int(input(\"주사위를 굴려 나온 번호를 입력: \"))\n",
    "player_2 = random.randint(1,6)\n",
    "if player_1 > player_2:\n",
    "    print(\"여러분이 승자입니다: User %d > Computer %d\" %(player_1, player_2))\n",
    "elif player_1 < player_2:\n",
    "    print(\"컴퓨터가 승자입니다: User %d < Computer %d\" %(player_1, player_2))\n",
    "else:\n",
    "    print(\"무승분입니다: User %d == Computer %d\" %(player_1, player_2))"
   ]
  }
 ],
 "metadata": {
  "kernelspec": {
   "display_name": "base",
   "language": "python",
   "name": "python3"
  },
  "language_info": {
   "codemirror_mode": {
    "name": "ipython",
    "version": 3
   },
   "file_extension": ".py",
   "mimetype": "text/x-python",
   "name": "python",
   "nbconvert_exporter": "python",
   "pygments_lexer": "ipython3",
   "version": "3.9.7"
  }
 },
 "nbformat": 4,
 "nbformat_minor": 2
}

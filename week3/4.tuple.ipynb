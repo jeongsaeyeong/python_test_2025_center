{
 "cells": [
  {
   "cell_type": "markdown",
   "metadata": {},
   "source": [
    "### Tuple"
   ]
  },
  {
   "cell_type": "code",
   "execution_count": null,
   "metadata": {},
   "outputs": [
    {
     "name": "stdout",
     "output_type": "stream",
     "text": [
      "a의 초기 id: 4460923128\n",
      "a의 변경 후 id: 4460923288\n",
      "s의 초기 id: 4507116784\n",
      "s의 변경 후 id: 4512480880\n"
     ]
    }
   ],
   "source": [
    "# 불변 자료형: int\n",
    "a = 10\n",
    "print(\"a의 초기 id:\", id(a))  # 객체 id 확인\n",
    "\n",
    "# 기존 객체를 수정하는 게 아니라, 새로운 객체를 만듦\n",
    "a = a + 5  \n",
    "print(\"a의 변경 후 id:\", id(a))\n",
    "\n",
    "# 불변 자료형: str\n",
    "s = \"hello\"\n",
    "print(\"s의 초기 id:\", id(s))\n",
    "\n",
    "# 새로운 문자열 객체 생성\n",
    "s = s + \" world\"   \n",
    "print(\"s의 변경 후 id:\", id(s))"
   ]
  },
  {
   "cell_type": "code",
   "execution_count": 43,
   "metadata": {},
   "outputs": [
    {
     "name": "stdout",
     "output_type": "stream",
     "text": [
      "()\n",
      "(100,)\n",
      "(1, 2, 3)\n",
      "(1, 2, 3)\n",
      "('a', 'b', ('ab', 'cd'))\n",
      "(1, 2, ('a', 3, 'b'), 4)\n"
     ]
    }
   ],
   "source": [
    "# 튜플 - 다양한 정의\n",
    "\n",
    "t1 = ()      # 빈 튜플 생성\n",
    "t2 = (100, ) # 하나의 원소인 경우 반드시 comma 필요\n",
    "t3 = (1, 2, 3)\n",
    "t4 = 1, 2, 3 # 괄호 생략 가능\n",
    "t5 = ('a', 'b', ('ab','cd')) # 중첩된 튜플 정의 가능\n",
    "t6 = (1, 2, ('a', 3, 'b'), 4) # 상이한 데이터 타입으로 튜플 정의 가능\n",
    "\n",
    "print(t1)\n",
    "print(t2)\n",
    "print(t3)\n",
    "print(t4)\n",
    "print(t5)\n",
    "print(t6)"
   ]
  },
  {
   "cell_type": "code",
   "execution_count": 44,
   "metadata": {},
   "outputs": [
    {
     "name": "stdout",
     "output_type": "stream",
     "text": [
      "2368311699056\n",
      "2368311371760\n"
     ]
    }
   ],
   "source": [
    "# 문자열 - 불연속성(immutable) 자료형\n",
    "\n",
    "msg = \"test completed\"\n",
    "len(msg)\n",
    "msg[0]\n",
    "print(id(msg))\n",
    "\n",
    "msg = msg + \"!!!\"\n",
    "print(id(msg))"
   ]
  },
  {
   "cell_type": "code",
   "execution_count": 45,
   "metadata": {},
   "outputs": [
    {
     "ename": "TypeError",
     "evalue": "'tuple' object doesn't support item deletion",
     "output_type": "error",
     "traceback": [
      "\u001b[1;31m---------------------------------------------------------------------------\u001b[0m",
      "\u001b[1;31mTypeError\u001b[0m                                 Traceback (most recent call last)",
      "Cell \u001b[1;32mIn[45], line 3\u001b[0m\n\u001b[0;32m      1\u001b[0m \u001b[38;5;66;03m# 튜플 - 삭제 시 오류 (immutable object)\u001b[39;00m\n\u001b[0;32m      2\u001b[0m t1 \u001b[38;5;241m=\u001b[39m (\u001b[38;5;241m1\u001b[39m, \u001b[38;5;241m2\u001b[39m, \u001b[38;5;124m'\u001b[39m\u001b[38;5;124ma\u001b[39m\u001b[38;5;124m'\u001b[39m, \u001b[38;5;124m'\u001b[39m\u001b[38;5;124mb\u001b[39m\u001b[38;5;124m'\u001b[39m)\n\u001b[1;32m----> 3\u001b[0m \u001b[38;5;28;01mdel\u001b[39;00m t1[\u001b[38;5;241m0\u001b[39m]\n",
      "\u001b[1;31mTypeError\u001b[0m: 'tuple' object doesn't support item deletion"
     ]
    }
   ],
   "source": [
    "# 튜플 - 삭제 시 오류 (immutable object)\n",
    "t1 = (1, 2, 'a', 'b')\n",
    "del t1[0] # tuple은 요소를 삭제하는 것이 지원되지 않음"
   ]
  },
  {
   "cell_type": "code",
   "execution_count": 14,
   "metadata": {},
   "outputs": [
    {
     "ename": "TypeError",
     "evalue": "'tuple' object does not support item assignment",
     "output_type": "error",
     "traceback": [
      "\u001b[1;31m---------------------------------------------------------------------------\u001b[0m",
      "\u001b[1;31mTypeError\u001b[0m                                 Traceback (most recent call last)",
      "Cell \u001b[1;32mIn[14], line 3\u001b[0m\n\u001b[0;32m      1\u001b[0m \u001b[38;5;66;03m# 튜플 - 변경 시 오류\u001b[39;00m\n\u001b[0;32m      2\u001b[0m t1 \u001b[38;5;241m=\u001b[39m (\u001b[38;5;241m1\u001b[39m, \u001b[38;5;241m2\u001b[39m, \u001b[38;5;124m'\u001b[39m\u001b[38;5;124ma\u001b[39m\u001b[38;5;124m'\u001b[39m, \u001b[38;5;124m'\u001b[39m\u001b[38;5;124mb\u001b[39m\u001b[38;5;124m'\u001b[39m)\n\u001b[1;32m----> 3\u001b[0m t1[\u001b[38;5;241m0\u001b[39m] \u001b[38;5;241m=\u001b[39m \u001b[38;5;124m'\u001b[39m\u001b[38;5;124mc\u001b[39m\u001b[38;5;124m'\u001b[39m\n",
      "\u001b[1;31mTypeError\u001b[0m: 'tuple' object does not support item assignment"
     ]
    }
   ],
   "source": [
    "# 튜플 - 변경 시 오류 (immutable object)\n",
    "t1 = (1, 2, 'a', 'b')\n",
    "t1[0] = 'c'"
   ]
  },
  {
   "cell_type": "code",
   "execution_count": 17,
   "metadata": {},
   "outputs": [
    {
     "name": "stdout",
     "output_type": "stream",
     "text": [
      "1\n",
      "b\n",
      "(2, 'a', 'b')\n"
     ]
    }
   ],
   "source": [
    "# 튜플 - 인덱싱, 슬라이싱\n",
    "t1 = (1, 2, 'a', 'b')\n",
    "\n",
    "print(t1[0]) # 리스트와 동일한 인덱싱 방식 채택\n",
    "print(t1[-1]) # 마지막 요소 인덱싱도 리스트처럼 가능\n",
    "print(t1[1:]) # index 1 ~ 끝까지 접근"
   ]
  },
  {
   "cell_type": "code",
   "execution_count": 20,
   "metadata": {},
   "outputs": [
    {
     "name": "stdout",
     "output_type": "stream",
     "text": [
      "(1, 2, 'a', 'b', 3, 4)\n",
      "(1, 2, 'a', 'b', 1, 2, 'a', 'b')\n"
     ]
    }
   ],
   "source": [
    "# 튜플 - 병합, 반복\n",
    "t1 = (1, 2, 'a', 'b')\n",
    "t2 = (3, 4)\n",
    "\n",
    "print(t1 + t2) # 병합(더하기)은 뒤쪽으로 연결됨\n",
    "print(t1 * 2) # 반복(곱하기)"
   ]
  },
  {
   "cell_type": "code",
   "execution_count": 25,
   "metadata": {},
   "outputs": [
    {
     "name": "stdout",
     "output_type": "stream",
     "text": [
      "['a', 'b', (1, 2), (3, 4), (5, 6), [7, 8, 9]]\n",
      "(1, 2)\n",
      "2\n"
     ]
    }
   ],
   "source": [
    "# 튜플 - 리스트 안에 정의\n",
    "my_list = ['a', 'b', (1, 2), (3, 4), (5, 6), [7, 8, 9]]\n",
    "\n",
    "print(my_list)\n",
    "print(my_list[2])     # (1, 2) 출력\n",
    "print(my_list[2][1])  # 첫 번째 튜플의 두 번째 요소: 2 출력\n"
   ]
  },
  {
   "cell_type": "code",
   "execution_count": null,
   "metadata": {},
   "outputs": [
    {
     "name": "stdout",
     "output_type": "stream",
     "text": [
      "초기 튜플: (1, 2, [3, 4, 5])\n",
      "리스트 요소 변경 후 튜플: (1, 2, [3, 4, 5, 6])\n",
      "튜플 자체 변경 시 오류: 'tuple' object does not support item assignment\n"
     ]
    }
   ],
   "source": [
    "# 튜플 - 리스트를 포함하여 정의하고 수정\n",
    "\n",
    "# 튜플 안에 리스트 넣기\n",
    "t = (1, 2, [3, 4, 5])\n",
    "print(\"초기 튜플:\", t)\n",
    "\n",
    "# 튜플의 리스트 요소 변경\n",
    "t[2].append(6)\n",
    "print(\"리스트 요소 변경 후 튜플:\", t)\n",
    "\n",
    "# 튜플 자체를 변경하려 하면 오류 발생\n",
    "# 참고: 여기서는 try, except 블록으로 오류 처리\n",
    "try:\n",
    "    t[0] = 100\n",
    "except TypeError as e:\n",
    "    print(\"튜플 자체 변경 시 오류:\", e)"
   ]
  },
  {
   "cell_type": "code",
   "execution_count": 8,
   "metadata": {},
   "outputs": [
    {
     "name": "stdout",
     "output_type": "stream",
     "text": [
      "max_city:  ('뉴욕', 120)\n",
      "min city:  ('샌프란시스코', 20)\n",
      "average number of universities: 54\n"
     ]
    }
   ],
   "source": [
    "# 튜플 - 실습\n",
    "\n",
    "# 도시명과 대학 수를 튜플로 저장한 리스트\n",
    "cities = [(\"뉴욕\", 120), (\"로스앤젤레스\", 60), (\"시카고\", 70), \n",
    "          (\"보스턴\", 50), (\"샌프란시스코\", 20), (\"휴스턴\", 40), \n",
    "          (\"워싱턴\", 20)]\n",
    "\n",
    "cities.sort(key=lambda city_univ: city_univ[1])\n",
    "print(\"max_city: \", cities[-1])\n",
    "print(\"min city: \", cities[0])\n",
    "\n",
    "average_univ = sum([city[1] for city in cities]) / len(cities)\n",
    "print(f\"average number of universities: {average_univ:0.0f}\")"
   ]
  },
  {
   "cell_type": "code",
   "execution_count": 50,
   "metadata": {},
   "outputs": [
    {
     "name": "stdout",
     "output_type": "stream",
     "text": [
      "<class 'float'>\n",
      "<class 'float'>\n",
      "원의 넓이는 28.274333882308138이고, 원의 둘레는 18.84955592153876이다.\n"
     ]
    }
   ],
   "source": [
    "# 튜플 - 함수 반환 값\n",
    "import math\n",
    "\n",
    "def calCircle(r):\n",
    "    area = math.pi * r * r\n",
    "    circum = 2 * math.pi * r\n",
    "    return area, circum\n",
    "\n",
    "radius = 3\n",
    "(a, c) = calCircle(radius)\n",
    "\n",
    "print(type(a))\n",
    "print(type(c))\n",
    "\n",
    "print(\"원의 넓이는 \" + str(a) + \"이고, 원의 둘레는 \" + str(c) + \"이다.\")"
   ]
  }
 ],
 "metadata": {
  "kernelspec": {
   "display_name": "base",
   "language": "python",
   "name": "python3"
  },
  "language_info": {
   "codemirror_mode": {
    "name": "ipython",
    "version": 3
   },
   "file_extension": ".py",
   "mimetype": "text/x-python",
   "name": "python",
   "nbconvert_exporter": "python",
   "pygments_lexer": "ipython3",
   "version": "3.12.2"
  }
 },
 "nbformat": 4,
 "nbformat_minor": 2
}

{
 "cells": [
  {
   "cell_type": "markdown",
   "metadata": {},
   "source": [
    "#### 6. Set"
   ]
  },
  {
   "cell_type": "code",
   "execution_count": 2,
   "metadata": {},
   "outputs": [
    {
     "data": {
      "text/plain": [
       "{1, 2, 3}"
      ]
     },
     "execution_count": 2,
     "metadata": {},
     "output_type": "execute_result"
    }
   ],
   "source": [
    "# 집합 정의\n",
    "my_set = {2, 1, 3}\n",
    "my_set"
   ]
  },
  {
   "cell_type": "code",
   "execution_count": 8,
   "metadata": {},
   "outputs": [
    {
     "data": {
      "text/plain": [
       "{}"
      ]
     },
     "execution_count": 8,
     "metadata": {},
     "output_type": "execute_result"
    }
   ],
   "source": [
    "# 집합 정의 - empty set\n",
    "my_set = {}\n",
    "my_set"
   ]
  },
  {
   "cell_type": "code",
   "execution_count": null,
   "metadata": {},
   "outputs": [
    {
     "data": {
      "text/plain": [
       "{1, 2, 3}"
      ]
     },
     "execution_count": 82,
     "metadata": {},
     "output_type": "execute_result"
    }
   ],
   "source": [
    "# 집합 특성 - list로부터 정의\n",
    "# 중복된 값은 자동으로 제거\n",
    "set([1, 2, 3, 1, 2])"
   ]
  },
  {
   "cell_type": "code",
   "execution_count": null,
   "metadata": {},
   "outputs": [
    {
     "ename": "TypeError",
     "evalue": "'set' object is not subscriptable",
     "output_type": "error",
     "traceback": [
      "\u001b[0;31m---------------------------------------------------------------------------\u001b[0m",
      "\u001b[0;31mTypeError\u001b[0m                                 Traceback (most recent call last)",
      "\u001b[0;32m/var/folders/1c/fy58b6q97m5gxqscv17qz5040000gn/T/ipykernel_18921/2096909122.py\u001b[0m in \u001b[0;36m<module>\u001b[0;34m\u001b[0m\n\u001b[1;32m      1\u001b[0m \u001b[0;31m# 집합 특성\u001b[0m\u001b[0;34m\u001b[0m\u001b[0;34m\u001b[0m\u001b[0m\n\u001b[1;32m      2\u001b[0m \u001b[0mmy_set\u001b[0m \u001b[0;34m=\u001b[0m \u001b[0;34m{\u001b[0m\u001b[0;36m2\u001b[0m\u001b[0;34m,\u001b[0m \u001b[0;36m1\u001b[0m\u001b[0;34m,\u001b[0m \u001b[0;36m3\u001b[0m\u001b[0;34m}\u001b[0m\u001b[0;34m\u001b[0m\u001b[0;34m\u001b[0m\u001b[0m\n\u001b[0;32m----> 3\u001b[0;31m \u001b[0mmy_set\u001b[0m\u001b[0;34m[\u001b[0m\u001b[0;36m0\u001b[0m\u001b[0;34m]\u001b[0m\u001b[0;34m\u001b[0m\u001b[0;34m\u001b[0m\u001b[0m\n\u001b[0m",
      "\u001b[0;31mTypeError\u001b[0m: 'set' object is not subscriptable"
     ]
    }
   ],
   "source": [
    "# 집합 특성\n",
    "my_set = {2, 1, 3}\n",
    "my_set[0] # Error"
   ]
  },
  {
   "cell_type": "code",
   "execution_count": 2,
   "metadata": {},
   "outputs": [
    {
     "ename": "TypeError",
     "evalue": "unhashable type: 'set'",
     "output_type": "error",
     "traceback": [
      "\u001b[0;31m---------------------------------------------------------------------------\u001b[0m",
      "\u001b[0;31mTypeError\u001b[0m                                 Traceback (most recent call last)",
      "Cell \u001b[0;32mIn[2], line 12\u001b[0m\n\u001b[1;32m      1\u001b[0m \u001b[38;5;124;03m'''\u001b[39;00m\n\u001b[1;32m      2\u001b[0m \u001b[38;5;124;03m# 집합 정의 - list, tuple, dict 포함?\u001b[39;00m\n\u001b[1;32m      3\u001b[0m \u001b[38;5;124;03m# 중첩된 집합 가능?\u001b[39;00m\n\u001b[0;32m   (...)\u001b[0m\n\u001b[1;32m      6\u001b[0m \u001b[38;5;124;03m#  - 해시 가능하지 않은 값은 집합의 요소로 사용할 수 없음.\u001b[39;00m\n\u001b[1;32m      7\u001b[0m \u001b[38;5;124;03m'''\u001b[39;00m\n\u001b[1;32m      9\u001b[0m \u001b[38;5;66;03m# my_set_with_list = {[1,2,3], 'b', 'c'}\u001b[39;00m\n\u001b[1;32m     10\u001b[0m \u001b[38;5;66;03m#my_set_with_tuple = {(1,2,3), 'b', 'c'}\u001b[39;00m\n\u001b[1;32m     11\u001b[0m \u001b[38;5;66;03m#my_set_with_dict = {{1:'a', 2:'b'}, 'b', 'c'}\u001b[39;00m\n\u001b[0;32m---> 12\u001b[0m my_nested_set \u001b[38;5;241m=\u001b[39m {{\u001b[38;5;241m1\u001b[39m,\u001b[38;5;241m2\u001b[39m,\u001b[38;5;241m3\u001b[39m}, \u001b[38;5;124m'\u001b[39m\u001b[38;5;124mb\u001b[39m\u001b[38;5;124m'\u001b[39m, \u001b[38;5;124m'\u001b[39m\u001b[38;5;124mc\u001b[39m\u001b[38;5;124m'\u001b[39m}\n\u001b[1;32m     14\u001b[0m \u001b[38;5;66;03m#my_set_with_tuple\u001b[39;00m\n\u001b[1;32m     15\u001b[0m my_nested_set\n",
      "\u001b[0;31mTypeError\u001b[0m: unhashable type: 'set'"
     ]
    }
   ],
   "source": [
    "'''\n",
    "# 집합 정의 - list, tuple, dict 포함?\n",
    "# 중첩된 집합 가능?\n",
    "#  - 파이썬에서 **집합(set)**은 해시 테이블을 사용하여 내부적으로 관리됨\n",
    "#  - 집합에 포함된 각 요소는 고유한 해시 값을 가져야 함.\n",
    "#  - 해시 가능하지 않은 값은 집합의 요소로 사용할 수 없음.\n",
    "'''\n",
    "\n",
    "# my_set_with_list = {[1,2,3], 'b', 'c'}\n",
    "#my_set_with_tuple = {(1,2,3), 'b', 'c'}\n",
    "#my_set_with_dict = {{1:'a', 2:'b'}, 'b', 'c'}\n",
    "my_nested_set = {{1,2,3}, 'b', 'c'}\n",
    "\n",
    "#my_set_with_tuple\n",
    "my_nested_set"
   ]
  },
  {
   "cell_type": "code",
   "execution_count": null,
   "metadata": {},
   "outputs": [
    {
     "name": "stdout",
     "output_type": "stream",
     "text": [
      "{'F', 'o', 'h', 'c', 'n', 'M', 'a', 'T', 'y', 'd', 'S', 'u'}\n",
      "['S', 'o', 'M', 'u', 'c', 'h', 'F', 'u', 'n', 'T', 'o', 'd', 'a', 'y']\n",
      "['S', 'o', 'M', 'u', 'c', 'h', 'F', 'n', 'T', 'd', 'a', 'y']\n"
     ]
    },
    {
     "data": {
      "text/plain": [
       "{'S': None,\n",
       " 'o': None,\n",
       " 'M': None,\n",
       " 'u': None,\n",
       " 'c': None,\n",
       " 'h': None,\n",
       " 'F': None,\n",
       " 'n': None,\n",
       " 'T': None,\n",
       " 'd': None,\n",
       " 'a': None,\n",
       " 'y': None}"
      ]
     },
     "execution_count": 128,
     "metadata": {},
     "output_type": "execute_result"
    }
   ],
   "source": [
    "# 집합 정의 - 문자열을 집합으로 변환\n",
    "my_string = \"SoMuchFunToday\"\n",
    "print(set(my_string))\n",
    "\n",
    "# 문자열의 중복된 문자와 순서를 유지하고 싶다면?\n",
    "print(list(my_string))\n",
    "\n",
    "# 문자열의 중복 문자는 제외하되 순서는 유지하고 싶다면?\n",
    "my_ordered_list = list(dict.fromkeys(my_string))\n",
    "print(my_ordered_list)\n",
    "\n",
    "dict.fromkeys(my_string)"
   ]
  },
  {
   "cell_type": "code",
   "execution_count": 21,
   "metadata": {},
   "outputs": [
    {
     "ename": "TypeError",
     "evalue": "'set' object is not subscriptable",
     "output_type": "error",
     "traceback": [
      "\u001b[0;31m---------------------------------------------------------------------------\u001b[0m",
      "\u001b[0;31mTypeError\u001b[0m                                 Traceback (most recent call last)",
      "\u001b[0;32m/var/folders/1c/fy58b6q97m5gxqscv17qz5040000gn/T/ipykernel_18921/2292212346.py\u001b[0m in \u001b[0;36m<module>\u001b[0;34m\u001b[0m\n\u001b[1;32m      1\u001b[0m \u001b[0;31m# 집합 - 접근\u001b[0m\u001b[0;34m\u001b[0m\u001b[0;34m\u001b[0m\u001b[0m\n\u001b[1;32m      2\u001b[0m \u001b[0mmy_set\u001b[0m \u001b[0;34m=\u001b[0m \u001b[0;34m{\u001b[0m\u001b[0;36m1\u001b[0m\u001b[0;34m,\u001b[0m \u001b[0;36m3\u001b[0m\u001b[0;34m,\u001b[0m \u001b[0;36m100\u001b[0m\u001b[0;34m}\u001b[0m\u001b[0;34m\u001b[0m\u001b[0;34m\u001b[0m\u001b[0m\n\u001b[0;32m----> 3\u001b[0;31m \u001b[0mmy_set\u001b[0m\u001b[0;34m[\u001b[0m\u001b[0;36m1\u001b[0m\u001b[0;34m]\u001b[0m\u001b[0;34m\u001b[0m\u001b[0;34m\u001b[0m\u001b[0m\n\u001b[0m",
      "\u001b[0;31mTypeError\u001b[0m: 'set' object is not subscriptable"
     ]
    }
   ],
   "source": [
    "# 집합 - 접근\n",
    "# 인덱스로 접근 불가 (unordered data type)\n",
    "my_set = {1, 100, 3, 45}\n",
    "my_set[1]"
   ]
  },
  {
   "cell_type": "code",
   "execution_count": null,
   "metadata": {},
   "outputs": [
    {
     "name": "stdout",
     "output_type": "stream",
     "text": [
      "1 3 45 100 \n",
      "3이 집합에 있습니다.\n",
      "<class 'list'>\n",
      "3\n",
      "1\n",
      "3\n",
      "100\n",
      "45\n"
     ]
    }
   ],
   "source": [
    "# 집합 - 접근\n",
    "my_set = {1, 100, 3, 45}\n",
    "\n",
    "# for 반복문\n",
    "# 정렬(오른차순)\n",
    "for x in sorted(my_set):\n",
    "    print(x, end=\" \")\n",
    "\n",
    "# if 조건문\n",
    "if 3 in my_set:\n",
    "    print(\"\\n3이 집합에 있습니다.\")\n",
    "else:\n",
    "    print(\"\\n3이 집합에 없습니다.\")\n",
    "\n",
    "# 오름차순 정렬 후 리스트로 반환\n",
    "my_list = sorted(my_set)\n",
    "print(type(my_list))\n",
    "print(my_list[1])\n",
    "\n",
    "# iter(), next() 함수 활용]\n",
    "# 무작위로 접근\n",
    "set_iterator = iter(my_set)\n",
    "print(next(set_iterator)) # 1st element\n",
    "print(next(set_iterator)) # 2nd element\n",
    "print(next(set_iterator)) # 3rd element\n",
    "print(next(set_iterator)) # 4th element"
   ]
  },
  {
   "cell_type": "code",
   "execution_count": 6,
   "metadata": {},
   "outputs": [
    {
     "data": {
      "text/plain": [
       "{1, 3, 4, 47, 100}"
      ]
     },
     "execution_count": 6,
     "metadata": {},
     "output_type": "execute_result"
    }
   ],
   "source": [
    "# 집합 - 연산: 추가\n",
    "my_set = {1, 100, 47, 3}\n",
    "my_set.add(4)\n",
    "my_set"
   ]
  },
  {
   "cell_type": "code",
   "execution_count": 93,
   "metadata": {},
   "outputs": [
    {
     "data": {
      "text/plain": [
       "{1, 100, 3, 4, 47, 5, 6, 'Q', 'S', 'b', 'o'}"
      ]
     },
     "execution_count": 93,
     "metadata": {},
     "output_type": "execute_result"
    }
   ],
   "source": [
    "# 집합 - 연산: 여러 값 추가\n",
    "# Hashing된 순서대로 무작위로 출력됨\n",
    "my_set = {1, 100, 47, 3}\n",
    "my_set.update([4, 5, 6])\n",
    "my_set.update(['S', 'b', 100, 'o', 'Q'])\n",
    "my_set"
   ]
  },
  {
   "cell_type": "code",
   "execution_count": 7,
   "metadata": {},
   "outputs": [
    {
     "data": {
      "text/plain": [
       "{1, 3, 47}"
      ]
     },
     "execution_count": 7,
     "metadata": {},
     "output_type": "execute_result"
    }
   ],
   "source": [
    "# 집합 - 연산: 제거\n",
    "my_set = {1, 100, 47, 3}\n",
    "my_set.remove(100)\n",
    "my_set"
   ]
  },
  {
   "cell_type": "code",
   "execution_count": 100,
   "metadata": {},
   "outputs": [
    {
     "name": "stdout",
     "output_type": "stream",
     "text": [
      "False\n",
      "True\n",
      "True\n",
      "{1, 2, 3}\n",
      "{1, 2, 3}\n",
      "{1, 2, 3, 4, 5, 6}\n",
      "{1, 2, 3, 4, 5, 6}\n",
      "{4, 5, 6}\n",
      "{4, 5, 6}\n",
      "set()\n",
      "set()\n",
      "{4, 5, 6}\n",
      "{4, 5, 6}\n"
     ]
    }
   ],
   "source": [
    "# 집합 - 연산: 멤버십, 비교연산\n",
    "# 내장함수\n",
    "print(100 in my_set) # 멤버십\n",
    "\n",
    "a = {1,2,3}\n",
    "b = {1,2,3}\n",
    "print(a == b) # 비교연산\n",
    "\n",
    "# 집합 - 연산: 부분집합, 교집합, 합집합, 차집합, 대칭 차집합 \n",
    "# methods\n",
    "a = {1,2,3,4,5,6}\n",
    "b = {1,2,3}\n",
    "print(b < a) # 부분집합 체크\n",
    "\n",
    "print(a & b) # 교집합\n",
    "print(a.intersection(b))\n",
    "\n",
    "print(a | b) # 합집합\n",
    "print(a.union(b))\n",
    "\n",
    "print(a - b) # 차집합\n",
    "print(a.difference(b))\n",
    "print(b - a) # 차집합\n",
    "print(b.difference(a))\n",
    "\n",
    "print(a ^ b) # 대칭 차집합 = 합집합 - 교집합\n",
    "print(a.symmetric_difference(b)) # 대칭 차집합 = 합집합 - 교집합\n"
   ]
  },
  {
   "cell_type": "code",
   "execution_count": 55,
   "metadata": {},
   "outputs": [
    {
     "name": "stdout",
     "output_type": "stream",
     "text": [
      "5\n",
      "7\n",
      "1\n",
      "[1, 3, 4, 5, 7]\n",
      "20\n"
     ]
    }
   ],
   "source": [
    "# 집합 - 연산: len, max, min, sorted, sum\n",
    "# 내장함수\n",
    "my_set = {1, 5, 4, 3, 7, 4}\n",
    "print(len(my_set))\n",
    "print(max(my_set))\n",
    "print(min(my_set))\n",
    "print(sorted(my_set))\n",
    "print(sum(my_set))"
   ]
  },
  {
   "cell_type": "code",
   "execution_count": null,
   "metadata": {},
   "outputs": [
    {
     "name": "stdout",
     "output_type": "stream",
     "text": [
      "False\n",
      "True\n"
     ]
    }
   ],
   "source": [
    "# 집합 - 논리연산: all, any\n",
    "# 내장함수\n",
    "my_set = {'a', 'c', 'q', 'r', 'w', 'z', 0, 3, 2, 1}\n",
    "print(all(my_set)) # 모든 요소 값이 True인지 검사\n",
    "print(any(my_set)) # 하나라도 True (0, 공백문자열, None) 요소 값이 있는지 검사"
   ]
  },
  {
   "cell_type": "code",
   "execution_count": 147,
   "metadata": {},
   "outputs": [
    {
     "name": "stdout",
     "output_type": "stream",
     "text": [
      "{'Moon'}\n",
      "{'Moon', 'Kim', 'Karl', 'Park', 'Lee', 'Choi', 'Smith', 'James'}\n",
      "{'Kim', 'Karl', 'Park', 'Lee', 'Choi', 'Smith', 'James'}\n",
      "{'Choi', 'Kim', 'James', 'Park'}\n"
     ]
    }
   ],
   "source": [
    "# 실습\n",
    "workshop_a = set(['Kim', 'Park', 'James', 'Moon', 'Choi'])\n",
    "workshop_b =set(['Smith', 'Karl', 'Moon', 'Lee'])\n",
    "\n",
    "# 1)\n",
    "print(workshop_a & workshop_b)\n",
    "\n",
    "# 2)\n",
    "print(workshop_a | workshop_b)\n",
    "\n",
    "# 3)\n",
    "print(workshop_a ^ workshop_b)\n",
    "\n",
    "# 4)\n",
    "print(workshop_a - (workshop_a & workshop_b))\n"
   ]
  }
 ],
 "metadata": {
  "kernelspec": {
   "display_name": "base",
   "language": "python",
   "name": "python3"
  },
  "language_info": {
   "codemirror_mode": {
    "name": "ipython",
    "version": 3
   },
   "file_extension": ".py",
   "mimetype": "text/x-python",
   "name": "python",
   "nbconvert_exporter": "python",
   "pygments_lexer": "ipython3",
   "version": "3.12.2"
  }
 },
 "nbformat": 4,
 "nbformat_minor": 2
}

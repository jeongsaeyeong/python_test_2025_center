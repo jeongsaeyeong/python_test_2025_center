{
 "cells": [
  {
   "cell_type": "markdown",
   "metadata": {},
   "source": [
    "### 7. Operators"
   ]
  },
  {
   "cell_type": "code",
   "execution_count": 1,
   "metadata": {},
   "outputs": [],
   "source": [
    "# 할당 연산자\n",
    "x = 100 + 5000"
   ]
  },
  {
   "cell_type": "code",
   "execution_count": 2,
   "metadata": {},
   "outputs": [
    {
     "ename": "SyntaxError",
     "evalue": "cannot assign to literal (346650859.py, line 4)",
     "output_type": "error",
     "traceback": [
      "\u001b[0;36m  File \u001b[0;32m\"/var/folders/1c/fy58b6q97m5gxqscv17qz5040000gn/T/ipykernel_23157/346650859.py\"\u001b[0;36m, line \u001b[0;32m4\u001b[0m\n\u001b[0;31m    30 = x + y\u001b[0m\n\u001b[0m    ^\u001b[0m\n\u001b[0;31mSyntaxError\u001b[0m\u001b[0;31m:\u001b[0m cannot assign to literal\n"
     ]
    }
   ],
   "source": [
    "# 할당 연산자 - 문법 오류\n",
    "x = 20\n",
    "y = 10\n",
    "30 = x + y"
   ]
  },
  {
   "cell_type": "code",
   "execution_count": 9,
   "metadata": {},
   "outputs": [],
   "source": [
    "# 피연산자, 연산자\n",
    "a=10\n",
    "b=20\n",
    "c=a*b"
   ]
  },
  {
   "cell_type": "code",
   "execution_count": 4,
   "metadata": {},
   "outputs": [
    {
     "data": {
      "text/plain": [
       "(10, 10)"
      ]
     },
     "execution_count": 4,
     "metadata": {},
     "output_type": "execute_result"
    }
   ],
   "source": [
    "# 다중 할당 연산자\n",
    "x = y = 10\n",
    "x, y"
   ]
  },
  {
   "cell_type": "code",
   "execution_count": 3,
   "metadata": {},
   "outputs": [
    {
     "data": {
      "text/plain": [
       "(10, 100, 1000)"
      ]
     },
     "execution_count": 3,
     "metadata": {},
     "output_type": "execute_result"
    }
   ],
   "source": [
    "# 동시 할당 연산자\n",
    "x, y, z = 10, 100, 1000\n",
    "x, y, z"
   ]
  },
  {
   "cell_type": "code",
   "execution_count": 16,
   "metadata": {},
   "outputs": [
    {
     "name": "stdout",
     "output_type": "stream",
     "text": [
      "15\n",
      "1.6\n",
      "1\n",
      "50\n",
      "0\n",
      "100000\n"
     ]
    }
   ],
   "source": [
    "# 산술 연산자\n",
    "print(10 + 5)\n",
    "print(8 / 5)  # 실수형 나눗셈 몫\n",
    "print(8 // 5) # 정수형 나눗셈 몫\n",
    "print(10 * 5)\n",
    "print(10 % 5)\n",
    "print(10 ** 5)"
   ]
  },
  {
   "cell_type": "code",
   "execution_count": 10,
   "metadata": {},
   "outputs": [
    {
     "name": "stdout",
     "output_type": "stream",
     "text": [
      "100.0\n",
      "45\n"
     ]
    }
   ],
   "source": [
    "# 복합 연산자\n",
    "x = 100\n",
    "x += 100\n",
    "x *= 2\n",
    "x -= 100\n",
    "x /= 3\n",
    "print(x)\n",
    "\n",
    "a = 0\n",
    "for y in range(10):\n",
    "    a += y\n",
    "print(a)"
   ]
  },
  {
   "cell_type": "code",
   "execution_count": 12,
   "metadata": {},
   "outputs": [
    {
     "name": "stdout",
     "output_type": "stream",
     "text": [
      "False\n",
      "True\n",
      "False\n",
      "True\n",
      "False\n",
      "True\n"
     ]
    }
   ],
   "source": [
    "# 비교 연산자\n",
    "a, b = 10, 20\n",
    "print(a == b)\n",
    "print(a != b)\n",
    "print(a > b)\n",
    "print(a < b)\n",
    "print(a >= b)\n",
    "print(a <= b)\n"
   ]
  },
  {
   "cell_type": "code",
   "execution_count": 28,
   "metadata": {},
   "outputs": [
    {
     "name": "stdout",
     "output_type": "stream",
     "text": [
      "0\n",
      "0\n",
      "True\n",
      "0\n",
      "1\n",
      "False\n",
      "0\n",
      "1\n",
      "True\n",
      "1\n",
      "2\n",
      "False\n",
      "True\n",
      "True\n",
      "False\n",
      "False\n",
      "True\n",
      "True\n",
      "False\n",
      "False\n",
      "True\n"
     ]
    }
   ],
   "source": [
    "# 논리 연산자\n",
    "x = 0 \n",
    "y = 0\n",
    "print(x and y)\n",
    "print(x or y)\n",
    "print(not x)\n",
    "\n",
    "x = 1\n",
    "y = 0\n",
    "print(x and y)\n",
    "print(x or y)\n",
    "print(not x)\n",
    "\n",
    "x = 0\n",
    "y = 1\n",
    "print(x and y)\n",
    "print(x or y)\n",
    "print(not x)\n",
    "\n",
    "x = 2\n",
    "y = 1\n",
    "print(x and y)\n",
    "print(x or y)\n",
    "print(not x)\n",
    "\n",
    "# bool 자료형으로 변환\n",
    "print(bool(9))\n",
    "print(bool(-1))\n",
    "print(bool(None))\n",
    "print(bool(''))\n",
    "print(bool('python'))\n",
    "print(True)\n",
    "print(False)\n",
    "print(bool(list()))\n",
    "print(bool([1,2,3]))"
   ]
  },
  {
   "cell_type": "code",
   "execution_count": 34,
   "metadata": {},
   "outputs": [
    {
     "name": "stdout",
     "output_type": "stream",
     "text": [
      "0b1001\n",
      "0b1010\n",
      "3\n",
      "0b11\n",
      "8\n",
      "2\n"
     ]
    }
   ],
   "source": [
    "# 비트 연산자\n",
    "print(bin(9)) # binary: 0b1001 = 00001001\n",
    "print(bin(10)) # binary: 0b1010 = 00001010\n",
    "print(9 ^ 10) # xor: 00000011 => decimal: 3\n",
    "print(bin(9 ^ 10)) # binary: 0b11 = 00000011\n",
    "\n",
    "print(4 << 1) # 00100 => 왼쪽으로 1 bit 이동 => 01000 = 8\n",
    "print(4 >> 1) # 00100 => 오른쪽으로 1 bit 이동 => 00010 = 2"
   ]
  },
  {
   "cell_type": "code",
   "execution_count": 45,
   "metadata": {},
   "outputs": [
    {
     "name": "stdout",
     "output_type": "stream",
     "text": [
      "0\n",
      "1\n"
     ]
    }
   ],
   "source": [
    "# 비트 연산자 - 복합 할당 연산자\n",
    "x = 0b0011\n",
    "x &= 10 # x = 3 & 10 = 0b0011 & 0b1010 = 0b0010 = 2\n",
    "x |= 10 # x = 2 | 10 = 10 \n",
    "x ^= 10 # x = x xor 10 = 0b1010 xor 0b1010 = 0b0000 = 0\n",
    "print(x)\n",
    "\n",
    "y = 10 # 0b1010\n",
    "y <<= 2 # 00001010 => shifted to the left by 2 bits => 00101000 = 40\n",
    "y >>= 5 # 00101000 => shifted to the right by 5 bits => 00000001 = 1\n",
    "print(y)"
   ]
  }
 ],
 "metadata": {
  "kernelspec": {
   "display_name": "base",
   "language": "python",
   "name": "python3"
  },
  "language_info": {
   "codemirror_mode": {
    "name": "ipython",
    "version": 3
   },
   "file_extension": ".py",
   "mimetype": "text/x-python",
   "name": "python",
   "nbconvert_exporter": "python",
   "pygments_lexer": "ipython3",
   "version": "3.9.7"
  }
 },
 "nbformat": 4,
 "nbformat_minor": 2
}

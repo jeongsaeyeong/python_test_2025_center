{
 "cells": [
  {
   "cell_type": "markdown",
   "metadata": {},
   "source": [
    "### 5. Dictionary"
   ]
  },
  {
   "cell_type": "code",
   "execution_count": 3,
   "metadata": {},
   "outputs": [
    {
     "name": "stdout",
     "output_type": "stream",
     "text": [
      "<class 'dict'>\n",
      "{'salary': 15000}\n",
      "{'salary': 15000, 'age': 35}\n"
     ]
    }
   ],
   "source": [
    "\"\"\" \n",
    "Dictionary\n",
    "\"\"\"\n",
    "\n",
    "a = {1:'hi'}\n",
    "b = {'a':[1,2,3]}\n",
    "print(type(a))\n",
    "\n",
    "a = {} # empty dictionary\n",
    "a[\"salary\"] = 15000\n",
    "print(a)\n",
    "a[\"age\"] = 35\n",
    "print(a)\n",
    "\n",
    "my_dict1 = {'name':'Lee', 'mobile':'010-9999-7777', 'car':'audi'}\n",
    "my_dict2 = {1:'Hi', 2:'I', 3:'am', 4:'so', 5:'glad', 6:'to', 7:'meet', 8:'you'}"
   ]
  },
  {
   "cell_type": "code",
   "execution_count": 90,
   "metadata": {},
   "outputs": [
    {
     "name": "stdout",
     "output_type": "stream",
     "text": [
      "dict_keys(['name', 'mobile', 'car'])\n",
      "<class 'dict_keys'>\n",
      "name : Lee\n",
      "mobile : 010-9999-7777\n",
      "car : audi\n"
     ]
    }
   ],
   "source": [
    "# 모든 키 반환\n",
    "print(my_dict1.keys())\n",
    "print(type(my_dict1.keys()))\n",
    "\n",
    "# for문 이용하여 출력\n",
    "for key in my_dict1.keys():\n",
    "    print(key,':',my_dict1[key])"
   ]
  },
  {
   "cell_type": "code",
   "execution_count": 88,
   "metadata": {},
   "outputs": [
    {
     "name": "stdout",
     "output_type": "stream",
     "text": [
      "<class 'dict_keys'>\n",
      "mobile\n"
     ]
    }
   ],
   "source": [
    "# 조회한 키들 중에 하나를 indexing하여 접근 시도\n",
    "# 오류원인: dict_key 객체는 iterable하지만 indexing이나 slicing이 불가능한 자료형\n",
    "my_keys = my_dict1.keys()\n",
    "print(type(my_keys))\n",
    "#print(my_keys[1]) # TypeError 발생\n",
    "\n",
    "# 해결 방법\n",
    "my_keys = list(my_dict1.keys())\n",
    "print(my_keys[1])"
   ]
  },
  {
   "cell_type": "code",
   "execution_count": 93,
   "metadata": {},
   "outputs": [
    {
     "name": "stdout",
     "output_type": "stream",
     "text": [
      "dict_values(['Lee', '010-9999-7777', 'audi'])\n",
      "<class 'dict_values'>\n",
      "Lee\n",
      "010-9999-7777\n",
      "audi\n",
      "010-9999-7777\n"
     ]
    }
   ],
   "source": [
    "# 모든 값 반환\n",
    "print(my_dict1.values())\n",
    "print(type(my_dict1.values()))\n",
    "\n",
    "# for문 이용하여 출력\n",
    "for value in my_dict1.values():\n",
    "    print(value)\n",
    "\n",
    "# type error 해결\n",
    "my_values = list(my_dict1.values())\n",
    "print(my_values[1])"
   ]
  },
  {
   "cell_type": "code",
   "execution_count": 87,
   "metadata": {},
   "outputs": [
    {
     "name": "stdout",
     "output_type": "stream",
     "text": [
      "dict_items([('name', 'Lee'), ('mobile', '010-9999-7777'), ('car', 'audi')])\n",
      "name : Lee\n",
      "mobile : 010-9999-7777\n",
      "car : audi\n",
      "<class 'dict_items'>\n",
      "<class 'list'>\n",
      "<class 'tuple'>\n",
      "010-9999-7777\n"
     ]
    }
   ],
   "source": [
    "# 모든 쌍(pair)을 반환\n",
    "my_items = my_dict1.items()\n",
    "print(my_items)\n",
    "\n",
    "# for문을 이용하여 반환\n",
    "for k, v in my_dict1.items():\n",
    "    print(k,':',v)\n",
    "\n",
    "# my_items가 iterable할까?\n",
    "print(type(my_items))\n",
    "print(my_items['mobile']) # TypeError\n",
    "\n",
    "# 해결 방법\n",
    "my_items = list(my_dict1.items())\n",
    "print(type(my_items)) # list\n",
    "print(type(my_items[0])) # tuple\n",
    "print(my_items[1][1]) # 010-9999-7777"
   ]
  },
  {
   "cell_type": "code",
   "execution_count": 4,
   "metadata": {},
   "outputs": [
    {
     "name": "stdout",
     "output_type": "stream",
     "text": [
      "[['Kim', 26], ['Moon', 38], ['Lee', 23], ['Park', 41]]\n",
      "(('Kim', 26), ('Moon', 38), ('Lee', 23), ('Park', 41))\n",
      "{'Kim': 26, 'Moon': 38, 'Lee': 23, 'Park': 41}\n",
      "<class 'list'>\n",
      "<class 'tuple'>\n",
      "<class 'dict'>\n",
      "Moon\n",
      "Moon\n",
      "38\n"
     ]
    }
   ],
   "source": [
    "\"\"\" \n",
    "List, Tuple, and Dictionary\n",
    "\"\"\"\n",
    "my_list = [['Kim', 26], ['Moon',38], ['Lee',23], ['Park',41]]\n",
    "my_tuple= (('Kim', 26), ('Moon', 38), ('Lee',23),  ('Park',41))\n",
    "my_dictionary = {'Kim':26, 'Moon':38, 'Lee': 23, 'Park': 41}\n",
    "\n",
    "print(my_list)\n",
    "print(my_tuple)\n",
    "print(my_dictionary)\n",
    "\n",
    "print(type(my_list))\n",
    "print(type(my_tuple))\n",
    "print(type(my_dictionary))\n",
    "\n",
    "print(my_list[1][0]) # indexing, slicing\n",
    "print(my_tuple[1][0]) # indexing, slicing\n",
    "print(my_dictionary['Moon']) # get value by key"
   ]
  },
  {
   "cell_type": "code",
   "execution_count": 5,
   "metadata": {},
   "outputs": [
    {
     "name": "stdout",
     "output_type": "stream",
     "text": [
      "love\n",
      "you\n"
     ]
    }
   ],
   "source": [
    "# 주의: list[index], tuple[index]와 dict[key]는 전혀 다른 의미\n",
    "a = {1:'love', 2:'you', 3:'python'}\n",
    "print(a[1])\n",
    "print(a[2])"
   ]
  },
  {
   "cell_type": "code",
   "execution_count": 7,
   "metadata": {},
   "outputs": [
    {
     "name": "stdout",
     "output_type": "stream",
     "text": [
      "{1: 'b'}\n"
     ]
    }
   ],
   "source": [
    "# 딕셔너리 만들 때 주의할 점 1\n",
    "bad_dict = {1:'a', 1:'b'}\n",
    "print(bad_dict) # 1:'a' 쌍이 무시됨"
   ]
  },
  {
   "cell_type": "code",
   "execution_count": 104,
   "metadata": {},
   "outputs": [
    {
     "ename": "TypeError",
     "evalue": "unhashable type: 'list'",
     "output_type": "error",
     "traceback": [
      "\u001b[0;31m---------------------------------------------------------------------------\u001b[0m",
      "\u001b[0;31mTypeError\u001b[0m                                 Traceback (most recent call last)",
      "\u001b[0;32m/var/folders/1c/fy58b6q97m5gxqscv17qz5040000gn/T/ipykernel_21545/4288487542.py\u001b[0m in \u001b[0;36m<module>\u001b[0;34m\u001b[0m\n\u001b[1;32m      1\u001b[0m \u001b[0;31m# 딕셔너리 만들 때 주의할 점 2\u001b[0m\u001b[0;34m\u001b[0m\u001b[0;34m\u001b[0m\u001b[0m\n\u001b[0;32m----> 2\u001b[0;31m \u001b[0ma\u001b[0m \u001b[0;34m=\u001b[0m \u001b[0;34m{\u001b[0m\u001b[0;34m[\u001b[0m\u001b[0;36m1\u001b[0m\u001b[0;34m,\u001b[0m\u001b[0;36m2\u001b[0m\u001b[0;34m]\u001b[0m\u001b[0;34m:\u001b[0m\u001b[0;34m'september'\u001b[0m\u001b[0;34m}\u001b[0m\u001b[0;34m\u001b[0m\u001b[0;34m\u001b[0m\u001b[0m\n\u001b[0m",
      "\u001b[0;31mTypeError\u001b[0m: unhashable type: 'list'"
     ]
    }
   ],
   "source": [
    "# 딕셔너리 만들 때 주의할 점 2-1\n",
    "a = {[1,2]:'september'}"
   ]
  },
  {
   "cell_type": "code",
   "execution_count": 8,
   "metadata": {},
   "outputs": [
    {
     "data": {
      "text/plain": [
       "'september'"
      ]
     },
     "execution_count": 8,
     "metadata": {},
     "output_type": "execute_result"
    }
   ],
   "source": [
    "# 딕셔너리 만들 때 주의할 점 2-2\n",
    "# tuple은 변하지 않는 자료형\n",
    "a = {(1,2):'september'}\n",
    "a[(1,2)]"
   ]
  },
  {
   "cell_type": "code",
   "execution_count": 112,
   "metadata": {},
   "outputs": [
    {
     "name": "stdout",
     "output_type": "stream",
     "text": [
      "{}\n"
     ]
    }
   ],
   "source": [
    "# Dictionary method 1 - clear\n",
    "a = {1:'I', 2:'like', 3:'to', 4:'go', 5:'home'}\n",
    "a.clear()\n",
    "print(a)"
   ]
  },
  {
   "cell_type": "code",
   "execution_count": 129,
   "metadata": {},
   "outputs": [
    {
     "name": "stdout",
     "output_type": "stream",
     "text": [
      "Rylee\n",
      "None\n",
      "None\n",
      "None\n",
      "None\n"
     ]
    }
   ],
   "source": [
    "# Dictionary method 2-1 - get\n",
    "a = {'name':'Rylee', 'phone':'821055558888', 'birth':'0915'}\n",
    "print(a.get('name'))\n",
    "\n",
    "# 존재하지 않는 키로 조회 요청 - get\n",
    "print(a.get(''))\n",
    "print(a.get(None))\n",
    "print(a.get('nokey'))\n",
    "print(a.get('James'))"
   ]
  },
  {
   "cell_type": "code",
   "execution_count": 125,
   "metadata": {},
   "outputs": [
    {
     "ename": "NameError",
     "evalue": "name 'Null' is not defined",
     "output_type": "error",
     "traceback": [
      "\u001b[0;31m---------------------------------------------------------------------------\u001b[0m",
      "\u001b[0;31mNameError\u001b[0m                                 Traceback (most recent call last)",
      "\u001b[0;32m/var/folders/1c/fy58b6q97m5gxqscv17qz5040000gn/T/ipykernel_21545/1442643902.py\u001b[0m in \u001b[0;36m<module>\u001b[0;34m\u001b[0m\n\u001b[1;32m      1\u001b[0m \u001b[0;31m# 존재하지 않는 키로 조회 요청\u001b[0m\u001b[0;34m\u001b[0m\u001b[0;34m\u001b[0m\u001b[0m\n\u001b[1;32m      2\u001b[0m \u001b[0;31m#print(a['']) # KeyError\u001b[0m\u001b[0;34m\u001b[0m\u001b[0;34m\u001b[0m\u001b[0m\n\u001b[0;32m----> 3\u001b[0;31m \u001b[0mprint\u001b[0m\u001b[0;34m(\u001b[0m\u001b[0ma\u001b[0m\u001b[0;34m[\u001b[0m\u001b[0mNull\u001b[0m\u001b[0;34m]\u001b[0m\u001b[0;34m)\u001b[0m \u001b[0;31m# error\u001b[0m\u001b[0;34m\u001b[0m\u001b[0;34m\u001b[0m\u001b[0m\n\u001b[0m\u001b[1;32m      4\u001b[0m \u001b[0;31m#print(a['nokey']) # KeyError\u001b[0m\u001b[0;34m\u001b[0m\u001b[0;34m\u001b[0m\u001b[0m\n\u001b[1;32m      5\u001b[0m \u001b[0;31m#print(a['James']) # KeyError\u001b[0m\u001b[0;34m\u001b[0m\u001b[0;34m\u001b[0m\u001b[0m\n",
      "\u001b[0;31mNameError\u001b[0m: name 'Null' is not defined"
     ]
    }
   ],
   "source": [
    "# 존재하지 않는 키로 조회 요청 - key를 직접 지정\n",
    "print(a['']) # KeyError\n",
    "print(a['nokey']) # KeyError\n",
    "print(a['James']) # KeyError"
   ]
  },
  {
   "cell_type": "code",
   "execution_count": 131,
   "metadata": {},
   "outputs": [
    {
     "data": {
      "text/plain": [
       "'NoBody'"
      ]
     },
     "execution_count": 131,
     "metadata": {},
     "output_type": "execute_result"
    }
   ],
   "source": [
    "# Dictionary method 2-2 - get\n",
    "# 'James' 키가 존재하지 않을 경우 default로 반환할 값으로 'NoBody' 지정\n",
    "a.get('James', 'NoBody')"
   ]
  },
  {
   "cell_type": "code",
   "execution_count": 140,
   "metadata": {},
   "outputs": [
    {
     "name": "stdout",
     "output_type": "stream",
     "text": [
      "{'phone': '821055558888', 'birth': '0915'}\n",
      "{'phone': '821055558888'}\n"
     ]
    }
   ],
   "source": [
    "# Dictionary method 3 - pop\n",
    "a = {'name':'Rylee', 'phone':'821055558888', 'birth':'0915'}\n",
    "a.pop('name')\n",
    "print(a)\n",
    "a.pop('birth')\n",
    "print(a)"
   ]
  },
  {
   "cell_type": "code",
   "execution_count": 142,
   "metadata": {},
   "outputs": [
    {
     "name": "stdout",
     "output_type": "stream",
     "text": [
      "{'name': 'Rylee', 'phone': '821055558888'}\n",
      "{'name': 'Rylee'}\n"
     ]
    }
   ],
   "source": [
    "# Dictionary method 4 - popitem\n",
    "a = {'name':'Rylee', 'phone':'821055558888', 'birth':'0915'}\n",
    "a.popitem()\n",
    "print(a)\n",
    "a.popitem()\n",
    "print(a)"
   ]
  },
  {
   "cell_type": "code",
   "execution_count": 135,
   "metadata": {},
   "outputs": [
    {
     "name": "stdout",
     "output_type": "stream",
     "text": [
      "True\n",
      "False\n"
     ]
    }
   ],
   "source": [
    "# Dictionaory - in\n",
    "a = {'name':'Rylee', 'phone':'821055558888', 'birth':'0915'}\n",
    "print('name' in a)\n",
    "print('email' in a)"
   ]
  },
  {
   "cell_type": "code",
   "execution_count": 60,
   "metadata": {},
   "outputs": [
    {
     "name": "stdout",
     "output_type": "stream",
     "text": [
      "dict_items([('생귤탱귤', 12), ('바나나맛우유', 7), ('일품도시락', 5), ('구운계란', 3), ('에너지드링크', 20)])\n",
      "생귤탱귤(12) 바나나맛우유(7) 일품도시락(5) 구운계란(3) 에너지드링크(20) \n",
      "{'생귤탱귤': 12, '바나나맛우유': 7, '일품도시락': 3, '구운계란': 3, '에너지드링크': 20}\n",
      "('에너지드링크', 20)\n",
      "물품 종류 개수: 4종, 전체 수량: 25개, 평균 수량: 6.250000개\n"
     ]
    }
   ],
   "source": [
    "# 실습\n",
    "store = dict()\n",
    "\n",
    "# 1)\n",
    "'''\n",
    "items = 5\n",
    "for x in range(0, items):\n",
    "    item = input(\"물품명과 수량을 입력하세요: \").split()\n",
    "    k = item[0]\n",
    "    v = int(item[1])\n",
    "    store[k] = int(v)\n",
    "'''\n",
    "store = {'생귤탱귤':12, '바나나맛우유':7, '일품도시락':5, '구운계란':3, '에너지드링크':20}\n",
    "\n",
    "# 2)\n",
    "print(store.items())\n",
    "i = str()\n",
    "for k, v in store.items():\n",
    "    i = i + (k+'('+str(v)+')'+' ')\n",
    "print(i)\n",
    "\n",
    "# 3)\n",
    "store['일품도시락'] = 3\n",
    "print(store)\n",
    "\n",
    "# 4)\n",
    "print(store.popitem())\n",
    "\n",
    "# 5)\n",
    "items = len(store)\n",
    "count = store.values()\n",
    "print(\"물품 종류 개수: %d종, 전체 수량: %d개, 평균 수량: %f개\" %(items, sum(count), sum(count)/items))"
   ]
  },
  {
   "cell_type": "code",
   "execution_count": 64,
   "metadata": {},
   "outputs": [
    {
     "name": "stdout",
     "output_type": "stream",
     "text": [
      "{1: 1, 2: 4, 3: 9, 4: 16, 5: 25, 6: 36, 7: 49, 8: 64, 9: 81, 10: 100}\n",
      "{'Sunday': 33.2, 'Monday': 31.6, 'Tuesday': 30.8, 'Wednesday': 32.4, 'Thursday': 28.8, 'Friday': 29.2, 'Saturday': 30.9}\n",
      "{'phone': 12, 'charger': 27}\n",
      "{2: {1: 2, 2: 4, 3: 6, 4: 8, 5: 10, 6: 12, 7: 14, 8: 16, 9: 18, 10: 20}, 3: {1: 3, 2: 6, 3: 9, 4: 12, 5: 15, 6: 18, 7: 21, 8: 24, 9: 27, 10: 30}, 4: {1: 4, 2: 8, 3: 12, 4: 16, 5: 20, 6: 24, 7: 28, 8: 32, 9: 36, 10: 40}}\n"
     ]
    }
   ],
   "source": [
    "# dictionary comprehension\n",
    "\n",
    "# 예 1) 1에서 10까지 수를 활용하여 key:value 딕셔너리 구성 \n",
    "# key = i, # value = i^2\n",
    "square_dict = {i:i**2 for i in range(1,11)}\n",
    "print(square_dict)\n",
    "\n",
    "# 예 2) '요일:온도' 쌍으로 딕셔너리 구성\n",
    "days = [\"Sunday\", \"Monday\",\"Tuesday\",\"Wednesday\",\"Thursday\",\"Friday\",\"Saturday\"] \n",
    "temp_C = [33.2, 31.6, 30.8, 32.4, 28.8, 29.2, 30.9]\n",
    "day_temp = {i:j for (i,j) in zip (days, temp_C)}\n",
    "print(day_temp)\n",
    "\n",
    "# 예 3) 조건문 고려\n",
    "products = {'phone':12, 'laptop':9, 'charger':27, 'tablet':5}\n",
    "available_products = {key:value for (key, value) in products.items() if value > 10}\n",
    "print(available_products)\n",
    "\n",
    "# 예 4) 중첩 루프 고려\n",
    "# key 역시도 딕셔너리인 형태\n",
    "nested_dict = {i:{j:i*j for j in range(1,11)} for i in range(2,5)}\n",
    "print(nested_dict)"
   ]
  }
 ],
 "metadata": {
  "kernelspec": {
   "display_name": "base",
   "language": "python",
   "name": "python3"
  },
  "language_info": {
   "codemirror_mode": {
    "name": "ipython",
    "version": 3
   },
   "file_extension": ".py",
   "mimetype": "text/x-python",
   "name": "python",
   "nbconvert_exporter": "python",
   "pygments_lexer": "ipython3",
   "version": "3.12.2"
  }
 },
 "nbformat": 4,
 "nbformat_minor": 2
}

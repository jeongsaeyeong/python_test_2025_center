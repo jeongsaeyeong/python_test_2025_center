{
 "cells": [
  {
   "cell_type": "markdown",
   "metadata": {},
   "source": [
    "### 12. Class"
   ]
  },
  {
   "cell_type": "code",
   "execution_count": 1,
   "metadata": {},
   "outputs": [
    {
     "name": "stdout",
     "output_type": "stream",
     "text": [
      "['cat', 'dog', 'hippo', 'lion', 'tiger']\n",
      "['cat', 'dog', 'hippo', 'lion', 'tiger', 'rabbit']\n",
      "['rabbit', 'tiger', 'lion', 'hippo', 'dog', 'cat']\n"
     ]
    }
   ],
   "source": [
    "\"\"\"\n",
    "# 클래스 - 기본 개념\n",
    "\"\"\"\n",
    "\n",
    "# animals이라는 리스트 클래스의 객체 생성\n",
    "# annimals 객체에는 아래 요소 값과 같은 속성이 정의\n",
    "animals = ['lion', 'tiger', 'cat', 'dog', 'hippo']\n",
    "\n",
    "# 리스트 클래스의 메소드 사용 1\n",
    "animals.sort()\n",
    "print(animals)\n",
    "\n",
    "# 리스트 클래스의 메소드 사용 2\n",
    "animals.append('rabbit')\n",
    "print(animals)\n",
    "\n",
    "# 리스트 클래스의 메소드 사용 3\n",
    "animals.reverse()\n",
    "print(animals)\n"
   ]
  },
  {
   "cell_type": "code",
   "execution_count": null,
   "metadata": {},
   "outputs": [],
   "source": []
  },
  {
   "cell_type": "code",
   "execution_count": 1,
   "metadata": {},
   "outputs": [
    {
     "name": "stdout",
     "output_type": "stream",
     "text": [
      "3\n",
      "7\n"
     ]
    }
   ],
   "source": [
    "\"\"\" \n",
    "클래스 개념잡기 - 계산 함수 1개\n",
    "\"\"\"\n",
    "result = 0\n",
    "\n",
    "def add(num):\n",
    "    global result\n",
    "    result += num  # 결괏값(result)에 입력값(num) 더하기\n",
    "    return result  # 결괏값 리턴\n",
    "\n",
    "print(add(3))\n",
    "print(add(4))"
   ]
  },
  {
   "cell_type": "code",
   "execution_count": 2,
   "metadata": {},
   "outputs": [
    {
     "name": "stdout",
     "output_type": "stream",
     "text": [
      "3\n",
      "7\n",
      "3\n",
      "10\n"
     ]
    }
   ],
   "source": [
    "\"\"\" \n",
    "클래스 개념잡기 - 계산 함수 2개\n",
    "    한 프로그램에서 2개의 계산기가 필요한 경우\n",
    "\"\"\"\n",
    "result1 = 0\n",
    "result2 = 0\n",
    "\n",
    "def add1(num):  # 계산기1\n",
    "    global result1\n",
    "    result1 += num\n",
    "    return result1\n",
    "\n",
    "def add2(num):  # 계산기2\n",
    "    global result2\n",
    "    result2 += num\n",
    "    return result2\n",
    "\n",
    "print(add1(3))\n",
    "print(add1(4))\n",
    "print(add2(3))\n",
    "print(add2(7))"
   ]
  },
  {
   "cell_type": "code",
   "execution_count": null,
   "metadata": {},
   "outputs": [],
   "source": [
    "\"\"\" \n",
    "클래스 개념잡기 - 계산기를 클래스로 정의\n",
    "\"\"\"\n",
    "class Calculator:\n",
    "    def __init__(self):\n",
    "        self.result = 0\n",
    "\n",
    "    def add(self, num):\n",
    "        self.result += num\n",
    "        return self.result\n",
    "\n",
    "cal1 = Calculator()\n",
    "cal2 = Calculator()\n",
    "\n",
    "print(cal1.add(3))\n",
    "print(cal1.add(4))\n",
    "print(cal2.add(3))\n",
    "print(cal2.add(7))\n"
   ]
  },
  {
   "cell_type": "code",
   "execution_count": 1,
   "metadata": {},
   "outputs": [
    {
     "name": "stdout",
     "output_type": "stream",
     "text": [
      "<class '__main__.Simple'>\n"
     ]
    }
   ],
   "source": [
    "\"\"\" \n",
    "클래스 - 정의\n",
    "    - 주피터 노트북에서 실행되는 각 셀은 직접 실행되는 파이썬 코드로 간주됨\n",
    "    - 따라서 실행 중인 파일의 모듈 이름은 **__main__**이 되어, 클래스가 정의된 모듈 이름으로 **__main__.Simple**이 출력됨\n",
    "\"\"\"\n",
    "class Simple:\n",
    "    pass\n",
    "\n",
    "a = Simple()\n",
    "print(type(a))"
   ]
  },
  {
   "cell_type": "code",
   "execution_count": 6,
   "metadata": {},
   "outputs": [],
   "source": [
    "\"\"\" \n",
    "클래스 - 살펴보기 1: 변수, 메서드, self 쓰임 이해\n",
    "\"\"\"\n",
    "class Service:\n",
    "\n",
    "    secret = \"나는 사실 암산 1급이다\"\n",
    "\n",
    "    def sum(self, a, b):\n",
    "        results = a + b\n",
    "        print(\"%s + %s = %s 입니다.\" % (a, b, results))"
   ]
  },
  {
   "cell_type": "code",
   "execution_count": 13,
   "metadata": {},
   "outputs": [
    {
     "name": "stdout",
     "output_type": "stream",
     "text": [
      "나는 사실 암산 1급이다\n",
      "1 + 10 = 11 입니다.\n",
      "1 + 10 = 11 입니다.\n"
     ]
    }
   ],
   "source": [
    "\"\"\" \n",
    "클래스 - 살펴보기 1-1: 변수, 메서드, self 쓰임 이해\n",
    "\"\"\"\n",
    "lee = Service()\n",
    "print(lee.secret)\n",
    "lee.sum(1,10)"
   ]
  },
  {
   "cell_type": "code",
   "execution_count": 14,
   "metadata": {},
   "outputs": [
    {
     "name": "stdout",
     "output_type": "stream",
     "text": [
      "1 + 10 = 11 입니다.\n",
      "1 + 10 = 11 입니다.\n"
     ]
    }
   ],
   "source": [
    "\"\"\" \n",
    "클래스 - 살펴보기 1-2: self 쓰임 이해\n",
    "서비스 제공자 입장에서는 가입한 lee라는 ID를 갖는 사람에게만 sum 서비스 제공하고자 함\n",
    "\"\"\"\n",
    "lee.sum(1,10)\n",
    "Service.sum(lee,1,10)"
   ]
  },
  {
   "cell_type": "code",
   "execution_count": 18,
   "metadata": {},
   "outputs": [
    {
     "name": "stdout",
     "output_type": "stream",
     "text": [
      "박서현님의 덧셈 서비스 결과는 100 + 200 = 300 입니다.\n"
     ]
    }
   ],
   "source": [
    "\"\"\" \n",
    "클래스 - 살펴보기 2: self의 쓰임을 좀 더 이해\n",
    "\"\"\"\n",
    "class Service:\n",
    "\n",
    "    secret = \"나는 사실 암산 1급이다\"\n",
    "\n",
    "    def setname(self, name):\n",
    "        self.name = name\n",
    "\n",
    "    def sum(self, a, b):\n",
    "        results = a + b\n",
    "        print(\"%s님의 덧셈 서비스 결과는 %s + %s = %s 입니다.\" % (self.name, a, b, results))\n",
    "\n",
    "park = Service()\n",
    "park.setname(\"박서현\")\n",
    "park.sum(100, 200)"
   ]
  },
  {
   "cell_type": "code",
   "execution_count": 19,
   "metadata": {},
   "outputs": [
    {
     "name": "stdout",
     "output_type": "stream",
     "text": [
      "박서현님의 덧셈 서비스 결과는 100 + 200 = 300 입니다.\n"
     ]
    }
   ],
   "source": [
    "\"\"\" \n",
    "클래스 - 살펴보기 3: __init__ 쓰임 이해\n",
    "\"\"\"\n",
    "class Service:\n",
    "\n",
    "    secret = \"나는 사실 암산 1급이다\"\n",
    "\n",
    "    def __init__(self, name):\n",
    "        self.name = name\n",
    "\n",
    "    def sum(self, a, b):\n",
    "        results = a + b\n",
    "        print(\"%s님의 덧셈 서비스 결과는 %s + %s = %s 입니다.\" % (self.name, a, b, results))\n",
    "\n",
    "park = Service(\"박서현\")\n",
    "park.sum(100, 200)"
   ]
  },
  {
   "cell_type": "code",
   "execution_count": 27,
   "metadata": {},
   "outputs": [
    {
     "name": "stdout",
     "output_type": "stream",
     "text": [
      "박서현님의 가족은 테니스을 즐겨한다고 합니다.\n"
     ]
    }
   ],
   "source": [
    "\"\"\" \n",
    "클래스 - 살펴보기 3: __init__ 쓰임 이해\n",
    "\"\"\"\n",
    "class Family:\n",
    "\n",
    "    last_name = \"박\"\n",
    "\n",
    "    def __init__(self, name):\n",
    "        self.full_name = self.last_name + name\n",
    "\n",
    "    def desc(self, hobby):\n",
    "        print(\"%s님의 가족은 %s를 즐겨한다고 합니다.\" % (self.full_name, hobby))\n",
    "\n",
    "park_house = Family(\"서현\")\n",
    "park_house.desc('테니스')"
   ]
  },
  {
   "cell_type": "code",
   "execution_count": 28,
   "metadata": {},
   "outputs": [
    {
     "name": "stdout",
     "output_type": "stream",
     "text": [
      "김지우님의 가족은 여행를 즐겨한다고 합니다.\n"
     ]
    }
   ],
   "source": [
    "\"\"\" \n",
    "클래스 - 구조 1: 상속\n",
    "\"\"\"\n",
    "class Family:\n",
    "\n",
    "    last_name = \"박\"\n",
    "\n",
    "    def __init__(self, name):\n",
    "        self.full_name = self.last_name + name\n",
    "\n",
    "    def desc(self, hobby):\n",
    "        print(\"%s님의 가족은 %s를 즐겨한다고 합니다.\" % (self.full_name, hobby))\n",
    "\n",
    "# 상속\n",
    "class FamilyKim(Family):\n",
    "\n",
    "    last_name = \"김\"\n",
    "\n",
    "kim_house = FamilyKim(\"지우\")\n",
    "kim_house.desc(\"여행\")\n"
   ]
  },
  {
   "cell_type": "code",
   "execution_count": 31,
   "metadata": {},
   "outputs": [
    {
     "name": "stdout",
     "output_type": "stream",
     "text": [
      "우리는 가족간 행복이 가장 중요해요~\n",
      "문태산님의 가족은 San Diego에 살고 있어요.\n"
     ]
    }
   ],
   "source": [
    "\"\"\" \n",
    "클래스 - 구조 2: 상속 + 메서드 오버라이딩\n",
    "\"\"\"\n",
    "class Family:\n",
    "\n",
    "    last_name = \"박\"\n",
    "\n",
    "    def __init__(self, name):\n",
    "        self.full_name = self.last_name + name\n",
    "\n",
    "    def desc(self, hobby):\n",
    "        print(\"%s님의 가족은 %s를 즐겨한다고 합니다.\" % (self.full_name, hobby))\n",
    "\n",
    "# 상속\n",
    "class FamilyMoon(Family):\n",
    "\n",
    "    last_name = \"문\"\n",
    "\n",
    "    def __init__(self, name):\n",
    "        self.full_name = self.last_name + name\n",
    "        self.motto = \"우리는 가족간 행복이 가장 중요해요~\"\n",
    "\n",
    "    def desc(self, location):\n",
    "        print(\"%s님의 가족은 %s에 살고 있어요.\" % (self.full_name, location))\n",
    "\n",
    "moon_house = FamilyMoon(\"태산\")\n",
    "print(moon_house.motto)\n",
    "moon_house.desc(\"San Diego\")"
   ]
  },
  {
   "cell_type": "code",
   "execution_count": 6,
   "metadata": {},
   "outputs": [
    {
     "name": "stdout",
     "output_type": "stream",
     "text": [
      "문찬혁과 김지수는 친한 초등학교 동창입니다\n",
      "문찬혁과 김지수는 동창인데 친하지는 않습니다.\n",
      "문찬혁과 김지수는 동창인데 동종 업계에서 일합니다.\n",
      "문찬혁과 김지수는 동창인데 경쟁 업계에서 일합니다.\n",
      "문찬혁과 김지수는 동창인데 경쟁 업계에서 일하지만 친근한 사이입니다.\n"
     ]
    }
   ],
   "source": [
    "\"\"\" \n",
    "클래스 - 구조 3: 상속 + 연산자 오버로딩\n",
    "\"\"\"\n",
    "class Family:\n",
    "\n",
    "    last_name = \"박\"\n",
    "\n",
    "    def __init__(self, name):\n",
    "        self.full_name = self.last_name + name\n",
    "\n",
    "    def desc(self, hobby):\n",
    "        print(\"%s님의 가족은 %s를 즐겨한다고 합니다.\" % (self.full_name, hobby))\n",
    "\n",
    "# 상속\n",
    "class FamilyMoon(Family):\n",
    "\n",
    "    last_name = \"문\"\n",
    "\n",
    "    def __init__(self, name):\n",
    "        self.full_name = self.last_name + name\n",
    "        self.motto = \"우리는 가족간 행복이 가장 중요해요~\"\n",
    "\n",
    "    # method overriding\n",
    "    def desc(self, location):\n",
    "        print(\"%s님의 가족은 %s에 살고 있어요.\" % (self.full_name, location))\n",
    "\n",
    "    # operation overloading 1\n",
    "    def __add__(self, other):\n",
    "        print(\"%s과 %s는 친한 초등학교 동창입니다\" %(self.full_name, other.full_name))\n",
    "       \n",
    "    # operation overloading 2\n",
    "    def __sub__(self, other):\n",
    "        print(\"%s과 %s는 동창인데 친하지는 않습니다.\" %(self.full_name, other.full_name))\n",
    "\n",
    "    # operation overloading 3\n",
    "    def __mul__(self, other):\n",
    "        print(\"%s과 %s는 동창인데 동종 업계에서 일합니다.\" %(self.full_name, other.full_name))\n",
    "              \n",
    "    # operation overloading 4\n",
    "    def __truediv__(self, other):\n",
    "        print(\"%s과 %s는 동창인데 경쟁 업계에서 일합니다.\" %(self.full_name, other.full_name))\n",
    "\n",
    "    # operation overloading 5\n",
    "    def __eq__(self, other):\n",
    "        print(\"%s과 %s는 동창인데 경쟁 업계에서 일하지만 친근한 사이입니다.\" %(self.full_name, other.full_name))\n",
    "\n",
    "# 상속\n",
    "class FamilyKim(Family):\n",
    "\n",
    "    last_name = \"김\"\n",
    "\n",
    "    def __init__(self, name):\n",
    "        self.full_name = self.last_name + name\n",
    "        self.motto = \"우리는 가족간 배려가 가장 중요해요~\"\n",
    "\n",
    "moon_house = FamilyMoon(\"찬혁\")\n",
    "kim_house = FamilyKim(\"지수\")\n",
    "moon_house + kim_house\n",
    "moon_house - kim_house\n",
    "moon_house * kim_house\n",
    "moon_house / kim_house\n",
    "moon_house == kim_house\n"
   ]
  },
  {
   "cell_type": "code",
   "execution_count": 39,
   "metadata": {},
   "outputs": [
    {
     "name": "stdout",
     "output_type": "stream",
     "text": [
      "문태산님의 가족은 San Diego에 살고 있어요.\n",
      "문태산님은 San Diego에서 Research and Teaching을 하고 있습니다.\n"
     ]
    }
   ],
   "source": [
    "\"\"\" \n",
    "클래스 - 구조 4: 상속 + 메서드 오버로딩 => 지원 X\n",
    "\"\"\"\n",
    "class Family:\n",
    "\n",
    "    last_name = \"박\"\n",
    "\n",
    "    def __init__(self, name):\n",
    "        self.full_name = self.last_name + name\n",
    "\n",
    "    def desc(self, hobby):\n",
    "        print(\"%s님의 가족은 %s를 즐겨한다고 합니다.\" % (self.full_name, hobby))\n",
    "\n",
    "# 상속 3\n",
    "class FamilyMoon(Family):\n",
    "\n",
    "    last_name = \"문\"\n",
    "\n",
    "    def __init__(self, name):\n",
    "        self.full_name = self.last_name + name\n",
    "        self.motto = \"우리는 가족간 행복이 가장 중요해요~\"\n",
    "\n",
    "    # method overriding\n",
    "    def desc(self, location):\n",
    "        print(\"%s님의 가족은 %s에 살고 있어요.\" % (self.full_name, location))\n",
    "\n",
    "    # method overloadding - 마지막 정의된 메서드만 실행됨 (Python은 메서드 오버로딩 지원 X)\n",
    "    def about(self, location):\n",
    "        print(\"%s님 직업은 %s입니다.\" % (self.full_name, location))\n",
    "\n",
    "    def about(self, location, work):\n",
    "        print(\"%s님은 %s에서 %s을 하고 있습니다.\" % (self.full_name, location, work))\n",
    "\n",
    "moon_house = FamilyMoon(\"태산\")\n",
    "moon_house.desc(\"San Diego\")\n",
    "moon_house.about(\"San Diego\", \"Research and Teaching\")"
   ]
  },
  {
   "cell_type": "code",
   "execution_count": null,
   "metadata": {},
   "outputs": [],
   "source": [
    "\"\"\" \n",
    "클래스 - 구조 5: 상속 + 가변 인자를 활용한 메서드 오버로딩 흉내내기 (*args)\n",
    "\"\"\"\n",
    "\n",
    "class MyClass:\n",
    "    def my_method(self, *args):\n",
    "        if len(args) == 1:\n",
    "            print(f\"Single argument: {args[0]}\")\n",
    "        elif len(args) == 2:\n",
    "            print(f\"Two arguments: {args[0]}, {args[1]}\")\n",
    "\n",
    "# 호출\n",
    "obj = MyClass()\n",
    "obj.my_method(5)        # 출력: Single argument: 5\n",
    "obj.my_method(5, 10)    # 출력: Two arguments: 5, 10"
   ]
  },
  {
   "cell_type": "code",
   "execution_count": 11,
   "metadata": {},
   "outputs": [
    {
     "name": "stdout",
     "output_type": "stream",
     "text": [
      "박찬환님의 가족은 독서를 즐겨한다고 합니다.\n",
      "박찬환님의 가족은 서울에 살고, 취미는 등산입니다.\n",
      "박찬환님의 가족은 IT에서 일하며, 취미는 독서이고, 스포츠을 좋아합니다.\n",
      "박찬환님의 가족 정보가 충분하지 않습니다.\n"
     ]
    }
   ],
   "source": [
    "\"\"\"  \n",
    "클래스 - 구조 5: 상속 + 가변 인자를 활용한 메서드 오버로딩 흉내내기 (*args)\n",
    "\"\"\"\n",
    "\n",
    "class Family:\n",
    "    last_name = \"박\"\n",
    "\n",
    "    def __init__(self, name):\n",
    "        self.full_name = self.last_name + name\n",
    "\n",
    "    # *args로 메서드 오버로딩을 흉내내는 예시\n",
    "    def desc(self, *args):\n",
    "        if len(args) == 1:\n",
    "            print(f\"{self.full_name}님의 가족은 {args[0]}를 즐겨한다고 합니다.\")\n",
    "        elif len(args) == 2:\n",
    "            print(f\"{self.full_name}님의 가족은 {args[0]}에 살고, 취미는 {args[1]}입니다.\")\n",
    "        elif len(args) == 3:\n",
    "            print(f\"{self.full_name}님의 가족은 {args[0]}에서 일하며, 취미는 {args[1]}이고, {args[2]}을 좋아합니다.\")\n",
    "        else:\n",
    "            print(f\"{self.full_name}님의 가족 정보가 충분하지 않습니다.\")\n",
    "\n",
    "# 테스트\n",
    "moon_house = Family(\"찬환\")\n",
    "\n",
    "# 여러 방식으로 desc 메서드를 호출\n",
    "moon_house.desc(\"독서\")  # 하나의 인자\n",
    "moon_house.desc(\"서울\", \"등산\")  # 두 개의 인자\n",
    "moon_house.desc(\"IT\", \"독서\", \"스포츠\")  # 세 개의 인자\n",
    "moon_house.desc()  # 인자 없이 호출"
   ]
  },
  {
   "cell_type": "code",
   "execution_count": 10,
   "metadata": {},
   "outputs": [
    {
     "name": "stdout",
     "output_type": "stream",
     "text": [
      "박찬환님의 가족은 독서를 즐겨한다고 합니다.\n",
      "박찬환님의 가족은 서울에 살고 있어요.\n",
      "박찬환님의 가족은 IT 업계에서 일합니다.\n",
      "박찬환님의 가족 정보가 충분하지 않습니다.\n"
     ]
    }
   ],
   "source": [
    "\"\"\" \n",
    "클래스 - 구조 5: 상속 + 가변 인자를 활용한 메서드 오버로딩 흉내내기 (**kwargs)\n",
    "\"\"\"\n",
    "\n",
    "class Family:\n",
    "    last_name = \"박\"\n",
    "\n",
    "    def __init__(self, name):\n",
    "        self.full_name = self.last_name + name\n",
    "\n",
    "    # **kwargs로 메서드 오버로딩을 흉내내는 예시\n",
    "    def desc(self, **kwargs):\n",
    "        if 'hobby' in kwargs:\n",
    "            print(f\"{self.full_name}님의 가족은 {kwargs['hobby']}를 즐겨한다고 합니다.\")\n",
    "        elif 'location' in kwargs:\n",
    "            print(f\"{self.full_name}님의 가족은 {kwargs['location']}에 살고 있어요.\")\n",
    "        elif 'job' in kwargs:\n",
    "            print(f\"{self.full_name}님의 가족은 {kwargs['job']} 업계에서 일합니다.\")\n",
    "        else:\n",
    "            print(f\"{self.full_name}님의 가족 정보가 충분하지 않습니다.\")\n",
    "\n",
    "# 테스트\n",
    "moon_house = Family(\"찬환\")\n",
    "\n",
    "# 여러 방식으로 desc 메서드를 호출\n",
    "moon_house.desc(hobby=\"독서\")\n",
    "moon_house.desc(location=\"서울\")\n",
    "moon_house.desc(job=\"IT\")\n",
    "moon_house.desc()  # 전달된 인자가 없을 때의 처리\n"
   ]
  },
  {
   "cell_type": "code",
   "execution_count": 13,
   "metadata": {},
   "outputs": [
    {
     "name": "stdout",
     "output_type": "stream",
     "text": [
      "1\n",
      "2\n",
      "3\n"
     ]
    }
   ],
   "source": [
    "\"\"\" \n",
    "참고 - Python 가변인자: *args\n",
    "여기서 *args는 여러 개의 위치 인자(1, 2, 3)를 튜플로 받아들여 각각 출력합니다.\n",
    "\"\"\"\n",
    "def print_args(*args):\n",
    "    for arg in args:\n",
    "        print(arg)\n",
    "\n",
    "print_args(1, 2, 3)  # 여러 개의 위치 인자"
   ]
  },
  {
   "cell_type": "code",
   "execution_count": null,
   "metadata": {},
   "outputs": [],
   "source": []
  },
  {
   "cell_type": "code",
   "execution_count": 14,
   "metadata": {},
   "outputs": [
    {
     "name": "stdout",
     "output_type": "stream",
     "text": [
      "name: John\n",
      "age: 30\n",
      "hobby: reading\n"
     ]
    }
   ],
   "source": [
    "\"\"\" \n",
    "참고 - Python 가변인자: *kwargs\n",
    "여기서 **kwargs는 키워드 인자로 전달된 name, age, hobby를 딕셔너리 형태로 받아 각각의 키와 값을 출력합니다.\n",
    "\"\"\"\n",
    "\n",
    "def print_kwargs(**kwargs):\n",
    "    for key, value in kwargs.items():\n",
    "        print(f\"{key}: {value}\")\n",
    "\n",
    "print_kwargs(name=\"John\", age=30, hobby=\"reading\")  # 여러 개의 키워드 인자\n"
   ]
  },
  {
   "cell_type": "code",
   "execution_count": 15,
   "metadata": {},
   "outputs": [
    {
     "name": "stdout",
     "output_type": "stream",
     "text": [
      "Positional arguments:\n",
      "1\n",
      "2\n",
      "3\n",
      "\n",
      "Keyword arguments:\n",
      "name: John\n",
      "age: 30\n"
     ]
    }
   ],
   "source": [
    "\"\"\" \n",
    "참고 - Python 가변인자: *args, *kwargs\n",
    "\"\"\"\n",
    "\n",
    "def print_all(*args, **kwargs):\n",
    "    print(\"Positional arguments:\")\n",
    "    for arg in args:\n",
    "        print(arg)\n",
    "\n",
    "    print(\"\\nKeyword arguments:\")\n",
    "    for key, value in kwargs.items():\n",
    "        print(f\"{key}: {value}\")\n",
    "\n",
    "# 여러 개의 위치 인자와 키워드 인자 전달\n",
    "print_all(1, 2, 3, name=\"John\", age=30)\n"
   ]
  }
 ],
 "metadata": {
  "kernelspec": {
   "display_name": "base",
   "language": "python",
   "name": "python3"
  },
  "language_info": {
   "codemirror_mode": {
    "name": "ipython",
    "version": 3
   },
   "file_extension": ".py",
   "mimetype": "text/x-python",
   "name": "python",
   "nbconvert_exporter": "python",
   "pygments_lexer": "ipython3",
   "version": "3.12.2"
  }
 },
 "nbformat": 4,
 "nbformat_minor": 2
}

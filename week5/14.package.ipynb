{
 "cells": [
  {
   "cell_type": "markdown",
   "metadata": {},
   "source": [
    "### 14. Package"
   ]
  },
  {
   "cell_type": "code",
   "execution_count": 2,
   "metadata": {},
   "outputs": [
    {
     "name": "stdout",
     "output_type": "stream",
     "text": [
      "sound 패키지가 초기화되었습니다.\n",
      "Echo sound from sound.echo\n"
     ]
    }
   ],
   "source": [
    "\"\"\" \n",
    "패키지 - 패키지 안의 함수 실행하기 1\n",
    "\"\"\"\n",
    "import game.sound.echo\n",
    "game.sound.echo.echo_sound()\n"
   ]
  },
  {
   "cell_type": "code",
   "execution_count": 3,
   "metadata": {},
   "outputs": [
    {
     "name": "stdout",
     "output_type": "stream",
     "text": [
      "Echo sound from sound.echo\n"
     ]
    }
   ],
   "source": [
    "\"\"\" \n",
    "패키지 - 패키지 안의 함수 실행하기 2\n",
    "\"\"\"\n",
    "from game.sound import echo\n",
    "echo.echo_sound()"
   ]
  },
  {
   "cell_type": "code",
   "execution_count": 4,
   "metadata": {},
   "outputs": [
    {
     "name": "stdout",
     "output_type": "stream",
     "text": [
      "Echo sound from sound.echo\n"
     ]
    }
   ],
   "source": [
    "\"\"\" \n",
    "패키지 - 패키지 안의 함수 실행하기 3\n",
    "\"\"\"\n",
    "from game.sound.echo import echo_sound\n",
    "echo_sound()"
   ]
  },
  {
   "cell_type": "code",
   "execution_count": 1,
   "metadata": {},
   "outputs": [
    {
     "name": "stdout",
     "output_type": "stream",
     "text": [
      "game 패키지가 초기화되었습니다.\n"
     ]
    },
    {
     "ename": "AttributeError",
     "evalue": "module 'game' has no attribute 'sound'",
     "output_type": "error",
     "traceback": [
      "\u001b[0;31m---------------------------------------------------------------------------\u001b[0m",
      "\u001b[0;31mAttributeError\u001b[0m                            Traceback (most recent call last)",
      "Cell \u001b[0;32mIn[1], line 5\u001b[0m\n\u001b[1;32m      1\u001b[0m \u001b[38;5;124;03m\"\"\" \u001b[39;00m\n\u001b[1;32m      2\u001b[0m \u001b[38;5;124;03m패키지 - 패키지 안의 함수 실행하기 4\u001b[39;00m\n\u001b[1;32m      3\u001b[0m \u001b[38;5;124;03m\"\"\"\u001b[39;00m\n\u001b[1;32m      4\u001b[0m \u001b[38;5;28;01mimport\u001b[39;00m \u001b[38;5;21;01mgame\u001b[39;00m \n\u001b[0;32m----> 5\u001b[0m game\u001b[38;5;241m.\u001b[39msound\u001b[38;5;241m.\u001b[39mecho\u001b[38;5;241m.\u001b[39mecho_sound()\n",
      "\u001b[0;31mAttributeError\u001b[0m: module 'game' has no attribute 'sound'"
     ]
    }
   ],
   "source": [
    "\"\"\" \n",
    "패키지 - 패키지 안의 함수 실행하기 4\n",
    "\"\"\"\n",
    "import game \n",
    "game.sound.echo.echo_sound()\n"
   ]
  },
  {
   "cell_type": "code",
   "execution_count": 6,
   "metadata": {},
   "outputs": [
    {
     "ename": "ModuleNotFoundError",
     "evalue": "No module named 'game.sound.echo.echo_sound'; 'game.sound.echo' is not a package",
     "output_type": "error",
     "traceback": [
      "\u001b[0;31m---------------------------------------------------------------------------\u001b[0m",
      "\u001b[0;31mModuleNotFoundError\u001b[0m                       Traceback (most recent call last)",
      "Cell \u001b[0;32mIn[6], line 4\u001b[0m\n\u001b[1;32m      1\u001b[0m \u001b[38;5;124;03m\"\"\" \u001b[39;00m\n\u001b[1;32m      2\u001b[0m \u001b[38;5;124;03m패키지 - 패키지 안의 함수 실행하기 5\u001b[39;00m\n\u001b[1;32m      3\u001b[0m \u001b[38;5;124;03m\"\"\"\u001b[39;00m\n\u001b[0;32m----> 4\u001b[0m \u001b[38;5;28;01mimport\u001b[39;00m \u001b[38;5;21;01mgame\u001b[39;00m\u001b[38;5;21;01m.\u001b[39;00m\u001b[38;5;21;01msound\u001b[39;00m\u001b[38;5;21;01m.\u001b[39;00m\u001b[38;5;21;01mecho\u001b[39;00m\u001b[38;5;21;01m.\u001b[39;00m\u001b[38;5;21;01mecho_sound\u001b[39;00m\n",
      "\u001b[0;31mModuleNotFoundError\u001b[0m: No module named 'game.sound.echo.echo_sound'; 'game.sound.echo' is not a package"
     ]
    }
   ],
   "source": [
    "\"\"\" \n",
    "패키지 - 패키지 안의 함수 실행하기 5\n",
    "\"\"\"\n",
    "import game.sound.echo.echo_sound\n"
   ]
  },
  {
   "cell_type": "code",
   "execution_count": 1,
   "metadata": {},
   "outputs": [
    {
     "name": "stdout",
     "output_type": "stream",
     "text": [
      "game 패키지가 초기화되었습니다.\n",
      "sound 패키지가 초기화되었습니다.\n"
     ]
    },
    {
     "ename": "NameError",
     "evalue": "name 'echo' is not defined",
     "output_type": "error",
     "traceback": [
      "\u001b[0;31m---------------------------------------------------------------------------\u001b[0m",
      "\u001b[0;31mNameError\u001b[0m                                 Traceback (most recent call last)",
      "Cell \u001b[0;32mIn[1], line 5\u001b[0m\n\u001b[1;32m      1\u001b[0m \u001b[38;5;124;03m\"\"\" \u001b[39;00m\n\u001b[1;32m      2\u001b[0m \u001b[38;5;124;03m패키지 - 패키지 안의 함수 실행하기 6\u001b[39;00m\n\u001b[1;32m      3\u001b[0m \u001b[38;5;124;03m\"\"\"\u001b[39;00m\n\u001b[1;32m      4\u001b[0m \u001b[38;5;28;01mfrom\u001b[39;00m \u001b[38;5;21;01mgame\u001b[39;00m\u001b[38;5;21;01m.\u001b[39;00m\u001b[38;5;21;01msound\u001b[39;00m \u001b[38;5;28;01mimport\u001b[39;00m \u001b[38;5;241m*\u001b[39m\n\u001b[0;32m----> 5\u001b[0m echo\u001b[38;5;241m.\u001b[39mecho_sound()\n",
      "\u001b[0;31mNameError\u001b[0m: name 'echo' is not defined"
     ]
    }
   ],
   "source": [
    "\"\"\" \n",
    "패키지 - 패키지 안의 함수 실행하기 6\n",
    "\"\"\"\n",
    "from game.sound import *\n",
    "echo.echo_sound()"
   ]
  },
  {
   "cell_type": "code",
   "execution_count": null,
   "metadata": {},
   "outputs": [],
   "source": [
    "\"\"\" \n",
    "패키지 - Relative Package\n",
    "\"\"\"\n",
    "from game.sound.echo import echo_test"
   ]
  }
 ],
 "metadata": {
  "kernelspec": {
   "display_name": "base",
   "language": "python",
   "name": "python3"
  },
  "language_info": {
   "codemirror_mode": {
    "name": "ipython",
    "version": 3
   },
   "file_extension": ".py",
   "mimetype": "text/x-python",
   "name": "python",
   "nbconvert_exporter": "python",
   "pygments_lexer": "ipython3",
   "version": "3.12.2"
  }
 },
 "nbformat": 4,
 "nbformat_minor": 2
}

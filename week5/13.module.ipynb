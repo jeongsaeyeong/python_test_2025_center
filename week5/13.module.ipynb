{
 "cells": [
  {
   "cell_type": "markdown",
   "metadata": {},
   "source": [
    "### 13. Module"
   ]
  },
  {
   "cell_type": "markdown",
   "metadata": {},
   "source": [
    "- mod1.py 만들기"
   ]
  },
  {
   "cell_type": "code",
   "execution_count": null,
   "metadata": {},
   "outputs": [
    {
     "name": "stdout",
     "output_type": "stream",
     "text": [
      "110\n"
     ]
    }
   ],
   "source": [
    "\"\"\" \n",
    "모듈 - import 모듈 이름\n",
    "\"\"\"\n",
    "import mod1\n",
    "print(mod1.add(10,100))"
   ]
  },
  {
   "cell_type": "code",
   "execution_count": null,
   "metadata": {},
   "outputs": [
    {
     "name": "stdout",
     "output_type": "stream",
     "text": [
      "110\n"
     ]
    }
   ],
   "source": [
    "\"\"\" \n",
    "모듈 - from 모듈 이름 import 모듈 함수\n",
    "\"\"\"\n",
    "from mod1 import add\n",
    "print(mod1.add(10,100))"
   ]
  },
  {
   "cell_type": "code",
   "execution_count": null,
   "metadata": {},
   "outputs": [
    {
     "name": "stdout",
     "output_type": "stream",
     "text": [
      "110\n",
      "85\n"
     ]
    }
   ],
   "source": [
    "\"\"\" \n",
    "모듈 - from 모듈 이름 import 모듈 함수 1, 모둘 힘수 2, ...\n",
    "\"\"\"\n",
    "from mod1 import add, sub\n",
    "print(mod1.add(10,100))\n",
    "print(mod1.sub(100,15))\n"
   ]
  },
  {
   "cell_type": "code",
   "execution_count": null,
   "metadata": {},
   "outputs": [
    {
     "name": "stdout",
     "output_type": "stream",
     "text": [
      "110\n",
      "85\n"
     ]
    }
   ],
   "source": [
    "\"\"\" \n",
    "모듈 - from 모듈 이름 import *\n",
    "\"\"\"\n",
    "from mod1 import *\n",
    "print(mod1.add(10,100))\n",
    "print(mod1.sub(100,15))"
   ]
  },
  {
   "cell_type": "code",
   "execution_count": null,
   "metadata": {},
   "outputs": [
    {
     "name": "stdout",
     "output_type": "stream",
     "text": [
      "28.274328\n",
      "12.341591999999999\n"
     ]
    }
   ],
   "source": [
    "\"\"\" \n",
    "모듈 - 클래스를 포함한 모듈 이용\n",
    "\"\"\"\n",
    "import mod2\n",
    "a = mod2.Circle()\n",
    "print(a.getArea(3))\n",
    "print(mod2.sum(mod2.PI,9.2))"
   ]
  }
 ],
 "metadata": {
  "kernelspec": {
   "display_name": "base",
   "language": "python",
   "name": "python3"
  },
  "language_info": {
   "codemirror_mode": {
    "name": "ipython",
    "version": 3
   },
   "file_extension": ".py",
   "mimetype": "text/x-python",
   "name": "python",
   "nbconvert_exporter": "python",
   "pygments_lexer": "ipython3",
   "version": "3.9.7"
  }
 },
 "nbformat": 4,
 "nbformat_minor": 2
}

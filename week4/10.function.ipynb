{
 "cells": [
  {
   "cell_type": "markdown",
   "metadata": {},
   "source": [
    "### 10. Function"
   ]
  },
  {
   "cell_type": "code",
   "execution_count": 4,
   "metadata": {},
   "outputs": [
    {
     "name": "stdout",
     "output_type": "stream",
     "text": [
      "7\n",
      "40\n"
     ]
    }
   ],
   "source": [
    "# function call - 1\n",
    "# 함수 정의\n",
    "\n",
    "# function\n",
    "def sum(a, b):\n",
    "    return a + b\n",
    "\n",
    "# caller\n",
    "a = 3\n",
    "b = 4\n",
    "c = sum(a, b) # 1st call\n",
    "print(c)\n",
    "\n",
    "a = 10\n",
    "b = 30\n",
    "c = sum(a, b) # 2nd call\n",
    "print(c)"
   ]
  },
  {
   "cell_type": "code",
   "execution_count": 5,
   "metadata": {},
   "outputs": [
    {
     "name": "stdout",
     "output_type": "stream",
     "text": [
      "28.26\n"
     ]
    }
   ],
   "source": [
    "# function call - 2\n",
    "# 단일 값을 전달하는 함수 호출\n",
    "def cal_circle_area(radius):\n",
    "    circle_area = 3.14 * radius ** 2\n",
    "    return circle_area\n",
    "\n",
    "c_area = cal_circle_area(3.0)\n",
    "print(c_area)"
   ]
  },
  {
   "cell_type": "code",
   "execution_count": 6,
   "metadata": {},
   "outputs": [
    {
     "name": "stdout",
     "output_type": "stream",
     "text": [
      "200\n"
     ]
    }
   ],
   "source": [
    "# function call - 3\n",
    "# 여러 값을 전달하는 함수 호출\n",
    "def cal_rectangle_area(width, height):\n",
    "    rect_area = width * height\n",
    "    return rect_area\n",
    "\n",
    "r_area = cal_rectangle_area(10, 20)\n",
    "print(r_area)"
   ]
  },
  {
   "cell_type": "code",
   "execution_count": 8,
   "metadata": {},
   "outputs": [
    {
     "name": "stdout",
     "output_type": "stream",
     "text": [
      "10의 제곱: 100, 20의 제곱: 400, 30의 제곱: 900\n"
     ]
    }
   ],
   "source": [
    "# function call - 3\n",
    "# 여러 값을 전달하고 여러 값을 수신하는 함수 호출\n",
    "\n",
    "def get_square(a, b, c):\n",
    "    return a**2, b**2, c**2\n",
    "\n",
    "a, b, c = 10, 20, 30\n",
    "a_sq, b_sq, c_sq = get_square(a, b, c)\n",
    "print(\"%d의 제곱: %d, %d의 제곱: %d, %d의 제곱: %d\" %(a, a_sq, b, b_sq, c, c_sq))"
   ]
  },
  {
   "cell_type": "code",
   "execution_count": 9,
   "metadata": {},
   "outputs": [
    {
     "name": "stdout",
     "output_type": "stream",
     "text": [
      "count = 100\n",
      "count = 10\n"
     ]
    }
   ],
   "source": [
    "# function call - 4\n",
    "# 함수 내외부 변수의 차이\n",
    "\n",
    "def show_count():\n",
    "    count = 100 # 지역 변수\n",
    "    print(\"count = %d\" % count)\n",
    "\n",
    "count = 10\n",
    "show_count() # 전역 변수\n",
    "print(\"count = %d\" % count)"
   ]
  },
  {
   "cell_type": "code",
   "execution_count": 10,
   "metadata": {},
   "outputs": [
    {
     "name": "stdout",
     "output_type": "stream",
     "text": [
      "count = 100\n",
      "count = 100\n"
     ]
    }
   ],
   "source": [
    "# function call - 5\n",
    "# 함수 내부에서 전역변수 사용\n",
    "\n",
    "def show_count():\n",
    "    global count # 함수 외부 변수 사용 선언\n",
    "    count = 100  # 전역 변수에 100 할당\n",
    "    print(\"count = %d\" % count)\n",
    "\n",
    "count = 10\n",
    "show_count() # 100\n",
    "print(\"count = %d\" % count) # ?"
   ]
  },
  {
   "cell_type": "code",
   "execution_count": 12,
   "metadata": {},
   "outputs": [
    {
     "name": "stdout",
     "output_type": "stream",
     "text": [
      "78.5\n"
     ]
    }
   ],
   "source": [
    "# function call - 6\n",
    "# 함수 내부에서 전역변수 사용\n",
    "\n",
    "def cal_circle_area(radius):\n",
    "    global c_area\n",
    "    c_area = 3.14 * radius ** 2\n",
    "    # no return\n",
    "\n",
    "r = 5.0\n",
    "c_area = 0\n",
    "cal_circle_area(r)\n",
    "print(c_area) # retrun은 없지만 면적 확인 가능"
   ]
  },
  {
   "cell_type": "code",
   "execution_count": 5,
   "metadata": {},
   "outputs": [
    {
     "name": "stdout",
     "output_type": "stream",
     "text": [
      "햄버거 1개 - 콜라 없음, 감자튀김 추가\n"
     ]
    }
   ],
   "source": [
    "# 함수 - default argument 1\n",
    "\n",
    "def order(num, coke, fry):\n",
    "    if coke: coke_add = \"추가\"\n",
    "    else: coke_add = \"없음\"\n",
    "    if fry: fry_add = \"추가\"\n",
    "    else: fry_add = \"없음\"\n",
    "\n",
    "    print('햄버거 {0}개 - 콜라 {1}, 감자튀김 {2}'.format(num, coke_add, fry_add))\n",
    "\n",
    "order(1, False, True)"
   ]
  },
  {
   "cell_type": "code",
   "execution_count": 7,
   "metadata": {},
   "outputs": [
    {
     "ename": "TypeError",
     "evalue": "order() missing 2 required positional arguments: 'coke' and 'fry'",
     "output_type": "error",
     "traceback": [
      "\u001b[0;31m---------------------------------------------------------------------------\u001b[0m",
      "\u001b[0;31mTypeError\u001b[0m                                 Traceback (most recent call last)",
      "Cell \u001b[0;32mIn[7], line 2\u001b[0m\n\u001b[1;32m      1\u001b[0m \u001b[38;5;66;03m# default 인자가 없어 오류 발생\u001b[39;00m\n\u001b[0;32m----> 2\u001b[0m order(\u001b[38;5;241m1\u001b[39m)\n",
      "\u001b[0;31mTypeError\u001b[0m: order() missing 2 required positional arguments: 'coke' and 'fry'"
     ]
    }
   ],
   "source": [
    "# default 인자가 없어 오류 발생\n",
    "order(1)"
   ]
  },
  {
   "cell_type": "code",
   "execution_count": 8,
   "metadata": {},
   "outputs": [
    {
     "name": "stdout",
     "output_type": "stream",
     "text": [
      "햄버거 1개 - 콜라 없음, 감자튀김 추가\n"
     ]
    }
   ],
   "source": [
    "# 함수 - default argument 2\n",
    "\n",
    "def order(num, coke = False, fry = False):\n",
    "    if coke: coke_add = \"추가\"\n",
    "    else: coke_add = \"없음\"\n",
    "    if fry: fry_add = \"추가\"\n",
    "    else: fry_add = \"없음\"\n",
    "\n",
    "    print('햄버거 {0}개 - 콜라 {1}, 감자튀김 {2}'.format(num, coke_add, fry_add))\n",
    "\n",
    "order(1, False, True)"
   ]
  },
  {
   "cell_type": "code",
   "execution_count": 9,
   "metadata": {},
   "outputs": [
    {
     "name": "stdout",
     "output_type": "stream",
     "text": [
      "햄버거 1개 - 콜라 없음, 감자튀김 없음\n"
     ]
    }
   ],
   "source": [
    "# 함수 - Default 인자를 갖는 함수로 정의하고 다시 호출\n",
    "order(1)"
   ]
  },
  {
   "cell_type": "code",
   "execution_count": 10,
   "metadata": {},
   "outputs": [
    {
     "name": "stdout",
     "output_type": "stream",
     "text": [
      "햄버거 1개 - 콜라 추가, 감자튀김 없음\n"
     ]
    }
   ],
   "source": [
    "# 함수 - Default 값이 있는 매개 변수는 인자의 순서를 변경하여 호출 가능\n",
    "order(1, fry = False, coke = True)"
   ]
  },
  {
   "cell_type": "code",
   "execution_count": 11,
   "metadata": {},
   "outputs": [
    {
     "name": "stdout",
     "output_type": "stream",
     "text": [
      "1024\n",
      "100\n"
     ]
    }
   ],
   "source": [
    "# 함수 - 키워드 인자 (Keyword Argument)\n",
    "def power(base, exponent):\n",
    "    return base ** exponent\n",
    "\n",
    "print(power(2, 10))\n",
    "print(power(10, 2))"
   ]
  },
  {
   "cell_type": "code",
   "execution_count": 12,
   "metadata": {},
   "outputs": [
    {
     "name": "stdout",
     "output_type": "stream",
     "text": [
      "1024\n",
      "1024\n"
     ]
    }
   ],
   "source": [
    "# 함수 - 키워드 인자 (Keyword Argument)\n",
    "print(power(base=2, exponent=10))\n",
    "print(power(exponent=10, base=2))\n"
   ]
  },
  {
   "cell_type": "code",
   "execution_count": 13,
   "metadata": {},
   "outputs": [
    {
     "ename": "SyntaxError",
     "evalue": "positional argument follows keyword argument (2297991282.py, line 2)",
     "output_type": "error",
     "traceback": [
      "\u001b[0;36m  Cell \u001b[0;32mIn[13], line 2\u001b[0;36m\u001b[0m\n\u001b[0;31m    print(power(base=2, 10))\u001b[0m\n\u001b[0m                          ^\u001b[0m\n\u001b[0;31mSyntaxError\u001b[0m\u001b[0;31m:\u001b[0m positional argument follows keyword argument\n"
     ]
    }
   ],
   "source": [
    "# 함수 - 키워드 인자 (Keyword Argument)\n",
    "print(power(base=2, 10))"
   ]
  },
  {
   "cell_type": "code",
   "execution_count": 1,
   "metadata": {},
   "outputs": [
    {
     "ename": "NameError",
     "evalue": "name 'power' is not defined",
     "output_type": "error",
     "traceback": [
      "\u001b[0;31m---------------------------------------------------------------------------\u001b[0m",
      "\u001b[0;31mNameError\u001b[0m                                 Traceback (most recent call last)",
      "Cell \u001b[0;32mIn[1], line 2\u001b[0m\n\u001b[1;32m      1\u001b[0m \u001b[38;5;66;03m# 함수 - 키워드 인자 (Keyword Argument)\u001b[39;00m\n\u001b[0;32m----> 2\u001b[0m \u001b[38;5;28mprint\u001b[39m(power(\u001b[38;5;241m2\u001b[39m, exponent\u001b[38;5;241m=\u001b[39m\u001b[38;5;241m10\u001b[39m))\n",
      "\u001b[0;31mNameError\u001b[0m: name 'power' is not defined"
     ]
    }
   ],
   "source": [
    "# 함수 - 키워드 인자 (Keyword Argument)\n",
    "print(power(2, exponent=10))"
   ]
  },
  {
   "cell_type": "code",
   "execution_count": 2,
   "metadata": {},
   "outputs": [
    {
     "name": "stdout",
     "output_type": "stream",
     "text": [
      "100! = 24\n"
     ]
    }
   ],
   "source": [
    "\"\"\" \n",
    "함수 - recursive call - factorial\n",
    "\"\"\"\n",
    "def factorial(n):\n",
    "    if n <= 1:\n",
    "        return 1\n",
    "    else:\n",
    "        return n * factorial(n-1)\n",
    "\n",
    "print(\"100! =\", factorial(4))"
   ]
  },
  {
   "cell_type": "code",
   "execution_count": 3,
   "metadata": {},
   "outputs": [
    {
     "name": "stdout",
     "output_type": "stream",
     "text": [
      "165580141\n"
     ]
    }
   ],
   "source": [
    "\"\"\" \n",
    "함수 - recursive call - fibonacci\n",
    "\"\"\"\n",
    "\n",
    "def fibonacci(n):\n",
    "    # 입력 오류 처리\n",
    "    if n < 0: \n",
    "        print(\"Wrong number\")\n",
    "    # 재귀호출 중단조건 1\n",
    "    elif n == 0:\n",
    "        return 0\n",
    "    # 재귀호출 중단조건 2\n",
    "    elif n == 1:\n",
    "        return 1\n",
    "    # 재귀호출\n",
    "    else:\n",
    "        return fibonacci(n-1) + fibonacci(n-2)\n",
    "\n",
    "# 테스트\n",
    "print(fibonacci(41))"
   ]
  },
  {
   "cell_type": "code",
   "execution_count": 4,
   "metadata": {},
   "outputs": [
    {
     "name": "stdout",
     "output_type": "stream",
     "text": [
      "1099511627776\n"
     ]
    }
   ],
   "source": [
    "\"\"\" \n",
    "함수 - recursive call - fibonacci\n",
    "    - 속도 개선\n",
    "\"\"\"\n",
    "\n",
    "def fibonacci(n):\n",
    "    \n",
    "    if n < 2:\n",
    "        return n\n",
    "    \n",
    "    a, b = 0, 1\n",
    "    for _ in range(n-1):\n",
    "        a = b\n",
    "        b = a + b\n",
    "\n",
    "    return b\n",
    "  \n",
    "# 테스트\n",
    "print(fibonacci(41))"
   ]
  },
  {
   "cell_type": "code",
   "execution_count": 5,
   "metadata": {},
   "outputs": [
    {
     "name": "stdout",
     "output_type": "stream",
     "text": [
      "2025-09-22 22:16:00.644820\n",
      "2025-09-22\n",
      "2025\n",
      "9\n",
      "22\n"
     ]
    }
   ],
   "source": [
    "\"\"\" \n",
    "함수 - module\n",
    "    - 파이썬 표준 라이브러리 중 datetime 활용\n",
    "\"\"\"\n",
    "\n",
    "import datetime\n",
    "\n",
    "# datetime 모듈 - datetime 클래스 - now 메소드\n",
    "present = datetime.datetime.now()\n",
    "print(present)\n",
    "\n",
    "# 오늘 날짜\n",
    "today = datetime.date.today()\n",
    "print(today)\n",
    "\n",
    "# 날짜 분리\n",
    "print(today.year)\n",
    "print(today.month)\n",
    "print(today.day)\n",
    "\n"
   ]
  },
  {
   "cell_type": "code",
   "execution_count": 6,
   "metadata": {},
   "outputs": [
    {
     "name": "stdout",
     "output_type": "stream",
     "text": [
      "1000과 3000의 합:  4000\n"
     ]
    }
   ],
   "source": [
    "\"\"\" \n",
    "함수 - lambda 1\n",
    "\"\"\"\n",
    "print('1000과 3000의 합: ', (lambda x, y : x + y)(1000, 3000))"
   ]
  },
  {
   "cell_type": "code",
   "execution_count": 7,
   "metadata": {},
   "outputs": [
    {
     "name": "stdout",
     "output_type": "stream",
     "text": [
      "100\n",
      "400\n"
     ]
    }
   ],
   "source": [
    "\"\"\" \n",
    "함수 - lambda 2\n",
    "\"\"\"\n",
    "t = (100, 400, 500)\n",
    "a = (lambda x: x[0])(t)\n",
    "b = (lambda x: x[1])(t)\n",
    "print(a)\n",
    "print(b)"
   ]
  },
  {
   "cell_type": "code",
   "execution_count": 8,
   "metadata": {},
   "outputs": [
    {
     "name": "stdout",
     "output_type": "stream",
     "text": [
      "[('강감찬', '010-8888-9999'), ('이순신', '010-2345-9876'), ('홍길동', '010-1234-5678')]\n",
      "[('홍길동', '010-1234-5678'), ('이순신', '010-2345-9876'), ('강감찬', '010-8888-9999')]\n"
     ]
    }
   ],
   "source": [
    "\"\"\" \n",
    "함수 - lambda 3\n",
    "\"\"\"\n",
    "\n",
    "# 딕셔너리 정의\n",
    "phone_book = {\n",
    "    '홍길동': '010-1234-5678',\n",
    "    '강감찬': '010-8888-9999',\n",
    "    '이순신': '010-2345-9876'\n",
    "}\n",
    "\n",
    "# (key, value) 튜플을 이름(첫 번째 요소)을 기준으로 정렬\n",
    "sorted_phone_book1 = sorted(phone_book.items(), key=lambda x: x[0])\n",
    "print(sorted_phone_book1)\n",
    "\n",
    "# (key, value) 튜플을 전화번호(두 번째 요소)를 기준으로 정렬\n",
    "sorted_phone_book2 = sorted(phone_book.items(), key=lambda x: x[1])\n",
    "print(sorted_phone_book2)"
   ]
  },
  {
   "cell_type": "code",
   "execution_count": 9,
   "metadata": {},
   "outputs": [
    {
     "name": "stdout",
     "output_type": "stream",
     "text": [
      "{10: 2, 30: 4, 40: 1, 50: 1, 20: 3}\n",
      "10 : 2 회\n",
      "20 : 3 회\n",
      "30 : 4 회\n"
     ]
    }
   ],
   "source": [
    "\"\"\" \n",
    "함수 - lambda 4\n",
    "\"\"\"\n",
    "\n",
    "mylist = [10, 30, 40, 50, 30, 30, 20, 20, 20, 10, 30]\n",
    "\n",
    "mydict = {}\n",
    "for value in mylist:\n",
    "    if mydict.get(value):\n",
    "        mydict[value] += 1 # 해당 Key의 Value 1만큼 증가\n",
    "    else:\n",
    "        mydict[value] = 1  # 딕셔너리에 없던 Key라면 Value 1로 설정\n",
    "\n",
    "print(mydict)\n",
    "\n",
    "# 딕셔너리 아이템에서 키로 오름차순 정렬하여 리스트로 반환\n",
    "sorted_list = sorted(mydict.items(), key=lambda x: x[0]) # list: [(a, b), (c, d) (d, e), ...]\n",
    "#print(sorted_list)\n",
    "\n",
    "for value in sorted_list:\n",
    "    if value[1] != 1: # 중복인 경우의 요소만 출력\n",
    "        print(value[0], ':', value[1], '회')"
   ]
  }
 ],
 "metadata": {
  "kernelspec": {
   "display_name": "base",
   "language": "python",
   "name": "python3"
  },
  "language_info": {
   "codemirror_mode": {
    "name": "ipython",
    "version": 3
   },
   "file_extension": ".py",
   "mimetype": "text/x-python",
   "name": "python",
   "nbconvert_exporter": "python",
   "pygments_lexer": "ipython3",
   "version": "3.12.2"
  }
 },
 "nbformat": 4,
 "nbformat_minor": 2
}

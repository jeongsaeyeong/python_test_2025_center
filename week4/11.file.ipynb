{
 "cells": [
  {
   "cell_type": "markdown",
   "metadata": {},
   "source": [
    "### 11. 텍스트 데이터 처리"
   ]
  },
  {
   "cell_type": "code",
   "execution_count": 1,
   "metadata": {},
   "outputs": [],
   "source": [
    "# 텍스트 - 파일 생성\n",
    "f = open(\"new_file.txt\", 'w')\n",
    "f.close()"
   ]
  },
  {
   "cell_type": "code",
   "execution_count": 6,
   "metadata": {},
   "outputs": [],
   "source": [
    "# 텍스트 - 파일 생성 및 기록\n",
    "f = open(\"./new_file.txt\", 'w')\n",
    "for i in range(1, 11):\n",
    "    data = '%d번째 줄입니다.\\n' % i\n",
    "    f.write(data)\n",
    "f.close()"
   ]
  },
  {
   "cell_type": "code",
   "execution_count": 12,
   "metadata": {},
   "outputs": [
    {
     "name": "stdout",
     "output_type": "stream",
     "text": [
      "<class 'str'>\n",
      "1번째 줄입니다.\n",
      "\n"
     ]
    }
   ],
   "source": [
    "# 텍스트 - 파일 읽기 1-1\n",
    "# readline()\n",
    "\n",
    "f = open(\"./new_file.txt\", 'r')\n",
    "line = f.readline()\n",
    "print(type(line))\n",
    "print(line)\n",
    "f.close()\n"
   ]
  },
  {
   "cell_type": "code",
   "execution_count": 8,
   "metadata": {},
   "outputs": [
    {
     "name": "stdout",
     "output_type": "stream",
     "text": [
      "1번째 줄입니다.\n",
      "\n",
      "2번째 줄입니다.\n",
      "\n",
      "3번째 줄입니다.\n",
      "\n",
      "4번째 줄입니다.\n",
      "\n",
      "5번째 줄입니다.\n",
      "\n",
      "6번째 줄입니다.\n",
      "\n",
      "7번째 줄입니다.\n",
      "\n",
      "8번째 줄입니다.\n",
      "\n",
      "9번째 줄입니다.\n",
      "\n",
      "10번째 줄입니다.\n",
      "\n"
     ]
    }
   ],
   "source": [
    "# 텍스트 - 파일 읽기 1-2\n",
    "# readline() with loop\n",
    "\n",
    "f = open(\"./new_file.txt\", 'r')\n",
    "while True:\n",
    "    line = f.readline()\n",
    "    if not line: \n",
    "        break\n",
    "    print(line)\n",
    "f.close()"
   ]
  },
  {
   "cell_type": "code",
   "execution_count": 13,
   "metadata": {},
   "outputs": [
    {
     "name": "stdout",
     "output_type": "stream",
     "text": [
      "<class 'list'>\n",
      "1번째 줄입니다.\n",
      "\n",
      "2번째 줄입니다.\n",
      "\n",
      "3번째 줄입니다.\n",
      "\n",
      "4번째 줄입니다.\n",
      "\n",
      "5번째 줄입니다.\n",
      "\n",
      "6번째 줄입니다.\n",
      "\n",
      "7번째 줄입니다.\n",
      "\n",
      "8번째 줄입니다.\n",
      "\n",
      "9번째 줄입니다.\n",
      "\n",
      "10번째 줄입니다.\n",
      "\n"
     ]
    }
   ],
   "source": [
    "# 텍스트 - 파일 읽기 2\n",
    "# readlines()\n",
    "\n",
    "f = open(\"./new_file.txt\", 'r')\n",
    "lines = f.readlines()\n",
    "print(type(lines))\n",
    "for line in lines:\n",
    "    print(line)\n",
    "f.close()"
   ]
  },
  {
   "cell_type": "code",
   "execution_count": 15,
   "metadata": {},
   "outputs": [
    {
     "name": "stdout",
     "output_type": "stream",
     "text": [
      "<class 'str'>\n",
      "1번째 줄입니다.\n",
      "2번째 줄입니다.\n",
      "3번째 줄입니다.\n",
      "4번째 줄입니다.\n",
      "5번째 줄입니다.\n",
      "6번째 줄입니다.\n",
      "7번째 줄입니다.\n",
      "8번째 줄입니다.\n",
      "9번째 줄입니다.\n",
      "10번째 줄입니다.\n",
      "11번째 줄입니다.\n",
      "12번째 줄입니다.\n",
      "13번째 줄입니다.\n",
      "14번째 줄입니다.\n",
      "15번째 줄입니다.\n",
      "16번째 줄입니다.\n",
      "17번째 줄입니다.\n",
      "18번째 줄입니다.\n",
      "19번째 줄입니다.\n",
      "We are ready to go further!\n",
      "1\n"
     ]
    }
   ],
   "source": [
    "# 텍스트 - 파일 읽기 3\n",
    "# read()\n",
    "f = open(\"./new_file.txt\", 'r')\n",
    "data = f.read()\n",
    "print(type(data))\n",
    "print(data)\n",
    "f.close()"
   ]
  },
  {
   "cell_type": "code",
   "execution_count": 15,
   "metadata": {},
   "outputs": [],
   "source": [
    "# 텍스트 - 파일에 내용 추가\n",
    "# append mode\n",
    "f = open(\"./new_file.txt\", 'a')\n",
    "for i in range(11, 20):\n",
    "    data = \"%d번째 줄입니다.\\n\" % i\n",
    "    f.write(data)\n",
    "f.close()"
   ]
  },
  {
   "cell_type": "code",
   "execution_count": 18,
   "metadata": {},
   "outputs": [
    {
     "name": "stdout",
     "output_type": "stream",
     "text": [
      "1번째 줄입니다.\n",
      "2번째 줄입니다.\n",
      "3번째 줄입니다.\n",
      "4번째 줄입니다.\n",
      "5번째 줄입니다.\n",
      "6번째 줄입니다.\n",
      "7번째 줄입니다.\n",
      "8번째 줄입니다.\n",
      "9번째 줄입니다.\n",
      "10번째 줄입니다.\n",
      "11번째 줄입니다.\n",
      "12번째 줄입니다.\n",
      "13번째 줄입니다.\n",
      "14번째 줄입니다.\n",
      "15번째 줄입니다.\n",
      "16번째 줄입니다.\n",
      "17번째 줄입니다.\n",
      "18번째 줄입니다.\n",
      "19번째 줄입니다.\n",
      "\n"
     ]
    }
   ],
   "source": [
    "# 텍스트 - 파일 객체 종료 자동화\n",
    "# with 사용\n",
    "with open(\"./new_file.txt\", 'r') as f:\n",
    "    data = f.read()\n",
    "    print(data)\n",
    "\n",
    "with open(\"./new_file.txt\", 'a') as f:\n",
    "    f.write(\"We are ready to go further!\")"
   ]
  },
  {
   "cell_type": "code",
   "execution_count": 16,
   "metadata": {},
   "outputs": [
    {
     "ename": "FileNotFoundError",
     "evalue": "[Errno 2] No such file or directory: './test_file.txt'",
     "output_type": "error",
     "traceback": [
      "\u001b[0;31m---------------------------------------------------------------------------\u001b[0m",
      "\u001b[0;31mFileNotFoundError\u001b[0m                         Traceback (most recent call last)",
      "Cell \u001b[0;32mIn[16], line 2\u001b[0m\n\u001b[1;32m      1\u001b[0m \u001b[38;5;66;03m# 텍스트 - 파일 열기 오류\u001b[39;00m\n\u001b[0;32m----> 2\u001b[0m f \u001b[38;5;241m=\u001b[39m \u001b[38;5;28mopen\u001b[39m(\u001b[38;5;124m\"\u001b[39m\u001b[38;5;124m./test_file.txt\u001b[39m\u001b[38;5;124m\"\u001b[39m, \u001b[38;5;124m'\u001b[39m\u001b[38;5;124mr\u001b[39m\u001b[38;5;124m'\u001b[39m)\n\u001b[1;32m      3\u001b[0m data \u001b[38;5;241m=\u001b[39m f\u001b[38;5;241m.\u001b[39mread()\n\u001b[1;32m      4\u001b[0m \u001b[38;5;28mprint\u001b[39m(data)\n",
      "File \u001b[0;32m/opt/anaconda3/lib/python3.12/site-packages/IPython/core/interactiveshell.py:324\u001b[0m, in \u001b[0;36m_modified_open\u001b[0;34m(file, *args, **kwargs)\u001b[0m\n\u001b[1;32m    317\u001b[0m \u001b[38;5;28;01mif\u001b[39;00m file \u001b[38;5;129;01min\u001b[39;00m {\u001b[38;5;241m0\u001b[39m, \u001b[38;5;241m1\u001b[39m, \u001b[38;5;241m2\u001b[39m}:\n\u001b[1;32m    318\u001b[0m     \u001b[38;5;28;01mraise\u001b[39;00m \u001b[38;5;167;01mValueError\u001b[39;00m(\n\u001b[1;32m    319\u001b[0m         \u001b[38;5;124mf\u001b[39m\u001b[38;5;124m\"\u001b[39m\u001b[38;5;124mIPython won\u001b[39m\u001b[38;5;124m'\u001b[39m\u001b[38;5;124mt let you open fd=\u001b[39m\u001b[38;5;132;01m{\u001b[39;00mfile\u001b[38;5;132;01m}\u001b[39;00m\u001b[38;5;124m by default \u001b[39m\u001b[38;5;124m\"\u001b[39m\n\u001b[1;32m    320\u001b[0m         \u001b[38;5;124m\"\u001b[39m\u001b[38;5;124mas it is likely to crash IPython. If you know what you are doing, \u001b[39m\u001b[38;5;124m\"\u001b[39m\n\u001b[1;32m    321\u001b[0m         \u001b[38;5;124m\"\u001b[39m\u001b[38;5;124myou can use builtins\u001b[39m\u001b[38;5;124m'\u001b[39m\u001b[38;5;124m open.\u001b[39m\u001b[38;5;124m\"\u001b[39m\n\u001b[1;32m    322\u001b[0m     )\n\u001b[0;32m--> 324\u001b[0m \u001b[38;5;28;01mreturn\u001b[39;00m io_open(file, \u001b[38;5;241m*\u001b[39margs, \u001b[38;5;241m*\u001b[39m\u001b[38;5;241m*\u001b[39mkwargs)\n",
      "\u001b[0;31mFileNotFoundError\u001b[0m: [Errno 2] No such file or directory: './test_file.txt'"
     ]
    }
   ],
   "source": [
    "# 텍스트 - 파일 열기 오류 1\n",
    "f = open(\"./test_file.txt\", 'r')\n",
    "data = f.read()\n",
    "print(data)\n",
    "f.close()"
   ]
  },
  {
   "cell_type": "code",
   "execution_count": 11,
   "metadata": {},
   "outputs": [
    {
     "name": "stdout",
     "output_type": "stream",
     "text": [
      "<class 'str'>\n",
      "입력 파일의 이름:  words_file.txt\n",
      "고유한 단어의 개수:  37\n",
      "고유한 단어들:  {'miles', 'artificial', 'to', 'language', 'versatile', 'jumps', 'question', 'single', 'over', 'be', 'that', 'dog', 'powerful', 'quick', 'in', 'begins', 'brown', 'or', 'step', 'programming', 'remarkable', 'lazy', 'with', 'a', 'is', 'python', 'and', 'of', 'world', 'fox', 'journey', 'thousand', 'transforming', 'the', 'not', 'intelligence', 'ways'}\n"
     ]
    }
   ],
   "source": [
    "\"\"\"\n",
    "# 텍스트 - 실습\n",
    "# words_file.txt 내용\n",
    "The quick brown fox jumps over the lazy dog.\n",
    "Python is a powerful and versatile programming language.\n",
    "Artificial intelligence is transforming the world in remarkable ways.\n",
    "A journey of a thousand miles begins with a single step.\n",
    "To be or not to be, that is the question.\n",
    "\"\"\"\n",
    "\n",
    "# 문자열\n",
    "data = ['The quick brown fox jumps over the lazy dog.', \n",
    "'Python is a powerful and versatile programming language.',\n",
    "'Artificial intelligence is transforming the world in remarkable ways.',\n",
    "'A journey of a thousand miles begins with a single step.',\n",
    "'To be or not to be, that is the question.']\n",
    "\n",
    "'''\n",
    "data = (\n",
    "    'The quick brown fox jumps over the lazy dog.'\n",
    "    'Python is a powerful and versatile programming language.'\n",
    "    'Artificial intelligence is transforming the world in remarkable ways.'\n",
    "    'A journey of a thousand miles begins with a single step.'\n",
    "    'To be or not to be, that is the question.'\n",
    ")\n",
    "\n",
    "data = \"\"\"The quick brown fox jumps over the lazy dog.\n",
    "Python is a powerful and versatile programming language.\n",
    "Artificial intelligence is transforming the world in remarkable ways.\n",
    "A journey of a thousand miles begins with a single step.\n",
    "To be or not to be, that is the question.\"\"\"\n",
    "'''\n",
    "\n",
    "#data = data.split('.')\n",
    "#print(type(data))\n",
    "#print(data)\n",
    "\n",
    "# file write\n",
    "fname = \"words_file.txt\"\n",
    "with open(fname, 'w') as f:\n",
    "    i = 0\n",
    "    while i < len(data):\n",
    "        f.write(data[i]+\"\\n\")\n",
    "        i += 1\n",
    "\n",
    "# processing function\n",
    "def find_unique_word(fname):\n",
    "\n",
    "    try:\n",
    "        with open(fname, 'r') as f:\n",
    "            file = f.read() # string\n",
    "\n",
    "            # 단어 분리 및 비교를 위해 소문자로 모두 변경\n",
    "            words = file.lower().split()\n",
    "            \n",
    "            # 구두점 제거\n",
    "            clean_words = [word.strip('.,!?;:') for word in words]\n",
    "\n",
    "            # set 자료형 이용하여 중복 문자 제거\n",
    "            unique_words = set(clean_words)\n",
    "\n",
    "    except FileNotFoundError:\n",
    "        print(\"%s 파일을 찾을 수 없습니다.\" % str(fname))\n",
    "\n",
    "    return unique_words\n",
    "\n",
    "unique_words = find_unique_word(fname)\n",
    "print(\"입력 파일의 이름: \", fname)\n",
    "print(\"고유한 단어의 개수: \", len(unique_words))\n",
    "print(\"고유한 단어들: \", unique_words)"
   ]
  },
  {
   "cell_type": "code",
   "execution_count": 19,
   "metadata": {},
   "outputs": [
    {
     "name": "stdout",
     "output_type": "stream",
     "text": [
      "파일을 찾을 수 없습니다. 경로를 확인해주세요.\n"
     ]
    }
   ],
   "source": [
    "# 텍스트 - 파일 열기 오류 2\n",
    "# 예외 처리\n",
    "\n",
    "try:\n",
    "    # 파일 열기 시도\n",
    "    with open(\"./test_file.txt\", 'r') as f:\n",
    "        while True:\n",
    "            line = f.readline()\n",
    "            if not line:  # 파일 끝에 도달하면 루프 종료\n",
    "                break\n",
    "            print(line)\n",
    "\n",
    "# 파일이 존재하지 않을 때의 예외 처리\n",
    "except FileNotFoundError:\n",
    "    print(\"파일을 찾을 수 없습니다. 경로를 확인해주세요.\")\n",
    "\n",
    "# 기타 예외 처리\n",
    "except Exception as e:\n",
    "    print(f\"예기치 않은 오류가 발생했습니다: {e}\")"
   ]
  },
  {
   "cell_type": "code",
   "execution_count": 20,
   "metadata": {},
   "outputs": [
    {
     "name": "stdout",
     "output_type": "stream",
     "text": [
      "0으로 나눌 수 없습니다.\n",
      "프로그램 종료\n"
     ]
    }
   ],
   "source": [
    "# 참고 - 예외 처리 \n",
    "try:\n",
    "    # 예외가 발생할 가능성이 있는 코드\n",
    "    result = 10 / 0\n",
    "except ZeroDivisionError:\n",
    "    # 0으로 나누는 오류 처리\n",
    "    print(\"0으로 나눌 수 없습니다.\")\n",
    "else:\n",
    "    # 예외가 발생하지 않았을 때 실행\n",
    "    print(\"연산 성공:\", result)\n",
    "finally:\n",
    "    # 항상 실행되는 블록 (예외 발생 여부와 무관)\n",
    "    print(\"프로그램 종료\")\n"
   ]
  }
 ],
 "metadata": {
  "kernelspec": {
   "display_name": "base",
   "language": "python",
   "name": "python3"
  },
  "language_info": {
   "codemirror_mode": {
    "name": "ipython",
    "version": 3
   },
   "file_extension": ".py",
   "mimetype": "text/x-python",
   "name": "python",
   "nbconvert_exporter": "python",
   "pygments_lexer": "ipython3",
   "version": "3.12.2"
  }
 },
 "nbformat": 4,
 "nbformat_minor": 2
}

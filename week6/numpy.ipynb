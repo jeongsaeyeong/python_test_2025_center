{
 "cells": [
  {
   "cell_type": "markdown",
   "metadata": {},
   "source": [
    "# PY Week 6: NumPy - Numerical Data Analysis"
   ]
  },
  {
   "cell_type": "code",
   "execution_count": 22,
   "metadata": {},
   "outputs": [
    {
     "name": "stdout",
     "output_type": "stream",
     "text": [
      "Numpy 벡터화 연산 시간: 0.31초\n",
      "Python 리스트 연산 시간: 9.58초\n"
     ]
    }
   ],
   "source": [
    "# Python List와 Numpy ndarray 연산속도(시간) 비교\n",
    "\n",
    "import numpy as np\n",
    "import time\n",
    "\n",
    "elements = 10**7\n",
    "\n",
    "# Numpy 벡터화 방식\n",
    "start_time = time.time()\n",
    "ndarray_1 = np.random.uniform(0, 1, elements)\n",
    "ndarray_2 = np.random.uniform(0, 1, elements)\n",
    "result_ndarray = ndarray_1 + ndarray_2\n",
    "print(f\"Numpy 벡터화 연산 시간: {time.time() - start_time:.2f}초\")\n",
    "\n",
    "# Python 리스트 방식\n",
    "import random\n",
    "start_time = time.time()\n",
    "list_1 = [random.uniform(0, 1) for _ in range(elements)]\n",
    "list_2 = [random.uniform(0, 1) for _ in range(elements)]\n",
    "result_list = [list_1[i] + list_2[i] for i in range(elements)]\n",
    "print(f\"Python 리스트 연산 시간: {time.time() - start_time:.2f}초\")"
   ]
  },
  {
   "cell_type": "code",
   "execution_count": 19,
   "metadata": {},
   "outputs": [
    {
     "data": {
      "text/plain": [
       "[10, 20, 30, 70, 80, 90]"
      ]
     },
     "execution_count": 19,
     "metadata": {},
     "output_type": "execute_result"
    }
   ],
   "source": [
    "# List + 연산\n",
    "mid_scores = [10,20,30]\n",
    "final_scores = [70,80,90]\n",
    "\n",
    "total = mid_scores + final_scores\n",
    "total"
   ]
  },
  {
   "cell_type": "code",
   "execution_count": 17,
   "metadata": {},
   "outputs": [
    {
     "name": "stdout",
     "output_type": "stream",
     "text": [
      "시험성적의 합계 : [ 80 100 120]\n",
      "시험성적의 평균 : [40. 50. 60.]\n"
     ]
    }
   ],
   "source": [
    "# ndarray + 연산\n",
    "import numpy as np\n",
    "\n",
    "mid_scores = np.array([10,20,30])\n",
    "final_scores = np.array([70,80,90])\n",
    "\n",
    "total = mid_scores + final_scores\n",
    "print('시험성적의 합계 :', total)    # 각 요소별 합계가 나타난다\n",
    "print('시험성적의 평균 :', total/2)  # 모든 요소를 2로 나눈다"
   ]
  },
  {
   "cell_type": "code",
   "execution_count": 2,
   "metadata": {},
   "outputs": [
    {
     "name": "stdout",
     "output_type": "stream",
     "text": [
      "(3,)\n",
      "1\n",
      "int64\n",
      "3\n",
      "8\n"
     ]
    }
   ],
   "source": [
    "# ndarray 기본 사용법\n",
    "\n",
    "# Numpy 라이브러리 불러옴\n",
    "import numpy as np\n",
    "\n",
    "# ndarray 객체 생성\n",
    "a = np.array([1, 2, 3])       \n",
    "\n",
    "print(a.shape)      # a 객체의 형태(shape): 1차원 배열, 길이가 3\n",
    "print(a.ndim)       # a 객체의 차원(n-dimension)\n",
    "print(a.dtype)      # a 객체의 내부 자료형(data type)\n",
    "print(a.size)       # a 객체의 전체 크기 = 항목의 수(size)\n",
    "print(a.itemsize)   # a 객체의 내부 자료형이 차지하는 메모리 크기(bytes), 8 bytes = 64 bits로 하나의 elements 표현\n",
    "\n"
   ]
  },
  {
   "cell_type": "code",
   "execution_count": 8,
   "metadata": {},
   "outputs": [
    {
     "name": "stdout",
     "output_type": "stream",
     "text": [
      "<memory at 0x113e76200>\n",
      "(8,)\n"
     ]
    }
   ],
   "source": [
    "# ndarray 기본 사용법\n",
    "\n",
    "# Numpy 라이브러리 불러옴\n",
    "import numpy as np\n",
    "\n",
    "# ndarray 객체 생성\n",
    "a = np.array([1, 2, 3])  \n",
    "\n",
    "# 참고\n",
    "print(a.data)\n",
    "print(a.strides)"
   ]
  },
  {
   "cell_type": "code",
   "execution_count": 6,
   "metadata": {},
   "outputs": [
    {
     "name": "stdout",
     "output_type": "stream",
     "text": [
      "문제 1) array_1 = [0 1 2 3 4 5 6 7 8 9]\n",
      "문제 2) array_2 = [0 1 2 3 4 5 6 7 8 9]\n",
      "문제 3) array_3 = [0 2 4 6 8]\n",
      "문제 4) \n",
      "array_3의 shape : (5,)\n",
      "array_3의 ndim : 1\n",
      "array_3의 ctype : int64\n",
      "array_3의 size : 5\n",
      "array_3의 itemsize : 8\n"
     ]
    }
   ],
   "source": [
    "# 실습 - ndarray 객체를 생서하고 속성 확인\n",
    "\n",
    "import numpy as np\n",
    "\n",
    "# 1)\n",
    "array_1 = np.array([0, 1, 2, 3, 4, 5, 6, 7, 8, 9])\n",
    "print('문제 1) array_1 =', array_1)\n",
    "\n",
    "# 2) ranage() 함수를 List 반환\n",
    "array_2 = np.array(range(10))\n",
    "print('문제 2) array_2 =', array_2)\n",
    "\n",
    "# 3)\n",
    "array_3 = np.array(range(0,10,2))\n",
    "print('문제 3) array_3 =', array_3)\n",
    "\n",
    "# 4)\n",
    "print('문제 4) ')\n",
    "print('array_3의 shape :', array_3.shape)\n",
    "print('array_3의 ndim :', array_3.ndim)\n",
    "print('array_3의 ctype :', array_3.dtype)\n",
    "print('array_3의 size :', array_3.size)\n",
    "print('array_3의 itemsize :',array_3.itemsize)"
   ]
  },
  {
   "cell_type": "code",
   "execution_count": 33,
   "metadata": {},
   "outputs": [
    {
     "name": "stdout",
     "output_type": "stream",
     "text": [
      "[320 350 330]\n",
      "[440 500 460]\n",
      "[462. 525. 483.]\n"
     ]
    }
   ],
   "source": [
    "# 배열 연산\n",
    "\n",
    "import numpy as np\n",
    "\n",
    "salary = np.array([220, 250, 230])\n",
    "\n",
    "salary = salary + 100\n",
    "print(salary)\n",
    "\n",
    "salary = np.array([220, 250, 230])\n",
    "salary = salary * 2\n",
    "print(salary)\n",
    "\n",
    "salary = np.array([220, 250, 230]) \n",
    "salary = salary * 2.1 \n",
    "print(salary)"
   ]
  },
  {
   "cell_type": "code",
   "execution_count": 36,
   "metadata": {},
   "outputs": [
    {
     "name": "stdout",
     "output_type": "stream",
     "text": [
      "[11 12 13]\n",
      "[[2 4 6]\n",
      " [5 7 9]]\n",
      "[[2 3 4]\n",
      " [3 4 5]\n",
      " [4 5 6]]\n"
     ]
    }
   ],
   "source": [
    "# ndarray broadcasting\n",
    "\n",
    "import numpy as np\n",
    "\n",
    "# (1) 스칼라와 배열의 연산\n",
    "a = np.array([1, 2, 3])\n",
    "result = a + 10  # 스칼라 10이 배열 a의 모든 요소에 더해짐\n",
    "print(result)  # [11 12 13]\n",
    "\n",
    "# (2) 다른 크기의 배열 연산\n",
    "a = np.array([[1, 2, 3], \n",
    "              [4, 5, 6]]) # (2,3)\n",
    "b = np.array([1, 2, 3])   # (3,) 모양의 1차원 배열 -> (2,3)으로 가상 확장 되어 element-wise하게 더해짐\n",
    "\n",
    "result = a + b\n",
    "print(result)\n",
    "\n",
    "# (3) 차원 확장과 브로드캐스팅\n",
    "a = np.array([1, 2, 3])  # (3,) 모양 -> (3,3)로 가상 확장: [[1,2,3] [1,2,3] [1,2,3]]\n",
    "b = np.array([[1], [2], [3]])  # (3, 1) 모양 -> (3,3)로 가상 확장: [[1,1,1] [2,2,2] [3,3,3]]\n",
    "\n",
    "result = a + b\n",
    "print(result)\n",
    "\n"
   ]
  },
  {
   "cell_type": "code",
   "execution_count": 38,
   "metadata": {},
   "outputs": [
    {
     "name": "stdout",
     "output_type": "stream",
     "text": [
      "93\n",
      "99\n",
      "[72 93 94]\n",
      "[94 89 78 99]\n",
      "[89 78]\n"
     ]
    }
   ],
   "source": [
    "# ndarray - indexing and slicing\n",
    "\n",
    "import numpy as np\n",
    "\n",
    "scores = np.array([88, 72, 93, 94, 89, 78, 99]) \n",
    "\n",
    "print(scores[2])\n",
    "print(scores[-1])\n",
    "print(scores[1:4])     # 첫번째, 두번째, 세번째, 네번째 항목을 슬라이싱 함\n",
    "print(scores[3:])      # 마지막 인덱스를 생략하면 디폴트 값은 -1임\n",
    "print(scores[4:-1])    # 마지막 인덱스 -1을 사용"
   ]
  },
  {
   "cell_type": "code",
   "execution_count": 39,
   "metadata": {},
   "outputs": [
    {
     "name": "stdout",
     "output_type": "stream",
     "text": [
      "[False False  True  True  True]\n",
      "[25 30 28]\n"
     ]
    }
   ],
   "source": [
    "# ndarray - logical indexing\n",
    "\n",
    "import numpy as np\n",
    "\n",
    "ages = np.array([18, 19, 25, 30, 28])\n",
    "\n",
    "y = ages > 20    # [False False True True True]\n",
    "print(y)\n",
    "\n",
    "y = ages[ages > 20]\n",
    "print(y)         # [25 30 28]"
   ]
  },
  {
   "cell_type": "code",
   "execution_count": 42,
   "metadata": {},
   "outputs": [
    {
     "name": "stdout",
     "output_type": "stream",
     "text": [
      "[[1, 2, 3], [4, 5, 6], [7, 8, 9]]\n",
      "[[1 2 3]\n",
      " [4 5 6]\n",
      " [7 8 9]]\n",
      "3\n"
     ]
    }
   ],
   "source": [
    "# ndarray - 2차원 행렬\n",
    "\n",
    "import numpy as np \n",
    "\n",
    "# List\n",
    "y = [[1,2,3], [4,5,6], [7,8,9]] \n",
    "print(y)\n",
    "\n",
    "# ndarray\n",
    "np_array = np.array(y) \n",
    "print(np_array)\n",
    "print(np_array[0][2])"
   ]
  },
  {
   "cell_type": "code",
   "execution_count": 73,
   "metadata": {},
   "outputs": [
    {
     "name": "stdout",
     "output_type": "stream",
     "text": [
      "3\n",
      "3\n"
     ]
    }
   ],
   "source": [
    "# ndarray - 2차원 행렬\n",
    "# 인덱싱 2가지 스타일\n",
    "\n",
    "import numpy as np \n",
    "\n",
    "y = [[1,2,3], [4,5,6], [7,8,9]] \n",
    "np_array = np.array(y) \n",
    "\n",
    "print(np_array[0][2])\n",
    "print(np_array[0,2])"
   ]
  },
  {
   "cell_type": "code",
   "execution_count": 72,
   "metadata": {},
   "outputs": [
    {
     "name": "stdout",
     "output_type": "stream",
     "text": [
      "[[1 2 3]]\n",
      "[[1]\n",
      " [4]]\n"
     ]
    }
   ],
   "source": [
    "# ndarray - 2차원 행렬\n",
    "# 슬라이싱 2가지 스타일\n",
    "\n",
    "import numpy as np \n",
    "\n",
    "y = [[1,2,3], [4,5,6], [7,8,9]] \n",
    "np_array = np.array(y) \n",
    "\n",
    "print(np_array[0:2][0:1])\n",
    "print(np_array[0:2,0:1])\n"
   ]
  },
  {
   "cell_type": "code",
   "execution_count": 53,
   "metadata": {},
   "outputs": [
    {
     "ename": "ValueError",
     "evalue": "invalid literal for int() with base 10: 'abc'",
     "output_type": "error",
     "traceback": [
      "\u001b[0;31m---------------------------------------------------------------------------\u001b[0m",
      "\u001b[0;31mValueError\u001b[0m                                Traceback (most recent call last)",
      "\u001b[0;32m/var/folders/1c/fy58b6q97m5gxqscv17qz5040000gn/T/ipykernel_46582/816142742.py\u001b[0m in \u001b[0;36m<module>\u001b[0;34m\u001b[0m\n\u001b[1;32m      8\u001b[0m \u001b[0mnp_array\u001b[0m\u001b[0;34m[\u001b[0m\u001b[0;36m1\u001b[0m\u001b[0;34m,\u001b[0m \u001b[0;36m1\u001b[0m\u001b[0;34m]\u001b[0m \u001b[0;34m=\u001b[0m \u001b[0;36m3.141592\u001b[0m \u001b[0;31m# 정수로 변형되어 저장\u001b[0m\u001b[0;34m\u001b[0m\u001b[0;34m\u001b[0m\u001b[0m\n\u001b[1;32m      9\u001b[0m \u001b[0;34m\u001b[0m\u001b[0m\n\u001b[0;32m---> 10\u001b[0;31m \u001b[0mstr_1\u001b[0m \u001b[0;34m=\u001b[0m \u001b[0mint\u001b[0m\u001b[0;34m(\u001b[0m\u001b[0;34m'abc'\u001b[0m\u001b[0;34m)\u001b[0m\u001b[0;34m\u001b[0m\u001b[0;34m\u001b[0m\u001b[0m\n\u001b[0m\u001b[1;32m     11\u001b[0m \u001b[0;34m\u001b[0m\u001b[0m\n\u001b[1;32m     12\u001b[0m \u001b[0mprint\u001b[0m\u001b[0;34m(\u001b[0m\u001b[0mnp_array\u001b[0m\u001b[0;34m)\u001b[0m\u001b[0;34m\u001b[0m\u001b[0;34m\u001b[0m\u001b[0m\n",
      "\u001b[0;31mValueError\u001b[0m: invalid literal for int() with base 10: 'abc'"
     ]
    }
   ],
   "source": [
    "# ndarray - 2차원 행렬\n",
    "# 동일한 자료형만 저장 가능\n",
    "\n",
    "import numpy as np \n",
    "\n",
    "np_array = np.array([[1,2,3], [4,5,6], [7,8,9]]) \n",
    "np_array[0, 0] = 12\n",
    "np_array[1, 1] = 3.141592 # 정수로 변형되어 저장\n",
    "\n",
    "print(np_array)"
   ]
  },
  {
   "cell_type": "code",
   "execution_count": 65,
   "metadata": {},
   "outputs": [
    {
     "name": "stdout",
     "output_type": "stream",
     "text": [
      "[[1 2 3]\n",
      " [4 5 6]\n",
      " [7 8 9]]\n",
      "[[False False False]\n",
      " [False False  True]\n",
      " [ True  True  True]]\n",
      "[6 7 8 9]\n",
      "[3 6 9]\n",
      "[False  True  True]\n",
      "[2 4 6 8]\n"
     ]
    }
   ],
   "source": [
    "# ndarray - 2차원 행렬\n",
    "# 논리적 인덱싱\n",
    "import numpy as np \n",
    "\n",
    "np_array = np.array([[1,2,3], [4,5,6], [7,8,9]]) \n",
    "\n",
    "print(np_array)\n",
    "print(np_array > 5)\n",
    "print(np_array[np_array > 5]) # 1차원 배열로 반환\n",
    "print(np_array[:, 2]) # 1차원 배열로 반환\n",
    "print(np_array[:, 2] > 5)\n",
    "print(np_array[np_array % 2 == 0]) # 1차원 배열로 반환"
   ]
  },
  {
   "cell_type": "code",
   "execution_count": null,
   "metadata": {},
   "outputs": [
    {
     "name": "stdout",
     "output_type": "stream",
     "text": [
      "[False False  True  True]\n",
      "[[12 13 14]\n",
      " [17 18 19]]\n"
     ]
    }
   ],
   "source": [
    "# ndarray - 2차원 행렬\n",
    "# 논리적 슬라이싱\n",
    "import numpy as np\n",
    "\n",
    "import numpy as np\n",
    "\n",
    "A = np.array([[1, 2, 3, 4, 5],\n",
    "              [6, 7, 8, 9, 10],\n",
    "              [11, 12, 13, 14, 15],\n",
    "              [16, 17, 18, 19, 20]])\n",
    "\n",
    "# \"행은 논리 조건\" + \"슬라이스\" 결합\n",
    "# 첫 열 값이 10 이상인 행들만 고르고, 열은 1~3 인덱스 구간만\n",
    "\n",
    "row_mask = A[:, 0] >= 10      # shape (4,)\n",
    "print(row_mask)\n",
    "\n",
    "sub_A = A[row_mask, 1:4]      # (행: 마스크) x (열: 슬라이스)\n",
    "print(sub_A)"
   ]
  },
  {
   "cell_type": "code",
   "execution_count": 83,
   "metadata": {},
   "outputs": [
    {
     "name": "stdout",
     "output_type": "stream",
     "text": [
      "[0 1 2 3 4]\n",
      "[1 2 3 4 5]\n",
      "[1 3 5 7 9]\n",
      "[0 1 2 3 4]\n",
      "[0 1 2 3 4]\n"
     ]
    }
   ],
   "source": [
    "\"\"\"\n",
    "Numpy - arange()\n",
    "\"\"\"\n",
    "\n",
    "import numpy as np \n",
    "\n",
    "# arange()\n",
    "print(np.arange(5))\n",
    "print(np.arange(1, 6))\n",
    "print(np.arange(1, 10, 2))\n",
    "print(np.arange(5))\n",
    "\n",
    "# range() - 반복 가능 객체를 반환\n",
    "#range(5)\n",
    "#range(0, 5, 2)\n",
    "#list(range(5))\n",
    "print(np.array(range(5)))\n"
   ]
  },
  {
   "cell_type": "code",
   "execution_count": 88,
   "metadata": {},
   "outputs": [
    {
     "data": {
      "text/plain": [
       "array([0.        , 0.02040816, 0.04081633, 0.06122449, 0.08163265,\n",
       "       0.10204082, 0.12244898, 0.14285714, 0.16326531, 0.18367347,\n",
       "       0.20408163, 0.2244898 , 0.24489796, 0.26530612, 0.28571429,\n",
       "       0.30612245, 0.32653061, 0.34693878, 0.36734694, 0.3877551 ,\n",
       "       0.40816327, 0.42857143, 0.44897959, 0.46938776, 0.48979592,\n",
       "       0.51020408, 0.53061224, 0.55102041, 0.57142857, 0.59183673,\n",
       "       0.6122449 , 0.63265306, 0.65306122, 0.67346939, 0.69387755,\n",
       "       0.71428571, 0.73469388, 0.75510204, 0.7755102 , 0.79591837,\n",
       "       0.81632653, 0.83673469, 0.85714286, 0.87755102, 0.89795918,\n",
       "       0.91836735, 0.93877551, 0.95918367, 0.97959184, 1.        ])"
      ]
     },
     "execution_count": 88,
     "metadata": {},
     "output_type": "execute_result"
    }
   ],
   "source": [
    "\"\"\"\n",
    "Numpy - linespace()\n",
    "\"\"\"\n",
    "\n",
    "np.linspace(0, 1, 50)"
   ]
  },
  {
   "cell_type": "code",
   "execution_count": 89,
   "metadata": {},
   "outputs": [
    {
     "data": {
      "text/plain": [
       "array([1.00000000e+00, 1.26485522e+00, 1.59985872e+00, 2.02358965e+00,\n",
       "       2.55954792e+00, 3.23745754e+00, 4.09491506e+00, 5.17947468e+00,\n",
       "       6.55128557e+00, 8.28642773e+00, 1.04811313e+01, 1.32571137e+01,\n",
       "       1.67683294e+01, 2.12095089e+01, 2.68269580e+01, 3.39322177e+01,\n",
       "       4.29193426e+01, 5.42867544e+01, 6.86648845e+01, 8.68511374e+01,\n",
       "       1.09854114e+02, 1.38949549e+02, 1.75751062e+02, 2.22299648e+02,\n",
       "       2.81176870e+02, 3.55648031e+02, 4.49843267e+02, 5.68986603e+02,\n",
       "       7.19685673e+02, 9.10298178e+02, 1.15139540e+03, 1.45634848e+03,\n",
       "       1.84206997e+03, 2.32995181e+03, 2.94705170e+03, 3.72759372e+03,\n",
       "       4.71486636e+03, 5.96362332e+03, 7.54312006e+03, 9.54095476e+03,\n",
       "       1.20679264e+04, 1.52641797e+04, 1.93069773e+04, 2.44205309e+04,\n",
       "       3.08884360e+04, 3.90693994e+04, 4.94171336e+04, 6.25055193e+04,\n",
       "       7.90604321e+04, 1.00000000e+05])"
      ]
     },
     "execution_count": 89,
     "metadata": {},
     "output_type": "execute_result"
    }
   ],
   "source": [
    "\"\"\"\n",
    "Numpy - logspace()\n",
    "\"\"\"\n",
    "np.logspace(0, 5, 50, base=10)"
   ]
  },
  {
   "cell_type": "code",
   "execution_count": 90,
   "metadata": {},
   "outputs": [
    {
     "data": {
      "image/png": "[encoded data removed]",
      "text/plain": [
       "<Figure size 432x288 with 1 Axes>"
      ]
     },
     "metadata": {
      "needs_background": "light"
     },
     "output_type": "display_data"
    }
   ],
   "source": [
    "import numpy as np\n",
    "import matplotlib.pyplot as plt\n",
    "\n",
    "x = np.logspace(0.1, 2, 100)  # 로그 스케일로 생성된 x값\n",
    "y = np.sqrt(x)  # y는 x의 제곱근\n",
    "\n",
    "plt.plot(x, y)\n",
    "plt.xscale('log')  # x축을 로그 스케일로 설정\n",
    "plt.yscale('log')  # y축도 로그 스케일로 설정\n",
    "plt.title(\"Log-Log Scale Plot\")\n",
    "plt.show()\n"
   ]
  },
  {
   "cell_type": "code",
   "execution_count": 99,
   "metadata": {},
   "outputs": [
    {
     "name": "stdout",
     "output_type": "stream",
     "text": [
      "[ 0  1  2  3  4  5  6  7  8  9 10 11]\n",
      "[[ 0  1  2  3]\n",
      " [ 4  5  6  7]\n",
      " [ 8  9 10 11]]\n",
      "[[ 0  1]\n",
      " [ 2  3]\n",
      " [ 4  5]\n",
      " [ 6  7]\n",
      " [ 8  9]\n",
      " [10 11]]\n",
      "[[[ 0  1]\n",
      "  [ 2  3]\n",
      "  [ 4  5]]\n",
      "\n",
      " [[ 6  7]\n",
      "  [ 8  9]\n",
      "  [10 11]]]\n"
     ]
    }
   ],
   "source": [
    "\"\"\" \n",
    "ndarray - reshape(), flatten()\n",
    "\"\"\"\n",
    "import numpy as np\n",
    "\n",
    "y = np.arange(12) \n",
    "print(y)\n",
    "print(y.reshape(3, 4))     # 3x4 2차원 배열로 변환\n",
    "print(y.reshape(6, -1))    # -1: 열(column)을 크기 자동으로 설정\n",
    "print(y.reshape(2, 3, -1)) # 3차원 배열"
   ]
  },
  {
   "cell_type": "code",
   "execution_count": 96,
   "metadata": {},
   "outputs": [
    {
     "ename": "ValueError",
     "evalue": "cannot reshape array of size 12 into shape (7,2)",
     "output_type": "error",
     "traceback": [
      "\u001b[0;31m---------------------------------------------------------------------------\u001b[0m",
      "\u001b[0;31mValueError\u001b[0m                                Traceback (most recent call last)",
      "\u001b[0;32m/var/folders/1c/fy58b6q97m5gxqscv17qz5040000gn/T/ipykernel_46582/2999430357.py\u001b[0m in \u001b[0;36m<module>\u001b[0;34m\u001b[0m\n\u001b[0;32m----> 1\u001b[0;31m \u001b[0mprint\u001b[0m\u001b[0;34m(\u001b[0m\u001b[0my\u001b[0m\u001b[0;34m.\u001b[0m\u001b[0mreshape\u001b[0m\u001b[0;34m(\u001b[0m\u001b[0;36m7\u001b[0m\u001b[0;34m,\u001b[0m \u001b[0;36m2\u001b[0m\u001b[0;34m)\u001b[0m\u001b[0;34m)\u001b[0m\u001b[0;34m\u001b[0m\u001b[0;34m\u001b[0m\u001b[0m\n\u001b[0m",
      "\u001b[0;31mValueError\u001b[0m: cannot reshape array of size 12 into shape (7,2)"
     ]
    }
   ],
   "source": [
    "\"\"\" \n",
    "ndarray - reshape(), flatten()\n",
    "\"\"\"\n",
    "print(y.reshape(7, 2)) # 7x2는 14개의 elements가 필요"
   ]
  },
  {
   "cell_type": "code",
   "execution_count": 100,
   "metadata": {},
   "outputs": [
    {
     "name": "stdout",
     "output_type": "stream",
     "text": [
      "[ 0  1  2  3  4  5  6  7  8  9 10 11]\n",
      "[ 0  1  2  3  4  5  6  7  8  9 10 11]\n"
     ]
    }
   ],
   "source": [
    "\"\"\" \n",
    "ndarray - reshape(), flatten()\n",
    "\"\"\"\n",
    "x = y.reshape(3, 4)\n",
    "print(x.flatten()) # 1차월 배열로 변환\n",
    "\n",
    "z = y.reshape(2, 3, -1)\n",
    "print(z.flatten()) # 1차월 배열로 변환"
   ]
  },
  {
   "cell_type": "code",
   "execution_count": 108,
   "metadata": {},
   "outputs": [
    {
     "data": {
      "text/plain": [
       "array([0.54340494, 0.27836939, 0.42451759, 0.84477613, 0.00471886])"
      ]
     },
     "execution_count": 108,
     "metadata": {},
     "output_type": "execute_result"
    }
   ],
   "source": [
    "\"\"\" \n",
    "ndarray - random number\n",
    "\"\"\"\n",
    "import numpy as np\n",
    "np.random.seed(100)\n",
    "np.random.rand(5)"
   ]
  },
  {
   "cell_type": "code",
   "execution_count": 116,
   "metadata": {},
   "outputs": [
    {
     "name": "stdout",
     "output_type": "stream",
     "text": [
      "[[0.54340494 0.27836939 0.42451759]\n",
      " [0.84477613 0.00471886 0.12156912]\n",
      " [0.67074908 0.82585276 0.13670659]\n",
      " [0.57509333 0.89132195 0.20920212]\n",
      " [0.18532822 0.10837689 0.21969749]]\n",
      "<class 'numpy.ndarray'>\n",
      "[19.78623785 18.11683149 11.71941013 18.16224749 12.74073747]\n",
      "<class 'numpy.ndarray'>\n",
      "[4 4 4 2 2 6 4 1 3 2]\n",
      "<class 'numpy.ndarray'>\n",
      "[[10  4  3  6  9  2  1]\n",
      " [ 8  7  3  1  9  3  6]\n",
      " [ 2  9  2  6  5  3  9]\n",
      " [ 4  6  1 10  4  7  4]]\n",
      "<class 'numpy.ndarray'>\n"
     ]
    }
   ],
   "source": [
    "\"\"\" \n",
    "ndarray - random number\n",
    "\"\"\"\n",
    "import numpy as np\n",
    "\n",
    "np.random.seed(100)\n",
    "x = np.random.rand(5, 3)\n",
    "\n",
    "a = 10\n",
    "b = 20 \n",
    "y = (b - a) * np.random.rand(5) + a\n",
    "\n",
    "i = np.random.randint(1, 7, size=10)\n",
    "j = np.random.randint(1, 11, size=(4, 7))\n",
    "\n",
    "print(x)\n",
    "print(type(x))\n",
    "print(y)\n",
    "print(type(y))\n",
    "print(i)\n",
    "print(type(i))\n",
    "print(j)\n",
    "print(type(j))"
   ]
  },
  {
   "cell_type": "code",
   "execution_count": 121,
   "metadata": {},
   "outputs": [
    {
     "data": {
      "text/plain": [
       "array([ 0.54801802,  0.09566247, -1.59203835,  0.69948798,  0.11292401])"
      ]
     },
     "execution_count": 121,
     "metadata": {},
     "output_type": "execute_result"
    }
   ],
   "source": [
    "\"\"\" \n",
    "ndarray - random number\n",
    "\"\"\"\n",
    "import numpy as np\n",
    "np.random.randn(5)"
   ]
  },
  {
   "cell_type": "code",
   "execution_count": 119,
   "metadata": {},
   "outputs": [
    {
     "data": {
      "text/plain": [
       "array([[ 0.77490057, -0.68505167,  1.7916856 , -0.53234326],\n",
       "       [-0.45067749,  1.12810594, -0.07843136, -2.77221849],\n",
       "       [-1.15493051,  0.72325843,  0.25862332,  0.0264514 ],\n",
       "       [ 0.14606979, -0.55584683, -0.09627391, -0.99494601],\n",
       "       [-0.85438744,  1.22421297,  0.61155678,  0.0623417 ]])"
      ]
     },
     "execution_count": 119,
     "metadata": {},
     "output_type": "execute_result"
    }
   ],
   "source": [
    "\"\"\" \n",
    "ndarray - random number\n",
    "\"\"\"\n",
    "np.random.randn(5,4)"
   ]
  },
  {
   "cell_type": "code",
   "execution_count": 120,
   "metadata": {},
   "outputs": [
    {
     "data": {
      "text/plain": [
       "array([[11.33133404, 10.92712773,  8.17184923, 11.78395515],\n",
       "       [ 9.50855947, 12.67426745,  7.95629187,  5.73680545],\n",
       "       [10.17834519,  9.85918561,  7.04813015,  9.73549565],\n",
       "       [10.78666128, 14.8501256 ,  6.65943633,  8.16835285],\n",
       "       [ 6.49121286, 12.79440456,  6.80379102,  9.38052678]])"
      ]
     },
     "execution_count": 120,
     "metadata": {},
     "output_type": "execute_result"
    }
   ],
   "source": [
    "\"\"\" \n",
    "ndarray - random number\n",
    "\"\"\"\n",
    "mu = 10\n",
    "sigma = 2\n",
    "randoms = mu + sigma * np.random.randn(5, 4)\n",
    "randoms"
   ]
  },
  {
   "cell_type": "code",
   "execution_count": 123,
   "metadata": {},
   "outputs": [
    {
     "name": "stdout",
     "output_type": "stream",
     "text": [
      "174.8821968632253\n",
      "174.82510334045753\n"
     ]
    }
   ],
   "source": [
    "\"\"\" \n",
    "ndarray - mean and median\n",
    "\"\"\"\n",
    "import numpy as np\n",
    "\n",
    "# 정규 분포를 따르는 데이터 생성\n",
    "m = 175 \n",
    "sigma = 10 \n",
    "heights = m+sigma*np.random.randn(10000)\n",
    "\n",
    "# 평균과 중앙값 구하기\n",
    "print(np.mean(heights))\n",
    "print(np.median(heights))"
   ]
  },
  {
   "cell_type": "code",
   "execution_count": 124,
   "metadata": {},
   "outputs": [
    {
     "name": "stdout",
     "output_type": "stream",
     "text": [
      "6.8\n",
      "3.0\n"
     ]
    }
   ],
   "source": [
    "\"\"\" \n",
    "ndarray - mean and median\n",
    "\"\"\"\n",
    "import numpy as np\n",
    "\n",
    "array_data = np.array([ 3, 7, 1, 2, 21])\n",
    "print(np.mean(array_data))\n",
    "print(np.median(array_data))"
   ]
  },
  {
   "cell_type": "code",
   "execution_count": 125,
   "metadata": {},
   "outputs": [
    {
     "name": "stdout",
     "output_type": "stream",
     "text": [
      "[[1.         0.96764439]\n",
      " [0.96764439 1.        ]]\n"
     ]
    }
   ],
   "source": [
    "\"\"\" \n",
    "ndarray - corrcoef(x,y): correlation 계산\n",
    "\"\"\"\n",
    "\n",
    "import numpy as np \n",
    "\n",
    "x = [ i for i in range(100) ]       # 몸무게\n",
    "y = [ i ** 2 for i in range(100) ]  # 키\n",
    "\n",
    "result = np.corrcoef(x, y)\n",
    "print(result)"
   ]
  }
 ],
 "metadata": {
  "kernelspec": {
   "display_name": "torch_env_py310",
   "language": "python",
   "name": "python3"
  },
  "language_info": {
   "codemirror_mode": {
    "name": "ipython",
    "version": 3
   },
   "file_extension": ".py",
   "mimetype": "text/x-python",
   "name": "python",
   "nbconvert_exporter": "python",
   "pygments_lexer": "ipython3",
   "version": "3.10.16"
  }
 },
 "nbformat": 4,
 "nbformat_minor": 2
}
